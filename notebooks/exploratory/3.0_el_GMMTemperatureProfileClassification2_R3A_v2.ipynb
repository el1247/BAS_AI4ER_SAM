{
 "cells": [
  {
   "cell_type": "markdown",
   "id": "6df9348a",
   "metadata": {},
   "source": [
    "# Temperature Profile Classification - 2 Class system - r3\n",
    "GMM classification of Southern Ocean Argo float temperature profile data. This notebook looks at automatic generation for PCA N values, with 2 classes.<br><br>\n",
    "### Dask import"
   ]
  },
  {
   "cell_type": "markdown",
   "id": "d18ef72a",
   "metadata": {},
   "source": [
    "<br>"
   ]
  },
  {
   "cell_type": "markdown",
   "id": "ec967837",
   "metadata": {},
   "source": [
    "### Choices for data"
   ]
  },
  {
   "cell_type": "code",
   "execution_count": 1,
   "id": "b0ec7a22",
   "metadata": {},
   "outputs": [],
   "source": [
    "#Experiment data for analysis\n",
    "dataVariableId = 'thetao'\n",
    "dataExperimentId = 'historical'\n",
    "dataSourceId = 'UKESM1-0-LL'\n",
    "dataInstitutionId = 'MOHC'\n",
    "approvedIds = [\"r3i1p1f2\"] #insert start of approved member_ids\n",
    "\n",
    "#File imports\n",
    "maskName = \"OceanMaskVolcello\"\n",
    "modelName = \"GMM_UK_2Class_R3_v2\"\n",
    "\n",
    "#Data definitions\n",
    "startDate = '1980-01'\n",
    "endDate = '2009-12'\n",
    "timeRange = slice(startDate, endDate)\n",
    "levSel = slice(0, 2000) #Selected levels to be investigated\n",
    "maxLat = -30 #Selected latitude to be investigated\n",
    "runIdSel = 0\n",
    "\n",
    "#Custom GMM variables\n",
    "saveModel = True #if true saves a model under model name. To work createModel has to be enabled.\n",
    "pcaThreshold = 0.98\n",
    "pcaNControl = 0 #set to int value to select, if set to 0 pcaThreshold is used to automatically assign value \n",
    "firstBicLoopControl = 10 #number of times bic value is calculated for each number of classes\n",
    "cvType = \"full\""
   ]
  },
  {
   "cell_type": "markdown",
   "id": "66e6fc7e",
   "metadata": {},
   "source": [
    "<br>"
   ]
  },
  {
   "cell_type": "markdown",
   "id": "699447fc",
   "metadata": {},
   "source": [
    "### Libaries and Modules\n",
    "Importing the necessary libaries and modules for the notebook."
   ]
  },
  {
   "cell_type": "code",
   "execution_count": 2,
   "id": "d660636a",
   "metadata": {
    "code_folding": [
     0
    ],
    "jupyter": {
     "source_hidden": true
    }
   },
   "outputs": [
    {
     "name": "stdout",
     "output_type": "stream",
     "text": [
      "Imports complete\n"
     ]
    }
   ],
   "source": [
    "#Import cell\n",
    "import calendar\n",
    "#import cartopy.crs as ccrs\n",
    "#import cartopy.feature as cfeature\n",
    "import dask.dataframe as dd\n",
    "import fsspec\n",
    "import matplotlib.dates as mdates\n",
    "import matplotlib as mpl ###\n",
    "import numpy as np\n",
    "import matplotlib.pyplot as plt\n",
    "import pandas as pd\n",
    "import pickle as pk\n",
    "import matplotlib.ticker as ticker\n",
    "import xarray as xr\n",
    "import zarr\n",
    "\n",
    "from dask import config\n",
    "from dask import delayed\n",
    "from joblib import dump, load\n",
    "from matplotlib.pyplot import cm\n",
    "from sklearn import mixture\n",
    "from sklearn.decomposition import PCA\n",
    "from sklearn import preprocessing\n",
    "\n",
    "config.set(**{'array.slicing.split_large_chunks': True})\n",
    "print(\"Imports complete\")"
   ]
  },
  {
   "cell_type": "markdown",
   "id": "e77d57c5",
   "metadata": {},
   "source": [
    "<br>"
   ]
  },
  {
   "cell_type": "markdown",
   "id": "144b8a2f",
   "metadata": {},
   "source": [
    "### Importing data sets\n",
    "Importing the data for the models.\n",
    "\n",
    "<b>Import sample data set and corresponding time/geo data</b>"
   ]
  },
  {
   "cell_type": "code",
   "execution_count": 3,
   "id": "76441c10",
   "metadata": {
    "code_folding": [
     0
    ],
    "jupyter": {
     "source_hidden": true
    }
   },
   "outputs": [
    {
     "name": "stdout",
     "output_type": "stream",
     "text": [
      "1 UKESM1-0-LL data sets opened\n",
      "Data sets successfully merged and renamed into dataRaw.\n"
     ]
    }
   ],
   "source": [
    "#Importing UK ESM data cell\n",
    "\n",
    "df = pd.read_csv('https://storage.googleapis.com/cmip6/cmip6-zarr-consolidated-stores.csv')\n",
    "dfFilt = df[df.variable_id.eq(dataVariableId) & df.experiment_id.eq(dataExperimentId) & df.source_id.eq(dataSourceId) & df.institution_id.eq(dataInstitutionId)]\n",
    "\n",
    "memberArr = np.empty(shape=(0), dtype=bool)\n",
    "for i in dfFilt[\"member_id\"]:\n",
    "    rowSel = i[:] in approvedIds #adapt i[:] to match size of approvedIds\n",
    "    memberArr = np.append(memberArr, rowSel)\n",
    "\n",
    "memberSer = pd.Series(memberArr, name='bools')\n",
    "dfFilt = dfFilt[memberSer.values]\n",
    "\n",
    "fileSetList = []\n",
    "for i in range(len(dfFilt)):\n",
    "    zstore = dfFilt.zstore.values[i]\n",
    "    mapper = fsspec.get_mapper(zstore)\n",
    "    fileRaw = xr.open_zarr(mapper, consolidated=True)\n",
    "    fileSetList.append(fileRaw)\n",
    "fileCount = len(fileSetList)\n",
    "if fileCount:\n",
    "    print(str(fileCount)+\" \"+dataSourceId+\" data sets opened\")\n",
    "else:\n",
    "    print(\"No UKESM data sets opened\")\n",
    "    \n",
    "for i in range(fileCount): #Formatting dates into np.datetime64 format\n",
    "    startDateIterate = np.datetime64(fileSetList[i]['time'].values[0],'M')\n",
    "    endDateIterate = np.datetime64(fileSetList[i]['time'].values[-1],'M') + np.timedelta64(1,'M')\n",
    "    fileSetList[i]['time']=('time', np.arange(startDateIterate, endDateIterate, dtype='datetime64[M]'))\n",
    "    fileSetList[i]['time_bnds']=('time_bnds', np.arange(startDateIterate, endDateIterate, dtype='datetime64[M]')) \n",
    "fileSet = xr.combine_nested(fileSetList, concat_dim='RunId') #Combining data sets\n",
    "\n",
    "dataRaw = fileSet.thetao\n",
    "\n",
    "try:\n",
    "    dataRaw = dataRaw.rename({\"latitude\":\"lat\", \"longitude\":\"lon\"})\n",
    "except:\n",
    "    pass\n",
    "\n",
    "print(\"Data sets successfully merged and renamed into dataRaw.\")"
   ]
  },
  {
   "cell_type": "code",
   "execution_count": 4,
   "id": "c524126b",
   "metadata": {},
   "outputs": [
    {
     "data": {
      "text/html": [
       "<div>\n",
       "<style scoped>\n",
       "    .dataframe tbody tr th:only-of-type {\n",
       "        vertical-align: middle;\n",
       "    }\n",
       "\n",
       "    .dataframe tbody tr th {\n",
       "        vertical-align: top;\n",
       "    }\n",
       "\n",
       "    .dataframe thead th {\n",
       "        text-align: right;\n",
       "    }\n",
       "</style>\n",
       "<table border=\"1\" class=\"dataframe\">\n",
       "  <thead>\n",
       "    <tr style=\"text-align: right;\">\n",
       "      <th></th>\n",
       "      <th>activity_id</th>\n",
       "      <th>institution_id</th>\n",
       "      <th>source_id</th>\n",
       "      <th>experiment_id</th>\n",
       "      <th>member_id</th>\n",
       "      <th>table_id</th>\n",
       "      <th>variable_id</th>\n",
       "      <th>grid_label</th>\n",
       "      <th>zstore</th>\n",
       "      <th>dcpp_init_year</th>\n",
       "      <th>version</th>\n",
       "    </tr>\n",
       "  </thead>\n",
       "  <tbody>\n",
       "    <tr>\n",
       "      <th>213868</th>\n",
       "      <td>CMIP</td>\n",
       "      <td>MOHC</td>\n",
       "      <td>UKESM1-0-LL</td>\n",
       "      <td>historical</td>\n",
       "      <td>r3i1p1f2</td>\n",
       "      <td>Omon</td>\n",
       "      <td>thetao</td>\n",
       "      <td>gn</td>\n",
       "      <td>gs://cmip6/CMIP6/CMIP/MOHC/UKESM1-0-LL/histori...</td>\n",
       "      <td>NaN</td>\n",
       "      <td>20190708</td>\n",
       "    </tr>\n",
       "  </tbody>\n",
       "</table>\n",
       "</div>"
      ],
      "text/plain": [
       "       activity_id institution_id    source_id experiment_id member_id  \\\n",
       "213868        CMIP           MOHC  UKESM1-0-LL    historical  r3i1p1f2   \n",
       "\n",
       "       table_id variable_id grid_label  \\\n",
       "213868     Omon      thetao         gn   \n",
       "\n",
       "                                                   zstore  dcpp_init_year  \\\n",
       "213868  gs://cmip6/CMIP6/CMIP/MOHC/UKESM1-0-LL/histori...             NaN   \n",
       "\n",
       "         version  \n",
       "213868  20190708  "
      ]
     },
     "execution_count": 4,
     "metadata": {},
     "output_type": "execute_result"
    }
   ],
   "source": [
    "dfFilt"
   ]
  },
  {
   "cell_type": "code",
   "execution_count": 5,
   "id": "5e8cd61e",
   "metadata": {
    "code_folding": [
     0
    ],
    "jupyter": {
     "source_hidden": true
    }
   },
   "outputs": [
    {
     "name": "stdout",
     "output_type": "stream",
     "text": [
      "UKESM data loaded and stored in dfESMLatLevT\n"
     ]
    }
   ],
   "source": [
    "#UK ESM raw processing cell\n",
    "dfESMLev = dataRaw.sel(lev=levSel) #Selects level data down to 2k\n",
    "dfESMLevT = dfESMLev.sel(time=timeRange)\n",
    "dfESMLatLevT = dfESMLevT.where(dfESMLevT.lat < maxLat, drop=True) #Selection of latitude\n",
    "dfESMLatLevT = dfESMLatLevT.squeeze()\n",
    "\n",
    "globalStartDate = dfESMLatLevT[\"time\"][0].values\n",
    "globalDateInc = dfESMLatLevT[\"time\"][1].values - globalStartDate\n",
    "globalEndDateIn = dfESMLatLevT[\"time\"][-1].values\n",
    "globalEndDateOut = globalEndDateIn + globalDateInc\n",
    "\n",
    "globalStartDateStr = str(globalStartDate)[:7]\n",
    "globalEndDateInStr = str(globalEndDateIn)[:7]\n",
    "globalEndDateOutStr = str(globalEndDateOut)[:7]\n",
    "\n",
    "print(\"UKESM data loaded and stored in dfESMLatLevT\")"
   ]
  },
  {
   "cell_type": "markdown",
   "id": "c7a90f0d",
   "metadata": {},
   "source": [
    "<br>\n",
    "<b>Loading ocean Masks</b>"
   ]
  },
  {
   "cell_type": "code",
   "execution_count": 6,
   "id": "799d8409",
   "metadata": {
    "code_folding": [
     0
    ],
    "jupyter": {
     "source_hidden": true
    }
   },
   "outputs": [
    {
     "name": "stdout",
     "output_type": "stream",
     "text": [
      "Mask Loaded and stored in oceanMask and oceanMask2 (volcello and UKESM).\n"
     ]
    }
   ],
   "source": [
    "#Ocean mask import cell\n",
    "maskFile = xr.open_dataset(maskName)\n",
    "oceanMask = maskFile.to_array()\n",
    "maskFile = xr.open_dataset(\"OceanMaskUKESM1\")\n",
    "oceanMask2 = maskFile.to_array()\n",
    "print(\"Mask Loaded and stored in oceanMask and oceanMask2 (volcello and UKESM).\")"
   ]
  },
  {
   "cell_type": "markdown",
   "id": "ed5b4b87",
   "metadata": {},
   "source": [
    "<br>\n",
    "<b>Unpacking ocean masks</b>"
   ]
  },
  {
   "cell_type": "code",
   "execution_count": 7,
   "id": "c6daebbe",
   "metadata": {
    "code_folding": [
     0
    ],
    "jupyter": {
     "source_hidden": true
    }
   },
   "outputs": [
    {
     "name": "stdout",
     "output_type": "stream",
     "text": [
      "Ocean mask unpacked into geoRangeFilt.\n",
      "UKESM Ocean mask unpacked into geoRangeFilt2.\n"
     ]
    }
   ],
   "source": [
    "#Mask unpacking cell\n",
    "geoRange = oceanMask #copying mask\n",
    "geoRange = geoRange.rename({\"variable\":\"cleanMe\"}) #Dimension removal\n",
    "geoRange = geoRange.sel(cleanMe = geoRange.cleanMe.values[0]) #Dimension removal\n",
    "geoRange = geoRange.reset_coords(\"cleanMe\", drop=True) #Dimension removal\n",
    "geoRangeS = geoRange.stack(ij =(\"i\", \"j\")) #Stacking\n",
    "geoRangeFilt = geoRangeS.dropna(\"ij\")\n",
    "print(\"Ocean mask unpacked into geoRangeFilt.\")\n",
    "\n",
    "geoRange2 = oceanMask2 #copying mask\n",
    "geoRange2S = geoRange2.stack(ij =(\"i\", \"j\")) #Stacking\n",
    "geoRangeFilt2 = geoRange2S.dropna(\"ij\")\n",
    "print(\"UKESM Ocean mask unpacked into geoRangeFilt2.\")"
   ]
  },
  {
   "cell_type": "markdown",
   "id": "9a85c358",
   "metadata": {},
   "source": [
    "<br>\n",
    "<b>Date Calculations</b>"
   ]
  },
  {
   "cell_type": "code",
   "execution_count": 8,
   "id": "39c6e17f",
   "metadata": {
    "code_folding": [
     0
    ],
    "jupyter": {
     "source_hidden": true
    }
   },
   "outputs": [
    {
     "name": "stdout",
     "output_type": "stream",
     "text": [
      "Calculated date range.\n"
     ]
    }
   ],
   "source": [
    "#Date calculation cell\n",
    "startDateNp = np.datetime64(startDate, 'M')\n",
    "endDateNp = np.datetime64(endDate, 'M')\n",
    "\n",
    "timeDiff = endDateNp - startDateNp\n",
    "timeDiff = timeDiff.astype(int) + 1\n",
    "print(\"Calculated date range.\")"
   ]
  },
  {
   "cell_type": "markdown",
   "id": "35446e87",
   "metadata": {},
   "source": [
    "<br>"
   ]
  },
  {
   "cell_type": "markdown",
   "id": "4ae43c80",
   "metadata": {},
   "source": [
    "### Calculation functions\n",
    "<b>Functions:</b><br>\n",
    "<ul>\n",
    "<li>pickRand - Takes in data frame and returns sampled data frame with a randomly selected number of rows from the input data frame, controled by the second input variable to the function.\n",
    "<li>storeMeta - Returns a np array containing the latitude and longitude data for an input xarray and associated ij.\n",
    "<li>loadModel - loadeds and returns GMM model named in input.\n",
    "<li>saveModel - saves input GMM model to provided name, if no name provided default is GMMGenerated.\n",
    "</ul>"
   ]
  },
  {
   "cell_type": "code",
   "execution_count": 9,
   "id": "72ba5a08",
   "metadata": {
    "code_folding": [
     0,
     1,
     36,
     47,
     59
    ],
    "jupyter": {
     "source_hidden": true
    }
   },
   "outputs": [
    {
     "name": "stdout",
     "output_type": "stream",
     "text": [
      "Calculation functions defined.\n"
     ]
    }
   ],
   "source": [
    "#Calculation functions cell\n",
    "def pickRand(dataArray, sampleFactor):\n",
    "    '''Returns a sample of the input array, size of sampled array is based on sampleFactor. For factor > 1 that many points are chosen, for factor < 1 that % is taken of the array'''\n",
    "    arrLen = len(dataArray)\n",
    "    if sampleFactor > 1:\n",
    "        sampleSize = int(sampleFactor)\n",
    "    elif sampleFactor > 0:\n",
    "        sampleSize = int(sampleFactor*arrLen)\n",
    "    else:\n",
    "        return 1\n",
    "    \n",
    "    filtArr = np.zeros(arrLen, dtype=bool) # empty mask\n",
    "    sampleId = np.random.choice(arrLen, sampleSize, False) # np array of randomly generated non repeating numbers\n",
    "    for i in sampleId:\n",
    "        filtArr[i] = True # populating mask\n",
    "    return dataArray[filtArr] # applies mask\n",
    "\n",
    "def pickRandMask(maskLen, maskQuantity, sampleFactor):\n",
    "    '''Returns a linear mask for the input dimensions, size of mask is based on sampleFactor. For factor > 1 that many points are chosen, for factor < 1 that % is taken of the array'''\n",
    "    if sampleFactor > 1:\n",
    "        sampleSize = int(sampleFactor)\n",
    "    elif sampleFactor > 0:\n",
    "        sampleSize = int(sampleFactor*maskLen)\n",
    "    else:\n",
    "        return 1\n",
    "    \n",
    "    globalArr = np.empty(shape=(0), dtype=bool)\n",
    "    for i in range(maskQuantity):\n",
    "        filtArr = np.zeros(maskLen, dtype=bool) # empty mask\n",
    "        sampleId = np.random.choice(maskLen, sampleSize, False) # np array of randomly generated non repeating numbers\n",
    "        for j in sampleId:\n",
    "            filtArr[j] = True # populating mask\n",
    "        globalArr = np.append(globalArr, filtArr)\n",
    "    return globalArr\n",
    "\n",
    "\n",
    "def storeMeta(dataArray):\n",
    "    '''Returns a np array containing the latitude and longitude data for the input xarray and the associated ij index'''\n",
    "    storeLen = len(dataArray[\"lat\"]) # assumes each lat has a corresponding lon\n",
    "    storage = np.empty(shape=(0,storeLen))\n",
    "    storage = np.append(storage, [dataArray[\"lat\"].values], axis = 0)\n",
    "    storage = np.append(storage, [dataArray[\"lon\"].values], axis = 0)\n",
    "    #storage = np.append(storage, [dataArray[\"time\"].values], axis = 0)\n",
    "    #storage = np.append(storage, [dataArray[\"ij\"].values], axis = 0)\n",
    "    return storage\n",
    "\n",
    "\n",
    "def loadModel(modelName:str):\n",
    "    '''Loades the input GMM model named in the functions input. Returns loaded model.'''\n",
    "    means = np.load(modelName + '_means.npy')\n",
    "    covar = np.load(modelName + '_covariances.npy')\n",
    "    GMModel = mixture.GaussianMixture(n_components = len(means), covariance_type='full')\n",
    "    GMModel.precisions_cholesky_ = np.linalg.cholesky(np.linalg.inv(covar))\n",
    "    GMModel.weights_ = np.load(modelName + '_weights.npy')\n",
    "    GMModel.means_ = means\n",
    "    GMModel.covariances_ = covar\n",
    "    return GMModel\n",
    "\n",
    "\n",
    "def saveModel(GMModel, modelName = \"GMMGenerated\"):\n",
    "    '''Saves the input GMM model's weights, means and covariances. Assigns input name if provided to model.'''\n",
    "    GMModel_name = str(modelName)\n",
    "    np.save(modelName + '_weights', GMModel.weights_, allow_pickle=False)\n",
    "    np.save(modelName + '_means', GMModel.means_, allow_pickle=False)\n",
    "    np.save(modelName + '_covariances', GMModel.covariances_, allow_pickle=False)\n",
    "    return 0\n",
    "\n",
    "print(\"Calculation functions defined.\")"
   ]
  },
  {
   "cell_type": "markdown",
   "id": "a6fee989",
   "metadata": {},
   "source": [
    "<br>"
   ]
  },
  {
   "cell_type": "markdown",
   "id": "f0674ba3",
   "metadata": {},
   "source": [
    "### Plotting functions\n",
    "<b>Functions:</b>\n",
    "<ul>\n",
    "<li> bicPlot - Plots BIC score array against component number.\n",
    "<li> locationPlotGroup - plots location and classification of data points for an input numpy array.\n",
    "<li> locationPlotGroupDF - plots location and classification of data points for an input data frame.\n",
    "<li> locationPlotGroupDFMonthly - plots location and classification of data points for an input data frame in monthly subplots.\n",
    "<li> locationPlotTime - plots locations of an input data array on a map with a colour scale for time.\n",
    "<li> locationPlotUncertaintyDF - plots uncertainty in classification on a location plot.\n",
    "<li> tempPointPlot - Plots the temperature profile of a single point against depth.\n",
    "<li> tempGroupPlot - Plots the mean/+-1std temperature profiles of all classes in input dataArrays (seperate mean and std).\n",
    "</ul>"
   ]
  },
  {
   "cell_type": "code",
   "execution_count": 10,
   "id": "b661aee3",
   "metadata": {
    "code_folding": [
     0,
     3,
     25,
     39,
     56,
     70,
     89,
     106,
     120,
     140,
     153,
     162
    ],
    "jupyter": {
     "source_hidden": true
    }
   },
   "outputs": [
    {
     "name": "stdout",
     "output_type": "stream",
     "text": [
      "Plotting functions defined.\n"
     ]
    }
   ],
   "source": [
    "#Plotting functions Cell\n",
    "sampleDepthAxis = dfESMLatLevT[\"lev\"]\n",
    "\n",
    "def bicPlot(bicArray, startNo, endNo, skipNo, title, label, plotNo):\n",
    "    '''Plots input BIC score array'''\n",
    "    plt.figure(plotNo, figsize=(20, 8))\n",
    "    plt.style.use(\"seaborn-darkgrid\")\n",
    "    componentRange = range(startNo, endNo, skipNo)\n",
    "    plt.plot(componentRange, bicArray, label = str(label))\n",
    "    \n",
    "    bicArrayMax = np.max(bicArray)\n",
    "    bicArrayMin = np.min(bicArray)\n",
    "    bicRange = bicArrayMax-bicArrayMin\n",
    "    if bicRange == 0:\n",
    "        bicRange = 20 #provides border 1 if all bic values are identical\n",
    "    plt.xticks(componentRange)\n",
    "    plt.xlim([startNo-0.5, endNo+0.5])\n",
    "    plt.ylim([bicArrayMin-0.05*bicRange, bicArrayMax+0.05*bicRange])\n",
    "    \n",
    "    plt.legend(bbox_to_anchor=(1.05, 1), loc='upper left')\n",
    "    plt.xlabel(\"Number of components\")\n",
    "    plt.ylabel(\"BIC score\")\n",
    "    plt.title(title)\n",
    "\n",
    "\n",
    "def locationPlotGroup(metaDataArray, size, plotNo):\n",
    "    '''Plots locations of numpy arrays with group colour scheme'''\n",
    "    plt.figure(plotNo, figsize=size)\n",
    "    ax = plt.axes(projection=ccrs.SouthPolarStereo())\n",
    "    ax.add_feature(cfeature.OCEAN)\n",
    "    ax.add_feature(cfeature.COASTLINE)\n",
    "    ax.coastlines()\n",
    "    ax.gridlines()\n",
    "    im = ax.scatter(metaDataArray[1], metaDataArray[0], transform=ccrs.PlateCarree(), c =  metaDataArray[3], cmap='RdBu_r')\n",
    "    cb = plt.colorbar(im)\n",
    "    plt.plot(np.arange(0,361,1),np.ones(361)*-29.5, transform=ccrs.PlateCarree(), color=\"Black\")\n",
    "    plt.title(\"Grouped Sample Locations (\"+str(len(metaDataArray[0]))+\")\")\n",
    "\n",
    "\n",
    "def locationPlotGroupDFTime(dataFrame, title, size, plotNo):\n",
    "    '''Plots locations of data frame points with group colour scheme'''\n",
    "    plt.figure(plotNo, figsize=size)\n",
    "    ax = plt.axes(projection=ccrs.SouthPolarStereo())\n",
    "    ax.add_feature(cfeature.OCEAN)\n",
    "    ax.add_feature(cfeature.COASTLINE)\n",
    "    ax.coastlines()\n",
    "    ax.gridlines()\n",
    "    im = ax.scatter(dataFrame[\"lon\"], dataFrame[\"lat\"], transform=ccrs.PlateCarree(), c =  mdates.date2num(dataFrame[\"time\"]), cmap='brg')\n",
    "    cb = plt.colorbar(im)\n",
    "    loc = mdates.AutoDateLocator()\n",
    "    cb.ax.yaxis.set_major_locator(loc)\n",
    "    cb.ax.yaxis.set_major_formatter(mdates.ConciseDateFormatter(loc))\n",
    "    plt.plot(np.arange(0,361,1),np.ones(361)*-29.5, transform=ccrs.PlateCarree(), color=\"Black\")\n",
    "    plt.title(str(title))\n",
    "    \n",
    "    \n",
    "def locationPlotGroupDFLab(dataFrame, title, size, plotNo):\n",
    "    '''Plots locations of data frame points with group colour scheme'''\n",
    "    plt.figure(plotNo, figsize=size)\n",
    "    ax = plt.axes(projection=ccrs.SouthPolarStereo())\n",
    "    ax.add_feature(cfeature.OCEAN)\n",
    "    ax.add_feature(cfeature.COASTLINE)\n",
    "    ax.coastlines()\n",
    "    ax.gridlines()\n",
    "    im = ax.scatter(dataFrame[\"lon\"], dataFrame[\"lat\"], transform=ccrs.PlateCarree(), c =  dataFrame[\"labelSorted\"], cmap='RdBu_r')\n",
    "    cb = plt.colorbar(im)\n",
    "    plt.plot(np.arange(0,361,1),np.ones(361)*-29.5, transform=ccrs.PlateCarree(), color=\"Black\")\n",
    "    plt.title(str(title))\n",
    "\n",
    "\n",
    "def locationPlotGroupDFMonthly(dataFrame, title, plotNo):\n",
    "    '''Plots locations of dataframe points by monthly subplot with group colour scheme'''\n",
    "    fig = plt.figure(plotNo, figsize=(30,42))\n",
    "    plt.title(str(title))\n",
    "    for i in range(1, 13):\n",
    "        timeData = dataFrame.where(dataFrame[\"time\"].dt.month==i)\n",
    "        ax = plt.subplot(4, 3, i, projection=ccrs.SouthPolarStereo())\n",
    "        ax.add_feature(cfeature.OCEAN)\n",
    "        ax.add_feature(cfeature.COASTLINE)\n",
    "        ax.coastlines()\n",
    "        ax.gridlines()\n",
    "        im = ax.scatter(timeData[\"lon\"], timeData[\"lat\"], transform=ccrs.PlateCarree(), c =  timeData[\"labelSorted\"], cmap='RdBu_r')\n",
    "        plt.plot(np.arange(0,361,1),np.ones(361)*-29.5, transform=ccrs.PlateCarree(), color=\"Black\")\n",
    "        plt.title(calendar.month_abbr[i]) \n",
    "    plt.subplots_adjust(wspace=0, hspace=0.05)\n",
    "    cb_ax = fig.add_axes([0.27, 0.1, 0.5, 0.02])\n",
    "    cbar = fig.colorbar(im, cax=cb_ax, orientation=\"horizontal\")\n",
    "\n",
    "\n",
    "def locationPlotTime(dataArray, size, plotNo):\n",
    "    '''Plots locations of numpy arrays with date colour scheme'''\n",
    "    plt.figure(plotNo, figsize=size)\n",
    "    ax = plt.axes(projection=ccrs.SouthPolarStereo())\n",
    "    ax.add_feature(cfeature.OCEAN)\n",
    "    ax.add_feature(cfeature.COASTLINE)\n",
    "    ax.coastlines()\n",
    "    ax.gridlines()\n",
    "    im = ax.scatter(dataArray[1], dataArray[0], transform=ccrs.PlateCarree(), c= mdates.date2num(dataArray[2]), cmap='brg')\n",
    "    cb = plt.colorbar(im)\n",
    "    loc = mdates.AutoDateLocator()\n",
    "    cb.ax.yaxis.set_major_locator(loc)\n",
    "    cb.ax.yaxis.set_major_formatter(mdates.ConciseDateFormatter(loc))\n",
    "    plt.plot(np.arange(0,361,1),np.ones(361)*-29.5, transform=ccrs.PlateCarree(), color=\"Black\")\n",
    "    plt.title(\"Sample Locations (\"+str(len(dataArray[0]))+\")\")\n",
    "\n",
    "\n",
    "def locationPlotUncertaintyDF(dataFrame, title, size, plotNo):\n",
    "    '''Plots input data array classification uncertainties'''\n",
    "    plt.figure(plotNo, figsize=size)\n",
    "    ax = plt.axes(projection=ccrs.SouthPolarStereo())\n",
    "    ax.add_feature(cfeature.OCEAN)\n",
    "    ax.add_feature(cfeature.COASTLINE)\n",
    "    ax.coastlines()\n",
    "    ax.gridlines()\n",
    "    im = ax.scatter(dataFrame[\"lon\"], dataFrame[\"lat\"], transform=ccrs.PlateCarree(), c =  dataFrame[\"classUncertainty\"], cmap='Blues')\n",
    "    cb = plt.colorbar(im)\n",
    "    plt.plot(np.arange(0,361,1),np.ones(361)*-29.5, transform=ccrs.PlateCarree(), color=\"Black\")\n",
    "    plt.title(str(title))\n",
    "\n",
    "\n",
    "def locationPlotUncertaintyDFMonthly(dataFrame, title, plotNo):\n",
    "    '''Plots locations of dataframe points by monthly subplot with group colour scheme'''\n",
    "    fig = plt.figure(plotNo, figsize=(30,42))\n",
    "    plt.title(str(title))\n",
    "    for i in range(1, 13):\n",
    "        timeData = dataFrame.where(dataFrame[\"time\"].dt.month==i)\n",
    "        ax = plt.subplot(4, 3, i, projection=ccrs.SouthPolarStereo())\n",
    "        ax.add_feature(cfeature.OCEAN)\n",
    "        ax.add_feature(cfeature.COASTLINE)\n",
    "        ax.coastlines()\n",
    "        ax.gridlines()\n",
    "        im = ax.scatter(timeData[\"lon\"], timeData[\"lat\"], transform=ccrs.PlateCarree(), c =  timeData[\"classUncertainty\"], cmap='Blues', vmin=0, vmax=1)\n",
    "        #cb = plt.colorbar(im, fraction=0.046, pad=0.04)\n",
    "        plt.plot(np.arange(0,361,1),np.ones(361)*-29.5, transform=ccrs.PlateCarree(), color=\"Black\")\n",
    "        plt.title(calendar.month_abbr[i]) \n",
    "    plt.subplots_adjust(wspace=0, hspace=0.05)\n",
    "    cb_ax = fig.add_axes([0.27, 0.1, 0.5, 0.02])\n",
    "    cbar = fig.colorbar(im, cax=cb_ax, orientation=\"horizontal\")\n",
    "\n",
    "\n",
    "def locationPlotXr(dataArray, size, plotNo):\n",
    "    '''Plots locations of numpy arrays with date colour scheme'''\n",
    "    plt.figure(plotNo, figsize=size)\n",
    "    ax = plt.axes(projection=ccrs.SouthPolarStereo())\n",
    "    ax.add_feature(cfeature.OCEAN)\n",
    "    ax.add_feature(cfeature.COASTLINE)\n",
    "    ax.coastlines()\n",
    "    ax.gridlines()\n",
    "    im = ax.scatter(dataArray[\"lon\"], dataArray[\"lat\"], transform=ccrs.PlateCarree())\n",
    "    plt.plot(np.arange(0,361,1),np.ones(361)*-29.5, transform=ccrs.PlateCarree(), color=\"Black\")\n",
    "    plt.title(\"Sample Locations (\"+str(len(dataArray[\"lat\"]))+\")\")        \n",
    "\n",
    "\n",
    "def tempPointPlot(dataArray, label, title, plotNo):\n",
    "    '''Displays temperature profile plot for a given data set, singular point'''\n",
    "    plt.figure(plotNo)\n",
    "    plt.plot(dataArray, sampleDepthAxis, label = label)\n",
    "    plt.legend(bbox_to_anchor=(1.05, 1), loc='upper left')\n",
    "    plt.title(str(title))\n",
    "    plt.gca().invert_yaxis()\n",
    "\n",
    "\n",
    "def tempGroupProfile(dataArrayMean, dataArrayStd, plotNo):\n",
    "    '''Displays mean /+-1 std temperature profiles for classes in dataArrayMean and dataArrayStd. Requires sampleDepthAxis'''\n",
    "    dataCompNo = len(dataArrayMean)   \n",
    "    columnNames = sampleDFSortMeans.columns.values\n",
    "    dataStart = np.where(columnNames == sampleDepthAxis[0].values)[0][0]\n",
    "    subPlotX = int(np.ceil(dataCompNo/5))\n",
    "    \n",
    "    plt.figure(plotNo, figsize=(35, 10*subPlotX))\n",
    "    plt.style.use(\"seaborn-darkgrid\")\n",
    "    palette = cm.coolwarm(np.linspace(0,1, dataCompNo))\n",
    "    \n",
    "    for i in range(dataCompNo):\n",
    "        meanT = dataArrayMean.iloc[i, dataStart:].to_numpy()\n",
    "        stdT = dataArrayStd.iloc[i, dataStart:].to_numpy()\n",
    "        \n",
    "        plt.subplot(subPlotX, 5, i+1)\n",
    "        plt.plot(meanT, sampleDepthAxis, marker='', linestyle=\"solid\", color=palette[i], linewidth=6.0, alpha=0.9)\n",
    "        plt.plot(meanT+stdT, sampleDepthAxis, marker='', linestyle=\"dashed\", color=palette[i], linewidth=6.0, alpha=0.9)\n",
    "        plt.plot(meanT-stdT, sampleDepthAxis, marker='', linestyle=\"dashed\", color=palette[i], linewidth=6.0, alpha=0.9)\n",
    "        \n",
    "        plt.xlim([-2,20])\n",
    "        plt.ylim([0,1000])\n",
    "        ax = plt.gca()\n",
    "        ax.invert_yaxis()\n",
    "        ax.grid(True)\n",
    "        \n",
    "        fs = 16 #font size\n",
    "        plt.xlabel(\"Temperature (°C)\", fontsize=fs)\n",
    "        plt.ylabel(\"Depth (m)\", fontsize=fs)\n",
    "        plt.title(\"Class = \"+str(i), fontsize=fs)\n",
    "        mpl.rc(\"xtick\", labelsize=fs)\n",
    "        mpl.rc(\"ytick\", labelsize=fs)\n",
    "        \n",
    "        '''\n",
    "        textstr = '\\n'.join((\n",
    "            r'N profs. = %i' % (nprofs[nrow], ),\n",
    "            r'Mean lon = %i' % (meanLon, ),\n",
    "            r'Mean lat = %i' % (meanLat, ),\n",
    "            r'Post. = %i' % (meanMaxPP, )))\n",
    "        props = dict(boxstyle=\"round\", facecolor=\"wheat\", alpha=0.8)\n",
    "        ax.text(0.45, 0.25, textstr, transform=ax.transAxes, fontsize=fs, verticalalignment='top', bbox=props)\n",
    "        '''\n",
    "\n",
    "\n",
    "print(\"Plotting functions defined.\")"
   ]
  },
  {
   "cell_type": "markdown",
   "id": "03b08738",
   "metadata": {},
   "source": [
    "<br>"
   ]
  },
  {
   "cell_type": "markdown",
   "id": "49aa55ee",
   "metadata": {},
   "source": [
    "### Plotting Ocean Mask"
   ]
  },
  {
   "cell_type": "code",
   "execution_count": 11,
   "id": "2f0db3f5",
   "metadata": {
    "code_folding": [
     0
    ],
    "jupyter": {
     "source_hidden": true
    }
   },
   "outputs": [],
   "source": [
    "#Mask plotting cell\n",
    "#locationPlotXr(geoRangeFilt, (10,10), 1)\n",
    "#locationPlotXr(geoRangeFilt2, (10,10), 2)\n",
    "plt.show()"
   ]
  },
  {
   "cell_type": "markdown",
   "id": "657e8cd9",
   "metadata": {},
   "source": [
    "<br>"
   ]
  },
  {
   "cell_type": "markdown",
   "id": "ddc5a66b",
   "metadata": {},
   "source": [
    "### Generating Data Samples"
   ]
  },
  {
   "cell_type": "code",
   "execution_count": 12,
   "id": "416fa9f4",
   "metadata": {
    "code_folding": [
     0
    ],
    "scrolled": false
   },
   "outputs": [
    {
     "name": "stdout",
     "output_type": "stream",
     "text": [
      "Raw data identified, stacked and stored in dfESMLatLevTStackFilt. Data dimensions: Frozen({'time': 360, 'ij': 22194, 'lev': 54}).\n"
     ]
    }
   ],
   "source": [
    "#Identifying, masking and stacking raw data cell\n",
    "dfESMLatLevTStack = dfESMLatLevT.stack(ij =(\"i\", \"j\"))\n",
    "dfESMLatLevTStack = dfESMLatLevTStack.transpose('time', 'ij', 'lev')\n",
    "dfESMLatLevTStackFilt = dfESMLatLevTStack.sel(ij = geoRangeFilt.ij.values) #Produces 22194\n",
    "print(\"Raw data identified, stacked and stored in dfESMLatLevTStackFilt. Data dimensions: \"+str(dfESMLatLevTStackFilt.sizes)+\".\")"
   ]
  },
  {
   "cell_type": "code",
   "execution_count": 13,
   "id": "0b07429a",
   "metadata": {
    "code_folding": []
   },
   "outputs": [
    {
     "name": "stdout",
     "output_type": "stream",
     "text": [
      "Data mask loaded from GMM_UK_2Class_R1_Mask.npy.\n"
     ]
    }
   ],
   "source": [
    "#Sample mask import cell\n",
    "importName = modelName[:-4] + \"1_Mask.npy\"\n",
    "mask = np.load(importName)\n",
    "print(\"Data mask loaded from \"+ importName +\".\")"
   ]
  },
  {
   "cell_type": "code",
   "execution_count": 14,
   "id": "8bc2b721",
   "metadata": {
    "code_folding": [
     0
    ]
   },
   "outputs": [
    {
     "name": "stdout",
     "output_type": "stream",
     "text": [
      "Sample data calculated and stored in sampleData. Sample data dimensions: Frozen({'ijT': 2716200, 'lev': 54}).\n"
     ]
    }
   ],
   "source": [
    "#Sample selection cell\n",
    "sampleDataRaw = dfESMLatLevTStackFilt.reset_index('ij')\n",
    "sampleDataRaw = sampleDataRaw.stack(ijT = ('time', 'ij'))\n",
    "sampleData = sampleDataRaw[:,mask]\n",
    "sampleData = sampleData.transpose('ijT', 'lev')\n",
    "print(\"Sample data calculated and stored in sampleData. Sample data dimensions: \"+str(sampleData.sizes)+\".\")"
   ]
  },
  {
   "cell_type": "markdown",
   "id": "cd062c12",
   "metadata": {},
   "source": [
    "<br>"
   ]
  },
  {
   "cell_type": "markdown",
   "id": "c3841c97",
   "metadata": {},
   "source": [
    "### Placing sample data into tables"
   ]
  },
  {
   "cell_type": "code",
   "execution_count": 15,
   "id": "10277e4b",
   "metadata": {
    "code_folding": [
     0
    ],
    "jupyter": {
     "source_hidden": true
    }
   },
   "outputs": [
    {
     "name": "stdout",
     "output_type": "stream",
     "text": [
      "Sample lat, lon and time converted to datafile (sampleMetaDF). 2716200 samples identified.\n"
     ]
    },
    {
     "data": {
      "text/html": [
       "<div>\n",
       "<style scoped>\n",
       "    .dataframe tbody tr th:only-of-type {\n",
       "        vertical-align: middle;\n",
       "    }\n",
       "\n",
       "    .dataframe tbody tr th {\n",
       "        vertical-align: top;\n",
       "    }\n",
       "\n",
       "    .dataframe thead th {\n",
       "        text-align: right;\n",
       "    }\n",
       "</style>\n",
       "<table border=\"1\" class=\"dataframe\">\n",
       "  <thead>\n",
       "    <tr style=\"text-align: right;\">\n",
       "      <th></th>\n",
       "      <th>lat</th>\n",
       "      <th>lon</th>\n",
       "      <th>time</th>\n",
       "    </tr>\n",
       "  </thead>\n",
       "  <tbody>\n",
       "    <tr>\n",
       "      <th>0</th>\n",
       "      <td>-65.703316</td>\n",
       "      <td>73.5</td>\n",
       "      <td>1980-01-01</td>\n",
       "    </tr>\n",
       "    <tr>\n",
       "      <th>1</th>\n",
       "      <td>-65.288567</td>\n",
       "      <td>73.5</td>\n",
       "      <td>1980-01-01</td>\n",
       "    </tr>\n",
       "    <tr>\n",
       "      <th>2</th>\n",
       "      <td>-63.562469</td>\n",
       "      <td>73.5</td>\n",
       "      <td>1980-01-01</td>\n",
       "    </tr>\n",
       "    <tr>\n",
       "      <th>3</th>\n",
       "      <td>-60.270821</td>\n",
       "      <td>73.5</td>\n",
       "      <td>1980-01-01</td>\n",
       "    </tr>\n",
       "    <tr>\n",
       "      <th>4</th>\n",
       "      <td>-59.771149</td>\n",
       "      <td>73.5</td>\n",
       "      <td>1980-01-01</td>\n",
       "    </tr>\n",
       "  </tbody>\n",
       "</table>\n",
       "</div>"
      ],
      "text/plain": [
       "         lat   lon       time\n",
       "0 -65.703316  73.5 1980-01-01\n",
       "1 -65.288567  73.5 1980-01-01\n",
       "2 -63.562469  73.5 1980-01-01\n",
       "3 -60.270821  73.5 1980-01-01\n",
       "4 -59.771149  73.5 1980-01-01"
      ]
     },
     "execution_count": 15,
     "metadata": {},
     "output_type": "execute_result"
    }
   ],
   "source": [
    "#Location and time data to table cell\n",
    "metaData = {\"lat\":sampleData[\"lat\"], \"lon\":sampleData[\"lon\"], \"time\":sampleData[\"time\"]}\n",
    "sampleMetaDF = pd.DataFrame(metaData, columns=[\"lat\", \"lon\", \"time\"])\n",
    "print(\"Sample lat, lon and time converted to datafile (sampleMetaDF). \"+str(len(sampleMetaDF))+\" samples identified.\")\n",
    "sampleMetaDF.head()"
   ]
  },
  {
   "cell_type": "code",
   "execution_count": 16,
   "id": "36cc0730",
   "metadata": {
    "code_folding": [
     0
    ],
    "jupyter": {
     "source_hidden": true
    },
    "scrolled": false
   },
   "outputs": [
    {
     "name": "stdout",
     "output_type": "stream",
     "text": [
      "SampleData converted to datafile (sampleDataDF). Datafiles combined into sampleDF. 2716200 samples identified.\n"
     ]
    },
    {
     "data": {
      "text/html": [
       "<div>\n",
       "<style scoped>\n",
       "    .dataframe tbody tr th:only-of-type {\n",
       "        vertical-align: middle;\n",
       "    }\n",
       "\n",
       "    .dataframe tbody tr th {\n",
       "        vertical-align: top;\n",
       "    }\n",
       "\n",
       "    .dataframe thead th {\n",
       "        text-align: right;\n",
       "    }\n",
       "</style>\n",
       "<table border=\"1\" class=\"dataframe\">\n",
       "  <thead>\n",
       "    <tr style=\"text-align: right;\">\n",
       "      <th></th>\n",
       "      <th>lat</th>\n",
       "      <th>lon</th>\n",
       "      <th>time</th>\n",
       "      <th>0.5057600140571594</th>\n",
       "      <th>1.5558552742004395</th>\n",
       "      <th>2.6676816940307617</th>\n",
       "      <th>3.8562798500061035</th>\n",
       "      <th>5.140361309051514</th>\n",
       "      <th>6.543033599853516</th>\n",
       "      <th>8.09251880645752</th>\n",
       "      <th>...</th>\n",
       "      <th>856.678955078125</th>\n",
       "      <th>947.4478759765625</th>\n",
       "      <th>1045.854248046875</th>\n",
       "      <th>1151.9912109375</th>\n",
       "      <th>1265.8614501953125</th>\n",
       "      <th>1387.376953125</th>\n",
       "      <th>1516.3636474609375</th>\n",
       "      <th>1652.5684814453125</th>\n",
       "      <th>1795.6707763671875</th>\n",
       "      <th>1945.2955322265625</th>\n",
       "    </tr>\n",
       "  </thead>\n",
       "  <tbody>\n",
       "    <tr>\n",
       "      <th>0</th>\n",
       "      <td>-65.703316</td>\n",
       "      <td>73.5</td>\n",
       "      <td>1980-01-01</td>\n",
       "      <td>-1.270198</td>\n",
       "      <td>-1.278426</td>\n",
       "      <td>-1.298570</td>\n",
       "      <td>-1.315566</td>\n",
       "      <td>-1.330114</td>\n",
       "      <td>-1.344970</td>\n",
       "      <td>-1.361599</td>\n",
       "      <td>...</td>\n",
       "      <td>0.826923</td>\n",
       "      <td>0.787950</td>\n",
       "      <td>0.732231</td>\n",
       "      <td>0.670286</td>\n",
       "      <td>0.608106</td>\n",
       "      <td>0.545688</td>\n",
       "      <td>0.491127</td>\n",
       "      <td>0.438452</td>\n",
       "      <td>0.378714</td>\n",
       "      <td>0.319977</td>\n",
       "    </tr>\n",
       "    <tr>\n",
       "      <th>1</th>\n",
       "      <td>-65.288567</td>\n",
       "      <td>73.5</td>\n",
       "      <td>1980-01-01</td>\n",
       "      <td>-1.215177</td>\n",
       "      <td>-1.222939</td>\n",
       "      <td>-1.236639</td>\n",
       "      <td>-1.251741</td>\n",
       "      <td>-1.265477</td>\n",
       "      <td>-1.279213</td>\n",
       "      <td>-1.294460</td>\n",
       "      <td>...</td>\n",
       "      <td>0.826653</td>\n",
       "      <td>0.782907</td>\n",
       "      <td>0.729958</td>\n",
       "      <td>0.672249</td>\n",
       "      <td>0.608251</td>\n",
       "      <td>0.545634</td>\n",
       "      <td>0.488621</td>\n",
       "      <td>0.432889</td>\n",
       "      <td>0.369259</td>\n",
       "      <td>0.311733</td>\n",
       "    </tr>\n",
       "    <tr>\n",
       "      <th>2</th>\n",
       "      <td>-63.562469</td>\n",
       "      <td>73.5</td>\n",
       "      <td>1980-01-01</td>\n",
       "      <td>-0.623297</td>\n",
       "      <td>-0.655731</td>\n",
       "      <td>-0.686510</td>\n",
       "      <td>-0.712406</td>\n",
       "      <td>-0.737661</td>\n",
       "      <td>-0.764478</td>\n",
       "      <td>-0.794132</td>\n",
       "      <td>...</td>\n",
       "      <td>1.073619</td>\n",
       "      <td>1.012067</td>\n",
       "      <td>0.949024</td>\n",
       "      <td>0.882289</td>\n",
       "      <td>0.809235</td>\n",
       "      <td>0.728964</td>\n",
       "      <td>0.643517</td>\n",
       "      <td>0.556008</td>\n",
       "      <td>0.467829</td>\n",
       "      <td>0.382068</td>\n",
       "    </tr>\n",
       "    <tr>\n",
       "      <th>3</th>\n",
       "      <td>-60.270821</td>\n",
       "      <td>73.5</td>\n",
       "      <td>1980-01-01</td>\n",
       "      <td>-0.119660</td>\n",
       "      <td>-0.139341</td>\n",
       "      <td>-0.165811</td>\n",
       "      <td>-0.191353</td>\n",
       "      <td>-0.216995</td>\n",
       "      <td>-0.243212</td>\n",
       "      <td>-0.273204</td>\n",
       "      <td>...</td>\n",
       "      <td>1.675978</td>\n",
       "      <td>1.567269</td>\n",
       "      <td>1.450658</td>\n",
       "      <td>1.328806</td>\n",
       "      <td>1.202450</td>\n",
       "      <td>1.072643</td>\n",
       "      <td>0.943726</td>\n",
       "      <td>0.820530</td>\n",
       "      <td>0.705919</td>\n",
       "      <td>0.608210</td>\n",
       "    </tr>\n",
       "    <tr>\n",
       "      <th>4</th>\n",
       "      <td>-59.771149</td>\n",
       "      <td>73.5</td>\n",
       "      <td>1980-01-01</td>\n",
       "      <td>0.118221</td>\n",
       "      <td>0.096480</td>\n",
       "      <td>0.064821</td>\n",
       "      <td>0.033657</td>\n",
       "      <td>0.004099</td>\n",
       "      <td>-0.027825</td>\n",
       "      <td>-0.066302</td>\n",
       "      <td>...</td>\n",
       "      <td>1.589191</td>\n",
       "      <td>1.490842</td>\n",
       "      <td>1.384766</td>\n",
       "      <td>1.272758</td>\n",
       "      <td>1.153625</td>\n",
       "      <td>1.027860</td>\n",
       "      <td>0.903003</td>\n",
       "      <td>0.792074</td>\n",
       "      <td>0.691611</td>\n",
       "      <td>0.619673</td>\n",
       "    </tr>\n",
       "  </tbody>\n",
       "</table>\n",
       "<p>5 rows × 57 columns</p>\n",
       "</div>"
      ],
      "text/plain": [
       "         lat   lon       time  0.5057600140571594  1.5558552742004395  \\\n",
       "0 -65.703316  73.5 1980-01-01           -1.270198           -1.278426   \n",
       "1 -65.288567  73.5 1980-01-01           -1.215177           -1.222939   \n",
       "2 -63.562469  73.5 1980-01-01           -0.623297           -0.655731   \n",
       "3 -60.270821  73.5 1980-01-01           -0.119660           -0.139341   \n",
       "4 -59.771149  73.5 1980-01-01            0.118221            0.096480   \n",
       "\n",
       "   2.6676816940307617  3.8562798500061035  5.140361309051514  \\\n",
       "0           -1.298570           -1.315566          -1.330114   \n",
       "1           -1.236639           -1.251741          -1.265477   \n",
       "2           -0.686510           -0.712406          -0.737661   \n",
       "3           -0.165811           -0.191353          -0.216995   \n",
       "4            0.064821            0.033657           0.004099   \n",
       "\n",
       "   6.543033599853516  8.09251880645752  ...  856.678955078125  \\\n",
       "0          -1.344970         -1.361599  ...          0.826923   \n",
       "1          -1.279213         -1.294460  ...          0.826653   \n",
       "2          -0.764478         -0.794132  ...          1.073619   \n",
       "3          -0.243212         -0.273204  ...          1.675978   \n",
       "4          -0.027825         -0.066302  ...          1.589191   \n",
       "\n",
       "   947.4478759765625  1045.854248046875  1151.9912109375  1265.8614501953125  \\\n",
       "0           0.787950           0.732231         0.670286            0.608106   \n",
       "1           0.782907           0.729958         0.672249            0.608251   \n",
       "2           1.012067           0.949024         0.882289            0.809235   \n",
       "3           1.567269           1.450658         1.328806            1.202450   \n",
       "4           1.490842           1.384766         1.272758            1.153625   \n",
       "\n",
       "   1387.376953125  1516.3636474609375  1652.5684814453125  1795.6707763671875  \\\n",
       "0        0.545688            0.491127            0.438452            0.378714   \n",
       "1        0.545634            0.488621            0.432889            0.369259   \n",
       "2        0.728964            0.643517            0.556008            0.467829   \n",
       "3        1.072643            0.943726            0.820530            0.705919   \n",
       "4        1.027860            0.903003            0.792074            0.691611   \n",
       "\n",
       "   1945.2955322265625  \n",
       "0            0.319977  \n",
       "1            0.311733  \n",
       "2            0.382068  \n",
       "3            0.608210  \n",
       "4            0.619673  \n",
       "\n",
       "[5 rows x 57 columns]"
      ]
     },
     "execution_count": 16,
     "metadata": {},
     "output_type": "execute_result"
    }
   ],
   "source": [
    "#Temperature data to table and table merging cell\n",
    "#Generating surface temperature level value and column name\n",
    "surfaceTemp = sampleData[\"lev\"][0].values\n",
    "surfaceData = sampleData.sel(lev = surfaceTemp)\n",
    "surfaceTempName = \"Surface Temp (\"+str(np.round(surfaceTemp,2))+\")\"\n",
    "\n",
    "#Exporting sample data into pandas\n",
    "if True:\n",
    "    sampleDataDF = sampleData.to_pandas()\n",
    "    \n",
    "    sampleDataDFClean = sampleDataDF.reset_index()\n",
    "    sampleDataDFClean = sampleDataDFClean.drop(columns=['ij'])\n",
    "    sampleDF = pd.concat([sampleMetaDF, sampleDataDFClean.drop(columns=[\"time\"])], axis=1) #Removes time from second table for merge\n",
    "else:\n",
    "    sampleDF = sampleMetaDF\n",
    "    \n",
    "sampleDF[\"time\"] = pd.to_datetime(sampleDF[\"time\"])\n",
    "print(\"SampleData converted to datafile (sampleDataDF). Datafiles combined into sampleDF. \"+str(len(sampleDF))+\" samples identified.\")\n",
    "sampleDF.head()"
   ]
  },
  {
   "cell_type": "code",
   "execution_count": 17,
   "id": "ffba7e7d",
   "metadata": {
    "code_folding": [
     0
    ],
    "jupyter": {
     "source_hidden": true
    }
   },
   "outputs": [],
   "source": [
    "#Location Plotting Cell\n",
    "#locationPlotGroupDFTime(sampleDF, \"Sample locations\", (10,10), 1) #Should match mask\n",
    "plt.show()"
   ]
  },
  {
   "cell_type": "markdown",
   "id": "5c68a962",
   "metadata": {},
   "source": [
    "### Scaling\n",
    "<b>Scaling Implementation</b><br>\n",
    "Applying scaling to the data set, ensuring all levels have same influence over data."
   ]
  },
  {
   "cell_type": "code",
   "execution_count": 18,
   "id": "2876688c",
   "metadata": {
    "code_folding": [
     0
    ]
   },
   "outputs": [
    {
     "name": "stdout",
     "output_type": "stream",
     "text": [
      "Scaler calculated for data, stored in scalerUK.\n"
     ]
    }
   ],
   "source": [
    "#Scaler calculation cell\n",
    "scalerUK = preprocessing.StandardScaler().fit(sampleData)\n",
    "print(\"Scaler calculated for data, stored in scalerUK.\")"
   ]
  },
  {
   "cell_type": "code",
   "execution_count": 19,
   "id": "bf1c5f2b",
   "metadata": {
    "code_folding": [
     0
    ]
   },
   "outputs": [
    {
     "name": "stdout",
     "output_type": "stream",
     "text": [
      "Sample data scaled and stored in sampleDataScaled.\n"
     ]
    }
   ],
   "source": [
    "#Scaler application cell\n",
    "sampleDataScaled = scalerUK.transform(sampleData)\n",
    "print(\"Sample data scaled and stored in sampleDataScaled.\")"
   ]
  },
  {
   "cell_type": "markdown",
   "id": "c77c3403",
   "metadata": {},
   "source": [
    "<br>\n",
    "<b>Scaling comparison</b><br>\n",
    "Comparing raw temperature profiles with their scaled equivalent. To show individual plots set solo to True."
   ]
  },
  {
   "cell_type": "code",
   "execution_count": 20,
   "id": "46dfbce2",
   "metadata": {
    "code_folding": [
     0
    ],
    "jupyter": {
     "source_hidden": true
    }
   },
   "outputs": [
    {
     "data": {
      "image/png": "[encoded data removed]",
      "text/plain": [
       "<Figure size 432x288 with 1 Axes>"
      ]
     },
     "metadata": {
      "needs_background": "light"
     },
     "output_type": "display_data"
    },
    {
     "data": {
      "image/png": "[encoded data removed]",
      "text/plain": [
       "<Figure size 432x288 with 1 Axes>"
      ]
     },
     "metadata": {
      "needs_background": "light"
     },
     "output_type": "display_data"
    }
   ],
   "source": [
    "#Scaled temperature profile plotting cell\n",
    "solo = False #Set to true for seperate plots, false for combined plots.\n",
    "for i in range(5):\n",
    "    x = np.random.randint(len(sampleMetaDF))\n",
    "    tempPointPlot(sampleData[x], x, \"sample raw \"+str(x), solo*2*i)\n",
    "    tempPointPlot(sampleDataScaled[x], x, \"sample scaled \"+str(x), solo*2*i+1)\n",
    "plt.show()"
   ]
  },
  {
   "cell_type": "markdown",
   "id": "95571ede",
   "metadata": {},
   "source": [
    "<br>"
   ]
  },
  {
   "cell_type": "markdown",
   "id": "dace9a63",
   "metadata": {},
   "source": [
    "### Principle Component Analysis\n",
    "This process is performed to reduce the number of dimensions of the the data, as well as to improve overall model\n",
    "performance."
   ]
  },
  {
   "cell_type": "code",
   "execution_count": 21,
   "id": "21401d78",
   "metadata": {
    "code_folding": [
     0
    ]
   },
   "outputs": [
    {
     "name": "stdout",
     "output_type": "stream",
     "text": [
      "For 1 PCA components, 0.9481123668785881 is explained.\n",
      "For 2 PCA components, 0.9761218995025529 is explained.\n",
      "For 3 PCA components, 0.9908886535861975 is explained.\n",
      "Threshold of 0.98 exceeded, pcaNControl assigned a value of 3\n",
      "For 4 PCA components, 0.997486573997797 is explained.\n",
      "For 5 PCA components, 0.9992984703796626 is explained.\n",
      "For 6 PCA components, 1.0000998635195855 is explained.\n",
      "For 7 PCA components, 1.0005397405729743 is explained.\n",
      "\n",
      "Assigned value of pcaNcontrol = 3\n"
     ]
    }
   ],
   "source": [
    "#PCA component setting cell\n",
    "for i in range(1,8):\n",
    "    pca = PCA(n_components=i) #initialising PCA \n",
    "    pca.fit(sampleDataScaled) #fitting model to data\n",
    "    totalVarianceExplained = np.sum(pca.explained_variance_ratio_)\n",
    "    print(\"For \"+str(i)+\" PCA components, \"+str(totalVarianceExplained)+\" is explained.\") #total variance explained by model.\n",
    "    if not(pcaNControl) and (totalVarianceExplained > pcaThreshold):\n",
    "        pcaNControl = i\n",
    "        print(\"Threshold of \"+str(pcaThreshold)+\" exceeded, pcaNControl assigned a value of \"+str(i))\n",
    "print(\"\\nAssigned value of pcaNcontrol = \"+str(pcaNControl))"
   ]
  },
  {
   "cell_type": "code",
   "execution_count": 22,
   "id": "17b1885f",
   "metadata": {
    "code_folding": [
     0
    ],
    "jupyter": {
     "source_hidden": true
    }
   },
   "outputs": [
    {
     "name": "stdout",
     "output_type": "stream",
     "text": [
      "Data passed through PCA to sampleDataPCA.\n"
     ]
    }
   ],
   "source": [
    "#PCA fitting cell\n",
    "pca = PCA(n_components=pcaNControl) #initialising PCA \n",
    "pca.fit(sampleDataScaled) #fitting model to data\n",
    "sampleDataScaledPCA = pca.transform(sampleDataScaled) #converting input data into PCA representation\n",
    "print(\"Data passed through PCA to sampleDataPCA.\")"
   ]
  },
  {
   "cell_type": "markdown",
   "id": "a3005382",
   "metadata": {},
   "source": [
    "<br>"
   ]
  },
  {
   "cell_type": "markdown",
   "id": "cebe5aca",
   "metadata": {},
   "source": [
    "### Model generation/BIC score calculation\n",
    "To identify the best fitting models a BIC score metric is used, with a lower BIC score indicating a better model. BIC scores for each number of classes will differ based on starting values used in the modelling, so repeated runs of the BIC scoring helps to provide a more overall score for each number of classes.\n",
    "\n",
    "The number of iterations for each quantity of classes can be controlled by modifying the bicLoopControl variable at the top of the notepad in [Choices for data](#Choices-for-data)."
   ]
  },
  {
   "cell_type": "code",
   "execution_count": 23,
   "id": "39e5e975",
   "metadata": {
    "code_folding": [
     0
    ],
    "jupyter": {
     "source_hidden": true
    }
   },
   "outputs": [
    {
     "name": "stdout",
     "output_type": "stream",
     "text": [
      "Best GMM from training saved to GMM_UK_2Class_R3_v2.\n",
      "Modelling and scoring complete. The lowest bicScore was 28776441.37 for 2 from run 7.\n",
      "BIC values are stored in bicRaw, with lowest stored in bicMin and model in bestGGModel.\n"
     ]
    }
   ],
   "source": [
    "#GMM modelling cell\n",
    "bicMin = np.infty\n",
    "bicComponentMin = 2\n",
    "bicRaw = np.empty(shape=(0))\n",
    "\n",
    "bicCurrentArray = np.empty(shape=(0))\n",
    "for i in range(firstBicLoopControl):    #Number of iterations for each number of components\n",
    "    GMModel = mixture.GaussianMixture(n_components = 2, covariance_type = cvType) #Run modelling\n",
    "    GMModel.fit(sampleDataScaledPCA)\n",
    "\n",
    "    bicCurrent = GMModel.bic(sampleDataScaledPCA)\n",
    "    bicCurrentArray = np.append(bicCurrentArray, bicCurrent)\n",
    "    if bicCurrent < bicMin:   #if latest BIC score is lowest, update and save model\n",
    "        bicMin = bicCurrent\n",
    "        bicComponentMin = 2\n",
    "        bestGMModel = GMModel\n",
    "        GMMRunId = i\n",
    "\n",
    "bicRaw = np.append(bicRaw, bicCurrentArray)  \n",
    "componentNo = bestGMModel.n_components\n",
    "\n",
    "if componentNo != bicComponentMin:\n",
    "    print(\"Warning, error with assigning optimum GMM. The model was unable to be saved.\")\n",
    "elif saveModel:\n",
    "    saveModel(bestGMModel, modelName)\n",
    "    print(\"Best GMM from training saved to \"+modelName+\".\")\n",
    "\n",
    "print(\"Modelling and scoring complete. The lowest bicScore was \"+str(np.round(bicMin, 2))+\" for \"+str(bicComponentMin)+\" from run \"+str(GMMRunId)+\".\")\n",
    "print(\"BIC values are stored in bicRaw, with lowest stored in bicMin and model in bestGGModel.\")"
   ]
  },
  {
   "cell_type": "markdown",
   "id": "e9038911",
   "metadata": {},
   "source": [
    "<br>"
   ]
  },
  {
   "cell_type": "markdown",
   "id": "11c4ae3f",
   "metadata": {},
   "source": [
    "### BIC score calculations\n",
    "The average and minimum BIC scores for each number of components are calculated and stored in the corresponding arrays."
   ]
  },
  {
   "cell_type": "code",
   "execution_count": 24,
   "id": "7685259e",
   "metadata": {
    "code_folding": [
     0
    ],
    "jupyter": {
     "source_hidden": true
    }
   },
   "outputs": [
    {
     "name": "stdout",
     "output_type": "stream",
     "text": [
      "BIC score sorting finished. Lowest scores for each component value stored in bicMin, with average BIC scores stored in bicAvg.\n"
     ]
    }
   ],
   "source": [
    "#BIC score sorting cell\n",
    "bicAvg = np.infty\n",
    "bicAvg = np.mean(bicRaw)\n",
    "print(\"BIC score sorting finished. Lowest scores for each component value stored in bicMin, with average BIC scores stored in bicAvg.\")"
   ]
  },
  {
   "cell_type": "markdown",
   "id": "6252515f",
   "metadata": {},
   "source": [
    "<br>"
   ]
  },
  {
   "cell_type": "markdown",
   "id": "52267c1c",
   "metadata": {},
   "source": [
    "### BIC score plotting\n",
    "Plotting the BIC scores from the modelling. The minimum BIC score indicates the ideal number of classes to be used in the model."
   ]
  },
  {
   "cell_type": "code",
   "execution_count": 25,
   "id": "7ab83b43",
   "metadata": {
    "code_folding": [
     0
    ],
    "jupyter": {
     "source_hidden": true
    }
   },
   "outputs": [
    {
     "data": {
      "image/png": "[encoded data removed]",
      "text/plain": [
       "<Figure size 1440x576 with 1 Axes>"
      ]
     },
     "metadata": {
      "needs_background": "light"
     },
     "output_type": "display_data"
    },
    {
     "name": "stdout",
     "output_type": "stream",
     "text": [
      "Component number with minimum BIC score: 2 with a score of 28776441.366040032 from run 7.\n"
     ]
    }
   ],
   "source": [
    "#BIC curve plotting cell\n",
    "bicPlot(bicRaw, 0, firstBicLoopControl, 1, \"Initial BIC plot\", \"BIC score\", 1)\n",
    "plt.axhline(bicMin, color = \"Red\", ls=\"--\")\n",
    "plt.show()\n",
    "print(\"Component number with minimum BIC score: \"+str(componentNo)+\" with a score of \"+str(bicMin)+\" from run \"+str(GMMRunId)+\".\")"
   ]
  },
  {
   "cell_type": "markdown",
   "id": "795f576f",
   "metadata": {},
   "source": [
    "<br>"
   ]
  },
  {
   "cell_type": "markdown",
   "id": "f044696c",
   "metadata": {},
   "source": [
    "### Assigning class labels to each profile using the best GMM\n",
    "Implementation of classification."
   ]
  },
  {
   "cell_type": "code",
   "execution_count": 26,
   "id": "95135a22",
   "metadata": {
    "code_folding": [
     0
    ]
   },
   "outputs": [
    {
     "name": "stdout",
     "output_type": "stream",
     "text": [
      "Labels, posterior probabilities and class uncertainties identified.\n"
     ]
    }
   ],
   "source": [
    "#Classification and classification probability cell\n",
    "labels = bestGMModel.predict(sampleDataScaledPCA) #assignment of class labels from best GMM\n",
    "posteriorProbs = bestGMModel.predict_proba(sampleDataScaledPCA) #probability of profile belonging in class\n",
    "maxPosteriorProbs = np.max(posteriorProbs, axis=1)\n",
    "classUncertainty = 2 - 2*maxPosteriorProbs\n",
    "print(\"Labels, posterior probabilities and class uncertainties identified.\")"
   ]
  },
  {
   "cell_type": "code",
   "execution_count": 27,
   "id": "1a44792c",
   "metadata": {
    "code_folding": [
     0
    ],
    "jupyter": {
     "source_hidden": true
    }
   },
   "outputs": [
    {
     "name": "stdout",
     "output_type": "stream",
     "text": [
      "Labels identified for model (2 components) and added to sampleDF with associated probability.\n"
     ]
    }
   ],
   "source": [
    "#Initial class labels to sampleDF table cell\n",
    "try:\n",
    "    sampleDF = sampleDF.drop(columns=[\"label\", \"max posterior prob\", \"classUncertainty\"]) #removes any previous labels or probabilities\n",
    "except:\n",
    "    pass\n",
    "sampleDF.insert(3, \"label\", labels, True)\n",
    "sampleDF.insert(4, \"max posterior prob\", maxPosteriorProbs, True)\n",
    "sampleDF.insert(5, \"classUncertainty\", classUncertainty, True)\n",
    "print(\"Labels identified for model (\"+str(componentNo)+\" components) and added to sampleDF with associated probability.\")"
   ]
  },
  {
   "cell_type": "markdown",
   "id": "4c1a5fce",
   "metadata": {},
   "source": [
    "<br>"
   ]
  },
  {
   "cell_type": "markdown",
   "id": "05adb4d5",
   "metadata": {},
   "source": [
    "### Calculating properties of profiles based on class assignment"
   ]
  },
  {
   "cell_type": "code",
   "execution_count": 28,
   "id": "c7fe21ee",
   "metadata": {
    "code_folding": [
     0
    ],
    "jupyter": {
     "source_hidden": true
    }
   },
   "outputs": [
    {
     "name": "stdout",
     "output_type": "stream",
     "text": [
      "Sample dataframe grouped by label (sampleDFGrouped) and means taken (sampleDFMeans).\n"
     ]
    }
   ],
   "source": [
    "#Class Mean Calculation Cell\n",
    "sampleDFGrouped = sampleDF.groupby(\"label\") #group profiles according to label\n",
    "sampleDFMeans = sampleDFGrouped.mean() #calculate mean of all profiles in each class\n",
    "print(\"Sample dataframe grouped by label (sampleDFGrouped) and means taken (sampleDFMeans).\")"
   ]
  },
  {
   "cell_type": "markdown",
   "id": "d4c50e3e",
   "metadata": {},
   "source": [
    "<br>"
   ]
  },
  {
   "cell_type": "markdown",
   "id": "2eb306cc",
   "metadata": {},
   "source": [
    "### Sort the labels based on mean near-surface temperatures"
   ]
  },
  {
   "cell_type": "code",
   "execution_count": 29,
   "id": "7cecdae1",
   "metadata": {
    "code_folding": [
     0
    ]
   },
   "outputs": [
    {
     "name": "stdout",
     "output_type": "stream",
     "text": [
      "Surface temperature means taken and sorted. Label dictionary created and stored in di.\n"
     ]
    }
   ],
   "source": [
    "#Sorted Dictionary creation cell\n",
    "surfaceMeans = sampleDFMeans[surfaceTemp].to_numpy() #Takes first temperature data column\n",
    "surfaceMeansOrder = np.argsort(surfaceMeans)\n",
    "di = dict(zip(surfaceMeansOrder, range(0, componentNo)))\n",
    "print(\"Surface temperature means taken and sorted. Label dictionary created and stored in di.\")"
   ]
  },
  {
   "cell_type": "code",
   "execution_count": 30,
   "id": "a4af7d3f",
   "metadata": {
    "code_folding": [
     0
    ],
    "jupyter": {
     "source_hidden": true
    }
   },
   "outputs": [
    {
     "name": "stdout",
     "output_type": "stream",
     "text": [
      "Sorted labels assigned to sampleDF based on surface temperature, coldest to warmest.\n"
     ]
    }
   ],
   "source": [
    "#Sorted label column to tables cell\n",
    "try: #Removing labelSorted column from tables\n",
    "    sampleMetaDF = sampleMetaDF.drop(columns = \"labelSorted\")\n",
    "except:\n",
    "    pass\n",
    "try:\n",
    "    sampleDF = sampleDF.drop(columns = \"labelSorted\")\n",
    "except:\n",
    "    pass\n",
    "\n",
    "#Adding sorted label information to sampleMetaDF and sampleDF\n",
    "sampleMetaDF.insert(3, \"labelSorted\", sampleDF[\"label\"].map(di))\n",
    "sampleDF.insert(5, \"labelSorted\", sampleDF[\"label\"].map(di))\n",
    "print(\"Sorted labels assigned to sampleDF based on surface temperature, coldest to warmest.\")"
   ]
  },
  {
   "cell_type": "code",
   "execution_count": 31,
   "id": "b1b6dffb",
   "metadata": {
    "code_folding": [
     0
    ]
   },
   "outputs": [
    {
     "data": {
      "text/html": [
       "<div>\n",
       "<style scoped>\n",
       "    .dataframe tbody tr th:only-of-type {\n",
       "        vertical-align: middle;\n",
       "    }\n",
       "\n",
       "    .dataframe tbody tr th {\n",
       "        vertical-align: top;\n",
       "    }\n",
       "\n",
       "    .dataframe thead th {\n",
       "        text-align: right;\n",
       "    }\n",
       "</style>\n",
       "<table border=\"1\" class=\"dataframe\">\n",
       "  <thead>\n",
       "    <tr style=\"text-align: right;\">\n",
       "      <th></th>\n",
       "      <th>lat</th>\n",
       "      <th>lon</th>\n",
       "      <th>time</th>\n",
       "      <th>labelSorted</th>\n",
       "      <th>max posterior prob</th>\n",
       "      <th>classUncertainty</th>\n",
       "    </tr>\n",
       "  </thead>\n",
       "  <tbody>\n",
       "    <tr>\n",
       "      <th>0</th>\n",
       "      <td>-65.703316</td>\n",
       "      <td>73.5</td>\n",
       "      <td>1980-01-01</td>\n",
       "      <td>0</td>\n",
       "      <td>1.0</td>\n",
       "      <td>2.965486e-10</td>\n",
       "    </tr>\n",
       "    <tr>\n",
       "      <th>1</th>\n",
       "      <td>-65.288567</td>\n",
       "      <td>73.5</td>\n",
       "      <td>1980-01-01</td>\n",
       "      <td>0</td>\n",
       "      <td>1.0</td>\n",
       "      <td>5.714185e-11</td>\n",
       "    </tr>\n",
       "    <tr>\n",
       "      <th>2</th>\n",
       "      <td>-63.562469</td>\n",
       "      <td>73.5</td>\n",
       "      <td>1980-01-01</td>\n",
       "      <td>0</td>\n",
       "      <td>1.0</td>\n",
       "      <td>1.422853e-10</td>\n",
       "    </tr>\n",
       "    <tr>\n",
       "      <th>3</th>\n",
       "      <td>-60.270821</td>\n",
       "      <td>73.5</td>\n",
       "      <td>1980-01-01</td>\n",
       "      <td>0</td>\n",
       "      <td>1.0</td>\n",
       "      <td>1.603589e-08</td>\n",
       "    </tr>\n",
       "    <tr>\n",
       "      <th>4</th>\n",
       "      <td>-59.771149</td>\n",
       "      <td>73.5</td>\n",
       "      <td>1980-01-01</td>\n",
       "      <td>0</td>\n",
       "      <td>1.0</td>\n",
       "      <td>9.994003e-09</td>\n",
       "    </tr>\n",
       "  </tbody>\n",
       "</table>\n",
       "</div>"
      ],
      "text/plain": [
       "         lat   lon       time  labelSorted  max posterior prob  \\\n",
       "0 -65.703316  73.5 1980-01-01            0                 1.0   \n",
       "1 -65.288567  73.5 1980-01-01            0                 1.0   \n",
       "2 -63.562469  73.5 1980-01-01            0                 1.0   \n",
       "3 -60.270821  73.5 1980-01-01            0                 1.0   \n",
       "4 -59.771149  73.5 1980-01-01            0                 1.0   \n",
       "\n",
       "   classUncertainty  \n",
       "0      2.965486e-10  \n",
       "1      5.714185e-11  \n",
       "2      1.422853e-10  \n",
       "3      1.603589e-08  \n",
       "4      9.994003e-09  "
      ]
     },
     "execution_count": 31,
     "metadata": {},
     "output_type": "execute_result"
    }
   ],
   "source": [
    "#Probability and uncertainty adition to sampleMetaDF (cell)\n",
    "try:\n",
    "    sampleMetaDF = sampleMetaDF.drop(columns = [\"max posterior prob\", \"classUncertainty\"])\n",
    "except:\n",
    "    pass\n",
    "\n",
    "sampleMetaDF.insert(4, \"max posterior prob\", maxPosteriorProbs, True)\n",
    "sampleMetaDF.insert(5, \"classUncertainty\", classUncertainty, True)\n",
    "sampleMetaDF.head()"
   ]
  },
  {
   "cell_type": "markdown",
   "id": "fc51d895",
   "metadata": {},
   "source": [
    "<br>"
   ]
  },
  {
   "cell_type": "markdown",
   "id": "191b7695",
   "metadata": {},
   "source": [
    "### Use pandas to calculate the properties of the profiles by sorted label"
   ]
  },
  {
   "cell_type": "code",
   "execution_count": 32,
   "id": "10244ae5",
   "metadata": {
    "code_folding": [
     0
    ],
    "jupyter": {
     "source_hidden": true
    }
   },
   "outputs": [
    {
     "name": "stdout",
     "output_type": "stream",
     "text": [
      "sampleDF grouped by sorted label (sampleDFSortGrouped), with means and standard deviations calculated for each group (sampleDFSortMeans, sampleDFSortStd).\n",
      "Number of samples in each group calculated and stored in profileCount.\n"
     ]
    }
   ],
   "source": [
    "#Class temperature means and stds cell\n",
    "sampleDFSortGrouped = sampleDF.groupby(\"labelSorted\")\n",
    "sampleDFSortMeans = sampleDFSortGrouped.mean()\n",
    "sampleDFSortStds = sampleDFSortGrouped.std()\n",
    "profileCount = sampleDFSortGrouped[sampleDF.columns[0]].count().to_numpy()\n",
    "print(\"sampleDF grouped by sorted label (sampleDFSortGrouped), with means and standard deviations calculated for each group (sampleDFSortMeans, sampleDFSortStd).\")\n",
    "print(\"Number of samples in each group calculated and stored in profileCount.\")"
   ]
  },
  {
   "cell_type": "markdown",
   "id": "a205f12e",
   "metadata": {},
   "source": [
    "<br>"
   ]
  },
  {
   "cell_type": "markdown",
   "id": "f6a7c8d1",
   "metadata": {},
   "source": [
    "### Confirmation of sorting\n",
    "The means printed below should be ordered, going from coldest to warmest."
   ]
  },
  {
   "cell_type": "code",
   "execution_count": 33,
   "id": "c38d4656",
   "metadata": {
    "code_folding": [
     0
    ],
    "jupyter": {
     "source_hidden": true
    }
   },
   "outputs": [
    {
     "name": "stdout",
     "output_type": "stream",
     "text": [
      "labelSorted\n",
      "0     0.394439\n",
      "1    12.374220\n",
      "Name: 0.5057600140571594, dtype: float32\n"
     ]
    }
   ],
   "source": [
    "#Temperature display cell\n",
    "print(sampleDFSortMeans[sampleDataDF.columns[0]])"
   ]
  },
  {
   "cell_type": "markdown",
   "id": "a2da5f2c",
   "metadata": {},
   "source": [
    "<br>"
   ]
  },
  {
   "cell_type": "markdown",
   "id": "ce1953f3",
   "metadata": {},
   "source": [
    "### Plotting the means and standard deviations of the classes by profile"
   ]
  },
  {
   "cell_type": "code",
   "execution_count": 34,
   "id": "81e767f8",
   "metadata": {
    "code_folding": [
     0
    ]
   },
   "outputs": [
    {
     "data": {
      "image/png": "[encoded data removed]",
      "text/plain": [
       "<Figure size 2520x720 with 2 Axes>"
      ]
     },
     "metadata": {},
     "output_type": "display_data"
    }
   ],
   "source": [
    "#Plotting mean and std profiles cell\n",
    "tempGroupProfile(sampleDFSortMeans, sampleDFSortStds, 1)\n",
    "plt.show()"
   ]
  },
  {
   "cell_type": "markdown",
   "id": "168b03f4",
   "metadata": {},
   "source": [
    "<br>"
   ]
  },
  {
   "cell_type": "markdown",
   "id": "d53bb02f",
   "metadata": {},
   "source": [
    "### Plotting location and cluster"
   ]
  },
  {
   "cell_type": "code",
   "execution_count": 35,
   "id": "5b0bb46b",
   "metadata": {
    "code_folding": [
     0
    ],
    "jupyter": {
     "source_hidden": true
    }
   },
   "outputs": [],
   "source": [
    "#Surface Temperature Plotting Cell\n",
    "if False:\n",
    "    plt.figure(1, figsize=(20,20))\n",
    "    ax = plt.axes(projection=ccrs.SouthPolarStereo())\n",
    "    ax.add_feature(cfeature.OCEAN)\n",
    "    ax.add_feature(cfeature.COASTLINE)\n",
    "    ax.coastlines()\n",
    "    ax.gridlines()\n",
    "    im = ax.scatter(sampleDF[\"lon\"], sampleDF[\"lat\"], transform=ccrs.PlateCarree(), c =  sampleDF[surfaceTempName], cmap='RdBu_r')\n",
    "    cb = plt.colorbar(im)\n",
    "    plt.plot(np.arange(0,361,1),np.ones(361)*-29.5, transform=ccrs.PlateCarree(), color=\"Black\")\n",
    "    plt.title(\"Surface Temperature of Samples\")\n",
    "    plt.show()"
   ]
  },
  {
   "cell_type": "code",
   "execution_count": 36,
   "id": "123983f2",
   "metadata": {
    "jupyter": {
     "source_hidden": true
    }
   },
   "outputs": [],
   "source": [
    "#locationPlotGroupDFLab(sampleDF, \"Location plot of grouping\", (25,25), 1)"
   ]
  },
  {
   "cell_type": "code",
   "execution_count": 37,
   "id": "a62cafea",
   "metadata": {
    "code_folding": [
     0
    ],
    "jupyter": {
     "source_hidden": true
    }
   },
   "outputs": [
    {
     "name": "stdout",
     "output_type": "stream",
     "text": [
      "Classifications, grouped by month.\n"
     ]
    }
   ],
   "source": [
    "#locationPlotGroupDFMonthly(sampleDF, \"Monthly summaries for training data set\", 1)\n",
    "print(\"Classifications, grouped by month.\")"
   ]
  },
  {
   "cell_type": "code",
   "execution_count": 38,
   "id": "653ac719",
   "metadata": {
    "code_folding": [
     0
    ],
    "jupyter": {
     "source_hidden": true
    }
   },
   "outputs": [
    {
     "name": "stdout",
     "output_type": "stream",
     "text": [
      "Uncertainty in classifications, grouped by month.\n"
     ]
    }
   ],
   "source": [
    "#locationPlotUncertaintyDFMonthly(sampleDF, \"Monthly uncertainty\", 1)\n",
    "print(\"Uncertainty in classifications, grouped by month.\")"
   ]
  },
  {
   "cell_type": "markdown",
   "id": "b6d2cd62",
   "metadata": {},
   "source": [
    "<br>"
   ]
  },
  {
   "cell_type": "markdown",
   "id": "f3ff1104",
   "metadata": {},
   "source": [
    "### Exporting Meta Data"
   ]
  },
  {
   "cell_type": "code",
   "execution_count": 39,
   "id": "2a900698",
   "metadata": {
    "code_folding": [
     0
    ]
   },
   "outputs": [
    {
     "name": "stdout",
     "output_type": "stream",
     "text": [
      "Meta data and mask exported to GMM_UK_2Class_R3_v2 _Meta.csv and _Mask.npy respectively\n"
     ]
    }
   ],
   "source": [
    "#Meta data export cell\n",
    "exportName = modelName + \"_Meta\"\n",
    "sampleMetaDF.to_csv(exportName) #Exporting meta data\n",
    "exportName = modelName + \"_Mask\"\n",
    "np.save(exportName, mask)\n",
    "print(\"Meta data and mask exported to \"+modelName+\" _Meta.csv and _Mask.npy respectively\")"
   ]
  },
  {
   "cell_type": "code",
   "execution_count": 40,
   "id": "c1b59487",
   "metadata": {
    "code_folding": [
     0
    ]
   },
   "outputs": [
    {
     "name": "stdout",
     "output_type": "stream",
     "text": [
      "Meta data reloaded from GMM_UK_2Class_R3_v2_Meta. 2716200 samples identified.\n"
     ]
    },
    {
     "data": {
      "text/html": [
       "<div>\n",
       "<style scoped>\n",
       "    .dataframe tbody tr th:only-of-type {\n",
       "        vertical-align: middle;\n",
       "    }\n",
       "\n",
       "    .dataframe tbody tr th {\n",
       "        vertical-align: top;\n",
       "    }\n",
       "\n",
       "    .dataframe thead th {\n",
       "        text-align: right;\n",
       "    }\n",
       "</style>\n",
       "<table border=\"1\" class=\"dataframe\">\n",
       "  <thead>\n",
       "    <tr style=\"text-align: right;\">\n",
       "      <th></th>\n",
       "      <th>Unnamed: 0</th>\n",
       "      <th>lat</th>\n",
       "      <th>lon</th>\n",
       "      <th>time</th>\n",
       "      <th>labelSorted</th>\n",
       "      <th>max posterior prob</th>\n",
       "      <th>classUncertainty</th>\n",
       "    </tr>\n",
       "  </thead>\n",
       "  <tbody>\n",
       "    <tr>\n",
       "      <th>0</th>\n",
       "      <td>0</td>\n",
       "      <td>-65.703316</td>\n",
       "      <td>73.5</td>\n",
       "      <td>1980-01-01</td>\n",
       "      <td>0</td>\n",
       "      <td>1.0</td>\n",
       "      <td>2.965486e-10</td>\n",
       "    </tr>\n",
       "    <tr>\n",
       "      <th>1</th>\n",
       "      <td>1</td>\n",
       "      <td>-65.288570</td>\n",
       "      <td>73.5</td>\n",
       "      <td>1980-01-01</td>\n",
       "      <td>0</td>\n",
       "      <td>1.0</td>\n",
       "      <td>5.714185e-11</td>\n",
       "    </tr>\n",
       "    <tr>\n",
       "      <th>2</th>\n",
       "      <td>2</td>\n",
       "      <td>-63.562470</td>\n",
       "      <td>73.5</td>\n",
       "      <td>1980-01-01</td>\n",
       "      <td>0</td>\n",
       "      <td>1.0</td>\n",
       "      <td>1.422853e-10</td>\n",
       "    </tr>\n",
       "    <tr>\n",
       "      <th>3</th>\n",
       "      <td>3</td>\n",
       "      <td>-60.270820</td>\n",
       "      <td>73.5</td>\n",
       "      <td>1980-01-01</td>\n",
       "      <td>0</td>\n",
       "      <td>1.0</td>\n",
       "      <td>1.603589e-08</td>\n",
       "    </tr>\n",
       "    <tr>\n",
       "      <th>4</th>\n",
       "      <td>4</td>\n",
       "      <td>-59.771150</td>\n",
       "      <td>73.5</td>\n",
       "      <td>1980-01-01</td>\n",
       "      <td>0</td>\n",
       "      <td>1.0</td>\n",
       "      <td>9.994003e-09</td>\n",
       "    </tr>\n",
       "  </tbody>\n",
       "</table>\n",
       "</div>"
      ],
      "text/plain": [
       "   Unnamed: 0        lat   lon        time  labelSorted  max posterior prob  \\\n",
       "0           0 -65.703316  73.5  1980-01-01            0                 1.0   \n",
       "1           1 -65.288570  73.5  1980-01-01            0                 1.0   \n",
       "2           2 -63.562470  73.5  1980-01-01            0                 1.0   \n",
       "3           3 -60.270820  73.5  1980-01-01            0                 1.0   \n",
       "4           4 -59.771150  73.5  1980-01-01            0                 1.0   \n",
       "\n",
       "   classUncertainty  \n",
       "0      2.965486e-10  \n",
       "1      5.714185e-11  \n",
       "2      1.422853e-10  \n",
       "3      1.603589e-08  \n",
       "4      9.994003e-09  "
      ]
     },
     "execution_count": 40,
     "metadata": {},
     "output_type": "execute_result"
    }
   ],
   "source": [
    "#Meta data reload cell\n",
    "importName = modelName + \"_Meta\"\n",
    "sampleMetaReload = pd.read_csv(importName)\n",
    "print(\"Meta data reloaded from \"+ importName +\". \"+str(len(sampleMetaReload))+\" samples identified.\")\n",
    "sampleMetaReload.head()"
   ]
  },
  {
   "cell_type": "markdown",
   "id": "72b31e98",
   "metadata": {},
   "source": [
    "<br>"
   ]
  },
  {
   "cell_type": "markdown",
   "id": "77b10feb",
   "metadata": {},
   "source": [
    "### Exporting Scaler"
   ]
  },
  {
   "cell_type": "code",
   "execution_count": 41,
   "id": "89890001",
   "metadata": {
    "code_folding": [
     0
    ]
   },
   "outputs": [
    {
     "name": "stdout",
     "output_type": "stream",
     "text": [
      "Scaler exported to GMM_UK_2Class_R3_v2_Scaler.\n"
     ]
    }
   ],
   "source": [
    "#Exporting scaler cell\n",
    "exportName = modelName + \"_Scaler\"\n",
    "dump(scalerUK, exportName, compress=True) #Saves\n",
    "print(\"Scaler exported to \"+ exportName +\".\")"
   ]
  },
  {
   "cell_type": "markdown",
   "id": "0332868c",
   "metadata": {},
   "source": [
    "<br>"
   ]
  },
  {
   "cell_type": "markdown",
   "id": "d568ecb6",
   "metadata": {},
   "source": [
    "### Exporting PCA"
   ]
  },
  {
   "cell_type": "code",
   "execution_count": 42,
   "id": "5a0ce647",
   "metadata": {
    "code_folding": [
     0
    ]
   },
   "outputs": [
    {
     "name": "stdout",
     "output_type": "stream",
     "text": [
      "PCA exported to GMM_UK_2Class_R3_v2_PCA.pkl.\n"
     ]
    }
   ],
   "source": [
    "#Exporting PCA cell\n",
    "exportName = modelName + \"_PCA.pkl\"\n",
    "pk.dump(pca, open(exportName, \"wb\"))\n",
    "print(\"PCA exported to \"+ exportName + \".\")"
   ]
  },
  {
   "cell_type": "code",
   "execution_count": 43,
   "id": "ecd6a47d",
   "metadata": {
    "code_folding": [
     0
    ]
   },
   "outputs": [
    {
     "name": "stdout",
     "output_type": "stream",
     "text": [
      "PCA reloaded. Original total variance was: 0.9908888941743108. Reloaded total variance was: 0.9908889061184015.\n"
     ]
    }
   ],
   "source": [
    "#Reloading PCA cell\n",
    "importName = modelName + \"_PCA.pkl\"\n",
    "pca_reload = pk.load(open(importName, \"rb\"))\n",
    "\n",
    "totalVarianceExplainedOg = np.sum(pca.explained_variance_ratio_)\n",
    "pca_reload.fit(sampleDataScaled)\n",
    "totalVarianceExplainedRe = np.sum(pca_reload.explained_variance_ratio_)\n",
    "print(\"PCA reloaded. Original total variance was: \"+str(totalVarianceExplainedOg)+\". Reloaded total variance was: \"+str(totalVarianceExplainedRe)+\".\")"
   ]
  },
  {
   "cell_type": "markdown",
   "id": "ecec88b7",
   "metadata": {},
   "source": [
    "<br>"
   ]
  },
  {
   "cell_type": "markdown",
   "id": "c4cc728a",
   "metadata": {},
   "source": [
    "### Single Point investigation"
   ]
  },
  {
   "cell_type": "code",
   "execution_count": 44,
   "id": "8ff9c063",
   "metadata": {
    "code_folding": [
     0
    ]
   },
   "outputs": [
    {
     "name": "stdout",
     "output_type": "stream",
     "text": [
      "Class 0 above -45 and Class 1 below -60 lat. Stored in labelAnomDF. 691 anomalous points detected.\n"
     ]
    }
   ],
   "source": [
    "#Initial anomalous data point df creation cell\n",
    "labelAnomDF = sampleDF[np.logical_or(np.logical_and(sampleDF[\"lat\"]<-60, sampleDF[\"labelSorted\"]==1), np.logical_and(sampleDF[\"lat\"]>-45, sampleDF[\"labelSorted\"]==0))]\n",
    "print(\"Class 0 above -45 and Class 1 below -60 lat. Stored in labelAnomDF. \"+str(len(labelAnomDF))+\" anomalous points detected.\")"
   ]
  },
  {
   "cell_type": "code",
   "execution_count": 45,
   "id": "93f9bca6",
   "metadata": {
    "code_folding": [
     0
    ]
   },
   "outputs": [
    {
     "name": "stdout",
     "output_type": "stream",
     "text": [
      "High Classification Confidence DF of labelAnomDF (<0.25). 92 anomalous points detected.\n"
     ]
    }
   ],
   "source": [
    "#High confidence anomalous data point df creation cell\n",
    "labelAnomConDF = labelAnomDF[labelAnomDF[\"classUncertainty\"]<0.25]\n",
    "print(\"High Classification Confidence DF of labelAnomDF (<0.25). \"+str(len(labelAnomConDF))+\" anomalous points detected.\")"
   ]
  },
  {
   "cell_type": "code",
   "execution_count": 46,
   "id": "c49887be",
   "metadata": {},
   "outputs": [
    {
     "data": {
      "image/png": "[encoded data removed]",
      "text/plain": [
       "<Figure size 432x288 with 1 Axes>"
      ]
     },
     "metadata": {},
     "output_type": "display_data"
    }
   ],
   "source": [
    "antarcticAnomDF = labelAnomDF[np.logical_and(labelAnomDF[\"label\"]==1, labelAnomDF[\"lat\"]<-70)]\n",
    "#antarcticAnomDF\n",
    "for i in range(5):\n",
    "    x = np.random.randint(len(antarcticAnomDF))\n",
    "    tempProfile = np.array(antarcticAnomDF.iloc[x, 7:])\n",
    "    tempPointPlot(tempProfile, x, \"Antarctic Anomalous Classification Temperature Profiles\", 1)\n",
    "    \n",
    "    #tempProfileScaled = scalerUK.transform(tempProfile)\n",
    "    #tempPointPlot(tempProfileScaled, x, \"Antarctic Anomalous Classification Temperature Profiles Scaled\", 2)\n",
    "plt.show()"
   ]
  },
  {
   "cell_type": "code",
   "execution_count": 48,
   "id": "9382a692",
   "metadata": {},
   "outputs": [],
   "source": [
    "x = np.load(\"GMM_UK_2Class_R1_Mask.npy\")\n",
    "y = np.load(\"GMM_UK_2Class_R3_v2_Mask.npy\")\n",
    "z = (x == y)\n",
    "for i in z:\n",
    "    if i:\n",
    "        continue\n",
    "    else:\n",
    "        print(\"False\")"
   ]
  },
  {
   "cell_type": "markdown",
   "id": "9f9d0814",
   "metadata": {},
   "source": [
    "### End of Notepad"
   ]
  }
 ],
 "metadata": {
  "kernelspec": {
   "display_name": "Python 3 (ipykernel)",
   "language": "python",
   "name": "python3"
  },
  "language_info": {
   "codemirror_mode": {
    "name": "ipython",
    "version": 3
   },
   "file_extension": ".py",
   "mimetype": "text/x-python",
   "name": "python",
   "nbconvert_exporter": "python",
   "pygments_lexer": "ipython3",
   "version": "3.9.5"
  }
 },
 "nbformat": 4,
 "nbformat_minor": 5
}
