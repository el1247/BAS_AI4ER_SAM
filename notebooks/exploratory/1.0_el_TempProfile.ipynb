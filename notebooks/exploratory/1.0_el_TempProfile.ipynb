{
 "cells": [
  {
   "cell_type": "markdown",
   "metadata": {},
   "source": [
    "# ESM Temperature Profile\n",
    "The purpose of this notebook is to plot the temperature profiles for the ESM3 temperature data from historic simulations.\n",
    "\n",
    "The [plotted data](#Plotted-Data) can be found in the bottom half of the document."
   ]
  },
  {
   "cell_type": "markdown",
   "metadata": {},
   "source": [
    "#### Dask Import"
   ]
  },
  {
   "cell_type": "code",
   "execution_count": 1,
   "metadata": {},
   "outputs": [
    {
     "data": {
      "text/html": [
       "<table style=\"border: 2px solid white;\">\n",
       "<tr>\n",
       "<td style=\"vertical-align: top; border: 0px solid white\">\n",
       "<h3 style=\"text-align: left;\">Client</h3>\n",
       "<ul style=\"text-align: left; list-style: none; margin: 0; padding: 0;\">\n",
       "  <li><b>Scheduler: </b>tcp://127.0.0.1:33633</li>\n",
       "  <li><b>Dashboard: </b><a href='http://127.0.0.1:8787/status' target='_blank'>http://127.0.0.1:8787/status</a></li>\n",
       "</ul>\n",
       "</td>\n",
       "<td style=\"vertical-align: top; border: 0px solid white\">\n",
       "<h3 style=\"text-align: left;\">Cluster</h3>\n",
       "<ul style=\"text-align: left; list-style:none; margin: 0; padding: 0;\">\n",
       "  <li><b>Workers: </b>6</li>\n",
       "  <li><b>Cores: </b>6</li>\n",
       "  <li><b>Memory: </b>38.65 GB</li>\n",
       "</ul>\n",
       "</td>\n",
       "</tr>\n",
       "</table>"
      ],
      "text/plain": [
       "<Client: 'tcp://127.0.0.1:33633' processes=6 threads=6, memory=38.65 GB>"
      ]
     },
     "execution_count": 1,
     "metadata": {},
     "output_type": "execute_result"
    }
   ],
   "source": [
    "from dask.distributed import Client\n",
    "\n",
    "client = Client(\"tcp://127.0.0.1:33633\")\n",
    "client"
   ]
  },
  {
   "cell_type": "markdown",
   "metadata": {},
   "source": [
    "<br>"
   ]
  },
  {
   "cell_type": "markdown",
   "metadata": {},
   "source": [
    "#### Choices for data"
   ]
  },
  {
   "cell_type": "code",
   "execution_count": 2,
   "metadata": {},
   "outputs": [],
   "source": [
    "#Experiment data for analysis\n",
    "dataVariableId = 'thetao'\n",
    "dataExperimentId = 'historical'\n",
    "dataSourceID = 'E3SM-1-0'\n",
    "\n",
    "#Ocean Area data for averaging\n",
    "areaActivityId = 'CMIP'\n",
    "areaVariableId = 'volcello'\n",
    "areaSourceId = 'E3SM-1-0'\n",
    "areaDataSetNo = 0 #First database in results to be used\n",
    "\n",
    "#Custom Variables\n",
    "latSel = slice(-89.5,-29.5) #Selected latitude to be investigated\n",
    "levSel = 5.0\n",
    "maskName = \"OceanMaskVolcello2\""
   ]
  },
  {
   "cell_type": "markdown",
   "metadata": {},
   "source": [
    "<br>"
   ]
  },
  {
   "cell_type": "markdown",
   "metadata": {},
   "source": [
    "#### Imports"
   ]
  },
  {
   "cell_type": "code",
   "execution_count": 3,
   "metadata": {
    "jupyter": {
     "source_hidden": true
    }
   },
   "outputs": [
    {
     "name": "stdout",
     "output_type": "stream",
     "text": [
      "Imports complete\n"
     ]
    }
   ],
   "source": [
    "import cartopy.crs as ccrs\n",
    "import dask.dataframe as dd\n",
    "import fsspec\n",
    "import numpy as np\n",
    "import matplotlib.pyplot as plt\n",
    "import pandas as pd\n",
    "import xarray as xr\n",
    "import zarr\n",
    "\n",
    "from dask import delayed\n",
    "from matplotlib.pyplot import cm\n",
    "from math import isnan\n",
    "print(\"Imports complete\")"
   ]
  },
  {
   "cell_type": "markdown",
   "metadata": {},
   "source": [
    "<br>"
   ]
  },
  {
   "cell_type": "markdown",
   "metadata": {},
   "source": [
    "#### Accessing Dataset Database"
   ]
  },
  {
   "cell_type": "code",
   "execution_count": 4,
   "metadata": {
    "jupyter": {
     "source_hidden": true
    }
   },
   "outputs": [
    {
     "name": "stdout",
     "output_type": "stream",
     "text": [
      "Database accessed\n"
     ]
    }
   ],
   "source": [
    "df = pd.read_csv('https://storage.googleapis.com/cmip6/cmip6-zarr-consolidated-stores.csv')\n",
    "print(\"Database accessed\")"
   ]
  },
  {
   "cell_type": "markdown",
   "metadata": {},
   "source": [
    "<br>"
   ]
  },
  {
   "cell_type": "markdown",
   "metadata": {},
   "source": [
    "#### Filtering for relevant data sets\n",
    "ESM3 data sets"
   ]
  },
  {
   "cell_type": "code",
   "execution_count": 5,
   "metadata": {
    "jupyter": {
     "source_hidden": true
    },
    "scrolled": true
   },
   "outputs": [
    {
     "name": "stdout",
     "output_type": "stream",
     "text": [
      "5 datasets found.\n"
     ]
    },
    {
     "data": {
      "text/html": [
       "<div>\n",
       "<style scoped>\n",
       "    .dataframe tbody tr th:only-of-type {\n",
       "        vertical-align: middle;\n",
       "    }\n",
       "\n",
       "    .dataframe tbody tr th {\n",
       "        vertical-align: top;\n",
       "    }\n",
       "\n",
       "    .dataframe thead th {\n",
       "        text-align: right;\n",
       "    }\n",
       "</style>\n",
       "<table border=\"1\" class=\"dataframe\">\n",
       "  <thead>\n",
       "    <tr style=\"text-align: right;\">\n",
       "      <th></th>\n",
       "      <th>activity_id</th>\n",
       "      <th>institution_id</th>\n",
       "      <th>source_id</th>\n",
       "      <th>experiment_id</th>\n",
       "      <th>member_id</th>\n",
       "      <th>table_id</th>\n",
       "      <th>variable_id</th>\n",
       "      <th>grid_label</th>\n",
       "      <th>zstore</th>\n",
       "      <th>dcpp_init_year</th>\n",
       "      <th>version</th>\n",
       "    </tr>\n",
       "  </thead>\n",
       "  <tbody>\n",
       "    <tr>\n",
       "      <th>270973</th>\n",
       "      <td>CMIP</td>\n",
       "      <td>E3SM-Project</td>\n",
       "      <td>E3SM-1-0</td>\n",
       "      <td>historical</td>\n",
       "      <td>r1i1p1f1</td>\n",
       "      <td>Omon</td>\n",
       "      <td>thetao</td>\n",
       "      <td>gr</td>\n",
       "      <td>gs://cmip6/CMIP6/CMIP/E3SM-Project/E3SM-1-0/hi...</td>\n",
       "      <td>NaN</td>\n",
       "      <td>20190826</td>\n",
       "    </tr>\n",
       "    <tr>\n",
       "      <th>271590</th>\n",
       "      <td>CMIP</td>\n",
       "      <td>E3SM-Project</td>\n",
       "      <td>E3SM-1-0</td>\n",
       "      <td>historical</td>\n",
       "      <td>r2i1p1f1</td>\n",
       "      <td>Omon</td>\n",
       "      <td>thetao</td>\n",
       "      <td>gr</td>\n",
       "      <td>gs://cmip6/CMIP6/CMIP/E3SM-Project/E3SM-1-0/hi...</td>\n",
       "      <td>NaN</td>\n",
       "      <td>20190830</td>\n",
       "    </tr>\n",
       "    <tr>\n",
       "      <th>401412</th>\n",
       "      <td>CMIP</td>\n",
       "      <td>E3SM-Project</td>\n",
       "      <td>E3SM-1-0</td>\n",
       "      <td>historical</td>\n",
       "      <td>r4i1p1f1</td>\n",
       "      <td>Omon</td>\n",
       "      <td>thetao</td>\n",
       "      <td>gr</td>\n",
       "      <td>gs://cmip6/CMIP6/CMIP/E3SM-Project/E3SM-1-0/hi...</td>\n",
       "      <td>NaN</td>\n",
       "      <td>20200129</td>\n",
       "    </tr>\n",
       "    <tr>\n",
       "      <th>401422</th>\n",
       "      <td>CMIP</td>\n",
       "      <td>E3SM-Project</td>\n",
       "      <td>E3SM-1-0</td>\n",
       "      <td>historical</td>\n",
       "      <td>r3i1p1f1</td>\n",
       "      <td>Omon</td>\n",
       "      <td>thetao</td>\n",
       "      <td>gr</td>\n",
       "      <td>gs://cmip6/CMIP6/CMIP/E3SM-Project/E3SM-1-0/hi...</td>\n",
       "      <td>NaN</td>\n",
       "      <td>20200129</td>\n",
       "    </tr>\n",
       "    <tr>\n",
       "      <th>430635</th>\n",
       "      <td>CMIP</td>\n",
       "      <td>E3SM-Project</td>\n",
       "      <td>E3SM-1-0</td>\n",
       "      <td>historical</td>\n",
       "      <td>r5i1p1f1</td>\n",
       "      <td>Omon</td>\n",
       "      <td>thetao</td>\n",
       "      <td>gr</td>\n",
       "      <td>gs://cmip6/CMIP6/CMIP/E3SM-Project/E3SM-1-0/hi...</td>\n",
       "      <td>NaN</td>\n",
       "      <td>20200429</td>\n",
       "    </tr>\n",
       "  </tbody>\n",
       "</table>\n",
       "</div>"
      ],
      "text/plain": [
       "       activity_id institution_id source_id experiment_id member_id table_id  \\\n",
       "270973        CMIP   E3SM-Project  E3SM-1-0    historical  r1i1p1f1     Omon   \n",
       "271590        CMIP   E3SM-Project  E3SM-1-0    historical  r2i1p1f1     Omon   \n",
       "401412        CMIP   E3SM-Project  E3SM-1-0    historical  r4i1p1f1     Omon   \n",
       "401422        CMIP   E3SM-Project  E3SM-1-0    historical  r3i1p1f1     Omon   \n",
       "430635        CMIP   E3SM-Project  E3SM-1-0    historical  r5i1p1f1     Omon   \n",
       "\n",
       "       variable_id grid_label  \\\n",
       "270973      thetao         gr   \n",
       "271590      thetao         gr   \n",
       "401412      thetao         gr   \n",
       "401422      thetao         gr   \n",
       "430635      thetao         gr   \n",
       "\n",
       "                                                   zstore  dcpp_init_year  \\\n",
       "270973  gs://cmip6/CMIP6/CMIP/E3SM-Project/E3SM-1-0/hi...             NaN   \n",
       "271590  gs://cmip6/CMIP6/CMIP/E3SM-Project/E3SM-1-0/hi...             NaN   \n",
       "401412  gs://cmip6/CMIP6/CMIP/E3SM-Project/E3SM-1-0/hi...             NaN   \n",
       "401422  gs://cmip6/CMIP6/CMIP/E3SM-Project/E3SM-1-0/hi...             NaN   \n",
       "430635  gs://cmip6/CMIP6/CMIP/E3SM-Project/E3SM-1-0/hi...             NaN   \n",
       "\n",
       "         version  \n",
       "270973  20190826  \n",
       "271590  20190830  \n",
       "401412  20200129  \n",
       "401422  20200129  \n",
       "430635  20200429  "
      ]
     },
     "execution_count": 5,
     "metadata": {},
     "output_type": "execute_result"
    }
   ],
   "source": [
    "dfFilt = df[df.variable_id.eq(dataVariableId) & df.experiment_id.eq(dataExperimentId) & df.source_id.eq(dataSourceID)]\n",
    "print(str(len(dfFilt))+\" datasets found.\")\n",
    "dfFilt"
   ]
  },
  {
   "cell_type": "markdown",
   "metadata": {},
   "source": [
    "<br>\n",
    "Ocean area data to be used for averaging"
   ]
  },
  {
   "cell_type": "code",
   "execution_count": 6,
   "metadata": {
    "jupyter": {
     "source_hidden": true
    }
   },
   "outputs": [
    {
     "name": "stdout",
     "output_type": "stream",
     "text": [
      "4 datasets found.\n"
     ]
    },
    {
     "data": {
      "text/html": [
       "<div>\n",
       "<style scoped>\n",
       "    .dataframe tbody tr th:only-of-type {\n",
       "        vertical-align: middle;\n",
       "    }\n",
       "\n",
       "    .dataframe tbody tr th {\n",
       "        vertical-align: top;\n",
       "    }\n",
       "\n",
       "    .dataframe thead th {\n",
       "        text-align: right;\n",
       "    }\n",
       "</style>\n",
       "<table border=\"1\" class=\"dataframe\">\n",
       "  <thead>\n",
       "    <tr style=\"text-align: right;\">\n",
       "      <th></th>\n",
       "      <th>activity_id</th>\n",
       "      <th>institution_id</th>\n",
       "      <th>source_id</th>\n",
       "      <th>experiment_id</th>\n",
       "      <th>member_id</th>\n",
       "      <th>table_id</th>\n",
       "      <th>variable_id</th>\n",
       "      <th>grid_label</th>\n",
       "      <th>zstore</th>\n",
       "      <th>dcpp_init_year</th>\n",
       "      <th>version</th>\n",
       "    </tr>\n",
       "  </thead>\n",
       "  <tbody>\n",
       "    <tr>\n",
       "      <th>502770</th>\n",
       "      <td>CMIP</td>\n",
       "      <td>E3SM-Project</td>\n",
       "      <td>E3SM-1-0</td>\n",
       "      <td>historical</td>\n",
       "      <td>r1i1p1f1</td>\n",
       "      <td>Omon</td>\n",
       "      <td>volcello</td>\n",
       "      <td>gr</td>\n",
       "      <td>gs://cmip6/CMIP6/CMIP/E3SM-Project/E3SM-1-0/hi...</td>\n",
       "      <td>NaN</td>\n",
       "      <td>20210127</td>\n",
       "    </tr>\n",
       "    <tr>\n",
       "      <th>502774</th>\n",
       "      <td>CMIP</td>\n",
       "      <td>E3SM-Project</td>\n",
       "      <td>E3SM-1-0</td>\n",
       "      <td>piControl</td>\n",
       "      <td>r1i1p1f1</td>\n",
       "      <td>Omon</td>\n",
       "      <td>volcello</td>\n",
       "      <td>gr</td>\n",
       "      <td>gs://cmip6/CMIP6/CMIP/E3SM-Project/E3SM-1-0/pi...</td>\n",
       "      <td>NaN</td>\n",
       "      <td>20210127</td>\n",
       "    </tr>\n",
       "    <tr>\n",
       "      <th>502778</th>\n",
       "      <td>CMIP</td>\n",
       "      <td>E3SM-Project</td>\n",
       "      <td>E3SM-1-0</td>\n",
       "      <td>historical</td>\n",
       "      <td>r5i1p1f1</td>\n",
       "      <td>Omon</td>\n",
       "      <td>volcello</td>\n",
       "      <td>gr</td>\n",
       "      <td>gs://cmip6/CMIP6/CMIP/E3SM-Project/E3SM-1-0/hi...</td>\n",
       "      <td>NaN</td>\n",
       "      <td>20210128</td>\n",
       "    </tr>\n",
       "    <tr>\n",
       "      <th>502780</th>\n",
       "      <td>CMIP</td>\n",
       "      <td>E3SM-Project</td>\n",
       "      <td>E3SM-1-0</td>\n",
       "      <td>historical</td>\n",
       "      <td>r4i1p1f1</td>\n",
       "      <td>Omon</td>\n",
       "      <td>volcello</td>\n",
       "      <td>gr</td>\n",
       "      <td>gs://cmip6/CMIP6/CMIP/E3SM-Project/E3SM-1-0/hi...</td>\n",
       "      <td>NaN</td>\n",
       "      <td>20210128</td>\n",
       "    </tr>\n",
       "  </tbody>\n",
       "</table>\n",
       "</div>"
      ],
      "text/plain": [
       "       activity_id institution_id source_id experiment_id member_id table_id  \\\n",
       "502770        CMIP   E3SM-Project  E3SM-1-0    historical  r1i1p1f1     Omon   \n",
       "502774        CMIP   E3SM-Project  E3SM-1-0     piControl  r1i1p1f1     Omon   \n",
       "502778        CMIP   E3SM-Project  E3SM-1-0    historical  r5i1p1f1     Omon   \n",
       "502780        CMIP   E3SM-Project  E3SM-1-0    historical  r4i1p1f1     Omon   \n",
       "\n",
       "       variable_id grid_label  \\\n",
       "502770    volcello         gr   \n",
       "502774    volcello         gr   \n",
       "502778    volcello         gr   \n",
       "502780    volcello         gr   \n",
       "\n",
       "                                                   zstore  dcpp_init_year  \\\n",
       "502770  gs://cmip6/CMIP6/CMIP/E3SM-Project/E3SM-1-0/hi...             NaN   \n",
       "502774  gs://cmip6/CMIP6/CMIP/E3SM-Project/E3SM-1-0/pi...             NaN   \n",
       "502778  gs://cmip6/CMIP6/CMIP/E3SM-Project/E3SM-1-0/hi...             NaN   \n",
       "502780  gs://cmip6/CMIP6/CMIP/E3SM-Project/E3SM-1-0/hi...             NaN   \n",
       "\n",
       "         version  \n",
       "502770  20210127  \n",
       "502774  20210127  \n",
       "502778  20210128  \n",
       "502780  20210128  "
      ]
     },
     "execution_count": 6,
     "metadata": {},
     "output_type": "execute_result"
    }
   ],
   "source": [
    "dfArea = df[df.activity_id.eq(areaActivityId) & df.variable_id.eq(areaVariableId) & df.source_id.eq(areaSourceId)]\n",
    "print(str(len(dfArea))+\" datasets found.\")\n",
    "dfArea.head()"
   ]
  },
  {
   "cell_type": "markdown",
   "metadata": {},
   "source": [
    "<br>"
   ]
  },
  {
   "cell_type": "markdown",
   "metadata": {},
   "source": [
    "#### Opening all datafiles\n",
    "ESM3 data"
   ]
  },
  {
   "cell_type": "code",
   "execution_count": 7,
   "metadata": {
    "jupyter": {
     "source_hidden": true
    }
   },
   "outputs": [
    {
     "name": "stdout",
     "output_type": "stream",
     "text": [
      "5 ESM3 data sets opened and stored in fileSetList.\n"
     ]
    }
   ],
   "source": [
    "fileSetList = []\n",
    "for i in range(len(dfFilt)):\n",
    "    zstore = dfFilt.zstore.values[i]\n",
    "    mapper = fsspec.get_mapper(zstore)\n",
    "    fileRaw = xr.open_zarr(mapper, consolidated=True)\n",
    "    fileSetList.append(fileRaw)\n",
    "fileCount = len(fileSetList)\n",
    "if fileCount:\n",
    "    print(str(fileCount)+\" ESM3 data sets opened and stored in fileSetList.\")\n",
    "else:\n",
    "    print(\"No ESM3 data sets opened.\")"
   ]
  },
  {
   "cell_type": "markdown",
   "metadata": {},
   "source": [
    "Ocean Area data"
   ]
  },
  {
   "cell_type": "code",
   "execution_count": 8,
   "metadata": {
    "jupyter": {
     "source_hidden": true
    }
   },
   "outputs": [
    {
     "name": "stdout",
     "output_type": "stream",
     "text": [
      "Ocean Area data loaded into dsArea.\n"
     ]
    }
   ],
   "source": [
    "dsArea = xr.open_zarr(fsspec.get_mapper(dfArea.zstore.values[areaDataSetNo]), consolidated=True)\n",
    "print(\"Ocean Area data loaded into dsArea.\")"
   ]
  },
  {
   "cell_type": "markdown",
   "metadata": {},
   "source": [
    "Mask data"
   ]
  },
  {
   "cell_type": "code",
   "execution_count": 9,
   "metadata": {
    "jupyter": {
     "source_hidden": true
    }
   },
   "outputs": [
    {
     "name": "stdout",
     "output_type": "stream",
     "text": [
      "Mask data loaded into oceanMask.\n"
     ]
    }
   ],
   "source": [
    "maskFile = xr.open_dataset(maskName)\n",
    "oceanMask = maskFile.to_array()\n",
    "print(\"Mask data loaded into oceanMask.\")"
   ]
  },
  {
   "cell_type": "markdown",
   "metadata": {},
   "source": [
    "<br>"
   ]
  },
  {
   "cell_type": "markdown",
   "metadata": {},
   "source": [
    "#### Combine data sets into one xarray"
   ]
  },
  {
   "cell_type": "code",
   "execution_count": 10,
   "metadata": {
    "jupyter": {
     "source_hidden": true
    }
   },
   "outputs": [
    {
     "name": "stdout",
     "output_type": "stream",
     "text": [
      "Data sets successfully merged into fileSet.\n"
     ]
    }
   ],
   "source": [
    "for i in range(fileCount): #Formatting dates into np.datetime64 format\n",
    "    startDateIterate = np.datetime64(fileSetList[i]['time'].values[0],'M')\n",
    "    endDateIterate = np.datetime64(fileSetList[i]['time'].values[-1],'M') + np.timedelta64(1,'M')\n",
    "    fileSetList[i]['time']=('time', np.arange(startDateIterate, endDateIterate, dtype='datetime64[M]'))\n",
    "    fileSetList[i]['time_bnds']=('time_bnds', np.arange(startDateIterate, endDateIterate, dtype='datetime64[M]')) \n",
    "fileSet = xr.combine_nested(fileSetList, concat_dim='RunID') #Combining data sets\n",
    "print(\"Data sets successfully merged into fileSet.\")\n",
    "#fileSet #Uncomment to see full data set"
   ]
  },
  {
   "cell_type": "markdown",
   "metadata": {},
   "source": [
    "<br>"
   ]
  },
  {
   "cell_type": "markdown",
   "metadata": {},
   "source": [
    "#### Selection of Data"
   ]
  },
  {
   "cell_type": "code",
   "execution_count": 11,
   "metadata": {
    "jupyter": {
     "source_hidden": true
    }
   },
   "outputs": [
    {
     "name": "stdout",
     "output_type": "stream",
     "text": [
      "Finished data selection, temperature data stored in dataFiltLat, area data stored in dataAreaFilt.\n"
     ]
    }
   ],
   "source": [
    "dataFiltLat = fileSet.thetao.sel(lat=latSel) #Selection of latitude\n",
    "#dataFiltLatLev = fileSet.thetao.sel(lev=levSel) #Selection of depth\n",
    "dataFiltFull = dataFiltLat.reset_coords(drop=True) #Removes lev if single value\n",
    "\n",
    "dataAreaFilt = dsArea.volcello.sel(lat=latSel)\n",
    "dataAreaFilt = dataAreaFilt.reset_coords(drop=True)\n",
    "\n",
    "print(\"Finished data selection, temperature data stored in dataFiltLat, area data stored in dataAreaFilt.\")\n",
    "#dataFiltFull #Uncomment to see filtered data set"
   ]
  },
  {
   "cell_type": "markdown",
   "metadata": {},
   "source": [
    "<br>"
   ]
  },
  {
   "cell_type": "markdown",
   "metadata": {},
   "source": [
    "#### Time identification"
   ]
  },
  {
   "cell_type": "code",
   "execution_count": 12,
   "metadata": {
    "jupyter": {
     "source_hidden": true
    }
   },
   "outputs": [
    {
     "name": "stdout",
     "output_type": "stream",
     "text": [
      "Data start date: 1850-01\n",
      "Data end date (included): 2014-12\n",
      "Data end date (excluded): 2015-01\n",
      "Data increments in steps of 2678400000000000 nanoseconds\n"
     ]
    }
   ],
   "source": [
    "globalStartDate = dataFiltFull[\"time\"][0].values\n",
    "globalDateInc = dataFiltFull[\"time\"][1].values - globalStartDate\n",
    "#np.datetime64(globalDateInc,'D')\n",
    "globalEndDateIn = dataFiltFull[\"time\"][-1].values\n",
    "globalEndDateOut = globalEndDateIn + globalDateInc\n",
    "\n",
    "globalStartDateStr = str(globalStartDate)[:7]\n",
    "globalEndDateInStr = str(globalEndDateIn)[:7]\n",
    "globalEndDateOutStr = str(globalEndDateOut)[:7]\n",
    "\n",
    "print(\"Data start date: \"+globalStartDateStr)\n",
    "print(\"Data end date (included): \"+str(globalEndDateInStr))\n",
    "print(\"Data end date (excluded): \"+str(globalEndDateOutStr))\n",
    "print(\"Data increments in steps of \"+str(globalDateInc))"
   ]
  },
  {
   "cell_type": "markdown",
   "metadata": {},
   "source": [
    "<br>"
   ]
  },
  {
   "cell_type": "markdown",
   "metadata": {},
   "source": [
    "#### Calculation\n",
    "<b>Functions:</b> <br>\n",
    "<ul>\n",
    "</ul>"
   ]
  },
  {
   "cell_type": "code",
   "execution_count": 13,
   "metadata": {
    "jupyter": {
     "source_hidden": true
    }
   },
   "outputs": [
    {
     "name": "stdout",
     "output_type": "stream",
     "text": [
      "Calculation functions defined\n"
     ]
    }
   ],
   "source": [
    "@delayed\n",
    "def convertTooOne(dataSet):\n",
    "    '''Takes in given dataSet and returns values of (int) 1 for all non Nan values (10^14 max value)'''\n",
    "    dataSetModify = dataSet.copy()\n",
    "    dataSetModify.values = dataSetModify.values/100000000000000 + 1\n",
    "    dataSetModify = dataSetModify.astype(int)\n",
    "    return dataSetModify\n",
    "\n",
    "\n",
    "def maskCalc(LocData, plotNo):\n",
    "    '''Takes in a given data set and returns a data set of (int) 1 and Nan matching initial data set.'''\n",
    "    mask = convertTooOne(LocData)\n",
    "    mask = mask.compute()\n",
    "    maskNan = mask.where(mask.values == 1)\n",
    "    #mapPlot(maskNan, \"Southern Ocean mask\", plotNo)\n",
    "    return maskNan\n",
    "\n",
    "print(\"Calculation functions defined\")"
   ]
  },
  {
   "cell_type": "markdown",
   "metadata": {},
   "source": [
    "<br>\n",
    "Maximum and minimum temperatures across all data sets for plotting limits."
   ]
  },
  {
   "cell_type": "code",
   "execution_count": 14,
   "metadata": {
    "jupyter": {
     "source_hidden": true
    }
   },
   "outputs": [
    {
     "name": "stdout",
     "output_type": "stream",
     "text": [
      "\n"
     ]
    }
   ],
   "source": [
    "'''\n",
    "dataSurfaceTemp = dataFiltLat.copy()\n",
    "surfaceTempMinList = []\n",
    "surfaceTempMaxList = []\n",
    "for i in range(fileCount):\n",
    "    dataChunk = dataFiltLat.sel(RunID = i)\n",
    "    surfaceTempMin = dataChunk.min() #Sets minimum temperature for all data sets to ESM3 min\n",
    "    surfaceTempMin = surfaceTempMin.compute()\n",
    "    surfaceTempMax = dataChunk.max() #Sets minimum temperature for all data sets to ESM3 min\n",
    "    surfaceTempMax = surfaceTempMax.compute()\n",
    "    surfaceTempMinList.append(surfaceTempMin.values)\n",
    "    surfaceTempMaxList.append(surfaceTempMax.values)\n",
    "'''\n",
    "print(\"\")"
   ]
  },
  {
   "cell_type": "code",
   "execution_count": 18,
   "metadata": {},
   "outputs": [
    {
     "name": "stdout",
     "output_type": "stream",
     "text": [
      "ESM surface temp min = -1.78\n",
      "ESM surface temp max = 25.175\n"
     ]
    }
   ],
   "source": [
    "dfSurfaceTemp = dataFiltLat.copy()\n",
    "dfSurfaceTemp = dfSurfaceTemp.sel(lev=5.0, time=slice('2005-01', '2014-12'))\n",
    "dfSurfaceTemp = dfSurfaceTemp.reset_coords(drop=True)\n",
    "dfSurfaceTemp = dfSurfaceTemp.mean('time', keep_attrs = True)\n",
    "#dfSurfaceTemp = dfSurfaceTemp.mean('RunID', keep_attrs = True)\n",
    "surfaceTempMin = dfSurfaceTemp.min() #Sets minimum temperature for all data sets to ESM3 min\n",
    "surfaceTempMin = surfaceTempMin.compute()\n",
    "surfaceTempMin = round(float(surfaceTempMin.values),3)\n",
    "surfaceTempMax = dfSurfaceTemp.max() #Sets minimum temperature for all data sets to ESM3 min\n",
    "surfaceTempMax = surfaceTempMax.compute()\n",
    "surfaceTempMax = round(float(surfaceTempMax.values),3)\n",
    "print(\"ESM surface temp min = \"+str(float(surfaceTempMin)))\n",
    "print(\"ESM surface temp max = \"+str(float(surfaceTempMax)))"
   ]
  },
  {
   "cell_type": "markdown",
   "metadata": {},
   "source": [
    "<br>"
   ]
  },
  {
   "cell_type": "markdown",
   "metadata": {},
   "source": [
    "#### Plotting functions\n",
    "<b>Functions</b><br>\n",
    "<ul>\n",
    "<li>mapPlot - plots the Southern Ocean orthographic project of an input data set, with input title and figure number.\n",
    "<li>tempProfilePlot - plots the temperature profile of an input data set, with input title and figure number.\n",
    "</ul>"
   ]
  },
  {
   "cell_type": "code",
   "execution_count": 19,
   "metadata": {},
   "outputs": [
    {
     "name": "stdout",
     "output_type": "stream",
     "text": [
      "Plotting functions defined\n"
     ]
    }
   ],
   "source": [
    "def mapPlot(dataSet, title, plotNo):\n",
    "    '''Displays given data set on a map'''\n",
    "    plt.figure(plotNo, figsize= (7,7))\n",
    "    p=dataSet.plot(x='lon',y='lat',transform=ccrs.PlateCarree(), vmin=surfaceTempMin, \n",
    "        vmax=surfaceTempMax, subplot_kws={'projection': ccrs.SouthPolarStereo()})\n",
    "    p.axes.gridlines()\n",
    "    p.axes.coastlines()\n",
    "    plt.title(str(title))\n",
    "    \n",
    "def tempProfilePlot(dataSet, title, plotNo):\n",
    "    '''Displays temperature profile plot for a given data set'''\n",
    "    plt.figure(plotNo, figsize=(7,7))\n",
    "    dataSet.plot(x = 'lat', y = 'lev')\n",
    "    plt.title(str(title))\n",
    "\n",
    "print(\"Plotting functions defined\")"
   ]
  },
  {
   "cell_type": "markdown",
   "metadata": {},
   "source": [
    "<br>"
   ]
  },
  {
   "cell_type": "markdown",
   "metadata": {},
   "source": [
    "#### Plotting the mask"
   ]
  },
  {
   "cell_type": "code",
   "execution_count": 21,
   "metadata": {},
   "outputs": [
    {
     "data": {
      "image/png": "[encoded data removed]",
      "text/plain": [
       "<Figure size 504x504 with 2 Axes>"
      ]
     },
     "metadata": {
      "needs_background": "light"
     },
     "output_type": "display_data"
    }
   ],
   "source": [
    "mapPlot(oceanMask, \"Reloaded Southern Ocean Mask\", 1)"
   ]
  },
  {
   "cell_type": "markdown",
   "metadata": {},
   "source": [
    "<br>"
   ]
  },
  {
   "cell_type": "markdown",
   "metadata": {},
   "source": [
    "#### Plotted Data"
   ]
  },
  {
   "cell_type": "code",
   "execution_count": 22,
   "metadata": {},
   "outputs": [
    {
     "data": {
      "image/png": "[encoded data removed]",
      "text/plain": [
       "<Figure size 504x504 with 2 Axes>"
      ]
     },
     "metadata": {
      "needs_background": "light"
     },
     "output_type": "display_data"
    }
   ],
   "source": [
    "depthData = dataFiltLat.sel(time=\"2005-01\", RunID=0, lon=0.5).copy()\n",
    "tempProfilePlot(depthData, \"Depth data\", 1)"
   ]
  },
  {
   "cell_type": "markdown",
   "metadata": {},
   "source": [
    "<br>"
   ]
  }
 ],
 "metadata": {
  "kernelspec": {
   "display_name": "Python 3",
   "language": "python",
   "name": "python3"
  },
  "language_info": {
   "codemirror_mode": {
    "name": "ipython",
    "version": 3
   },
   "file_extension": ".py",
   "mimetype": "text/x-python",
   "name": "python",
   "nbconvert_exporter": "python",
   "pygments_lexer": "ipython3",
   "version": "3.8.6"
  }
 },
 "nbformat": 4,
 "nbformat_minor": 5
}
