{
 "cells": [
  {
   "cell_type": "markdown",
   "metadata": {},
   "source": [
    "# Southern Ocean average Surface Sea Temperature\n",
    "Plots of the climatology for the Southern Ocean average surface sea temperature (SST). The [Data analysis](#Data-Analysis) can be found in the bottom half of the document."
   ]
  },
  {
   "cell_type": "markdown",
   "metadata": {},
   "source": [
    "#### Dask"
   ]
  },
  {
   "cell_type": "code",
   "execution_count": 1,
   "metadata": {},
   "outputs": [
    {
     "data": {
      "text/html": [
       "<table style=\"border: 2px solid white;\">\n",
       "<tr>\n",
       "<td style=\"vertical-align: top; border: 0px solid white\">\n",
       "<h3 style=\"text-align: left;\">Client</h3>\n",
       "<ul style=\"text-align: left; list-style: none; margin: 0; padding: 0;\">\n",
       "  <li><b>Scheduler: </b>tcp://127.0.0.1:38293</li>\n",
       "  <li><b>Dashboard: </b><a href='http://127.0.0.1:8787/status' target='_blank'>http://127.0.0.1:8787/status</a></li>\n",
       "</ul>\n",
       "</td>\n",
       "<td style=\"vertical-align: top; border: 0px solid white\">\n",
       "<h3 style=\"text-align: left;\">Cluster</h3>\n",
       "<ul style=\"text-align: left; list-style:none; margin: 0; padding: 0;\">\n",
       "  <li><b>Workers: </b>5</li>\n",
       "  <li><b>Cores: </b>5</li>\n",
       "  <li><b>Memory: </b>32.21 GB</li>\n",
       "</ul>\n",
       "</td>\n",
       "</tr>\n",
       "</table>"
      ],
      "text/plain": [
       "<Client: 'tcp://127.0.0.1:38293' processes=5 threads=5, memory=32.21 GB>"
      ]
     },
     "execution_count": 1,
     "metadata": {},
     "output_type": "execute_result"
    }
   ],
   "source": [
    "from dask.distributed import Client\n",
    "\n",
    "client = Client(\"tcp://127.0.0.1:38293\")\n",
    "client"
   ]
  },
  {
   "cell_type": "markdown",
   "metadata": {},
   "source": [
    "<br>"
   ]
  },
  {
   "cell_type": "markdown",
   "metadata": {},
   "source": [
    "#### Choices for data"
   ]
  },
  {
   "cell_type": "code",
   "execution_count": 2,
   "metadata": {},
   "outputs": [],
   "source": [
    "#Experiment data for analysis\n",
    "dataVariableId = 'thetao'\n",
    "dataExperimentId = 'historical'\n",
    "dataSourceID = 'E3SM-1-0'\n",
    "\n",
    "#Custom Variables\n",
    "latSel = slice(-89.5,-29.5) #Selected latitude to be investigated"
   ]
  },
  {
   "cell_type": "markdown",
   "metadata": {},
   "source": [
    "<br>"
   ]
  },
  {
   "cell_type": "markdown",
   "metadata": {},
   "source": [
    "#### Imports"
   ]
  },
  {
   "cell_type": "code",
   "execution_count": 3,
   "metadata": {},
   "outputs": [
    {
     "name": "stdout",
     "output_type": "stream",
     "text": [
      "Imports complete\n"
     ]
    }
   ],
   "source": [
    "import cartopy.crs as ccrs\n",
    "#import cdstoolbox as ct\n",
    "import dask.dataframe as dd\n",
    "import fsspec\n",
    "import numpy as np\n",
    "import matplotlib.pyplot as plt\n",
    "import pandas as pd\n",
    "import xarray as xr\n",
    "import zarr\n",
    "\n",
    "from dask import delayed\n",
    "from matplotlib.pyplot import cm\n",
    "print(\"Imports complete\")"
   ]
  },
  {
   "cell_type": "markdown",
   "metadata": {},
   "source": [
    "<br>"
   ]
  },
  {
   "cell_type": "markdown",
   "metadata": {},
   "source": [
    "#### Data loading"
   ]
  },
  {
   "cell_type": "code",
   "execution_count": 4,
   "metadata": {
    "jupyter": {
     "source_hidden": true
    }
   },
   "outputs": [
    {
     "name": "stdout",
     "output_type": "stream",
     "text": [
      "ESM data sucessfully loaded into dfESMLat.\n"
     ]
    }
   ],
   "source": [
    "df = pd.read_csv('https://storage.googleapis.com/cmip6/cmip6-zarr-consolidated-stores.csv')\n",
    "dfFilt = df[df.variable_id.eq('thetao') & df.experiment_id.eq('historical') & df.source_id.eq('E3SM-1-0')]\n",
    "dfArea = df[df.variable_id.eq('areacello') & df.source_id.eq('CESM2')]\n",
    "\n",
    "fileSetList = []\n",
    "for i in range(len(dfFilt)):\n",
    "    zstore = dfFilt.zstore.values[i]\n",
    "    mapper = fsspec.get_mapper(zstore)\n",
    "    fileRaw = xr.open_zarr(mapper, consolidated=True)\n",
    "    fileSetList.append(fileRaw)\n",
    "fileCount = len(fileSetList)\n",
    "\n",
    "dsArea = xr.open_zarr(fsspec.get_mapper(dfArea.zstore.values[1]), consolidated=True)\n",
    "dataAreaRaw = dsArea.areacello\n",
    "\n",
    "for i in range(fileCount): #Formatting dates into np.datetime64 format\n",
    "    startDateIterate = np.datetime64(fileSetList[i]['time'].values[0],'M')\n",
    "    endDateIterate = np.datetime64(fileSetList[i]['time'].values[-1],'M') + np.timedelta64(1,'M')\n",
    "    fileSetList[i]['time']=('time', np.arange(startDateIterate, endDateIterate, dtype='datetime64[M]'))\n",
    "    fileSetList[i]['time_bnds']=('time_bnds', np.arange(startDateIterate, endDateIterate, dtype='datetime64[M]')) \n",
    "fileSet = xr.combine_nested(fileSetList, concat_dim='RunID') #Combining data sets\n",
    "\n",
    "dfESMLat = fileSet.thetao.sel(lat=latSel) #Selection of latitude\n",
    "dfESMLat = dfESMLat.reset_coords(drop=True) #Removes lev if single value\n",
    "\n",
    "globalStartDate = dfESMLat[\"time\"][0].values\n",
    "globalDateInc = dfESMLat[\"time\"][1].values - globalStartDate\n",
    "#np.datetime64(globalDateInc,'D')\n",
    "globalEndDateIn = dfESMLat[\"time\"][-1].values\n",
    "globalEndDateOut = globalEndDateIn + globalDateInc\n",
    "\n",
    "globalStartDateStr = str(globalStartDate)[:7]\n",
    "globalEndDateInStr = str(globalEndDateIn)[:7]\n",
    "globalEndDateOutStr = str(globalEndDateOut)[:7]\n",
    "\n",
    "print(\"ESM data sucessfully loaded into dfESMLat.\")"
   ]
  },
  {
   "cell_type": "markdown",
   "metadata": {},
   "source": [
    "<br>"
   ]
  },
  {
   "cell_type": "markdown",
   "metadata": {},
   "source": [
    "#### Calculation Functions\n",
    "<b>Functions:</b><br>\n",
    "<ul>\n",
    "    <li>dateCheck1 - Takes in a single date and checks to see if it is inside the data set. If not then the nearest valid date is returned\n",
    "    <li>dateCheck2 - Takes in a pair of dates (start and end) and checks to see if they are ordered correctly (start before end) and that both dates are inside the data set. If not then the nearest valid dates are returned.\n",
    "    <li>climatologyMean - \n",
    "</ul>"
   ]
  },
  {
   "cell_type": "code",
   "execution_count": 5,
   "metadata": {},
   "outputs": [
    {
     "name": "stdout",
     "output_type": "stream",
     "text": [
      "Calculation functions defined\n"
     ]
    }
   ],
   "source": [
    "def dateCheck1(Date):\n",
    "    '''Takes date input, check to ensure that date is valid for the data set, modifying it if not.\n",
    "    Requires global globalStartDate, globalEndDate, globalStartDateStr, globalEndDateStr'''\n",
    "    if np.datetime64(Date ,'M') < globalStartDate:\n",
    "        Date = globalStartDateStr\n",
    "    elif np.datetime64(Date ,'M') > globalEndDateOut:\n",
    "        Date = globalEndDateInStr\n",
    "    return Date\n",
    "\n",
    "\n",
    "def dateCheck2(startDate, endDate):\n",
    "    '''Takes start and end date input, check to ensure that both dates are valid for the data set, modifying them if not.\n",
    "    Requires global globalStartDate, globalEndDate, globalStartDateStr, globalEndDateStr'''\n",
    "    if np.datetime64(startDate ,'M') > np.datetime64(endDate ,'M'):\n",
    "        startDate, endDate = endDate, startDate\n",
    "    if np.datetime64(startDate ,'M') < globalStartDate:\n",
    "        startDate = globalStartDateStr\n",
    "        if np.datetime64(endDate ,'M') < globalStartDate:\n",
    "            endDate = globalStartDateStr\n",
    "    if np.datetime64(endDate ,'M') > globalEndDateOut:\n",
    "        endDate = globalEndDateOutStr\n",
    "        if np.datetime64(startDate ,'M') > globalEndDateOut:\n",
    "            startDate = globalEndDateInStr\n",
    "    return startDate, endDate\n",
    "\n",
    "\n",
    "def climatologyMean(dataSet, startDate, endDate, Month, runID, plotNo):\n",
    "    startDate, endDate = dateCheck2(startDate, endDate)\n",
    "    dataSetTrimmed = dataSet.copy()\n",
    "    dataSetTrimmed = dataSetTrimmed.sel(time=slice(startDate, endDate))\n",
    "    \n",
    "    try:\n",
    "        dataSetTrimmed = dataSetTrimmed.sel(lev = 5.0)\n",
    "    except:\n",
    "        pass\n",
    "    \n",
    "    if ((runID == \"All\" or runID == \"all\") or (runID > fileCount)):\n",
    "        dataSetTrimmed = dataSetTrimmed.mean(RunID)\n",
    "    #elif (runID > fileCount):\n",
    "    else:\n",
    "        dataSetTrimmed = dataSetTrimmed.sel(RunID=runID)\n",
    "    \n",
    "    return dataSetTrimmed    \n",
    "    #plot line graph\n",
    "    \n",
    "print(\"Calculation functions defined\")"
   ]
  },
  {
   "cell_type": "markdown",
   "metadata": {},
   "source": [
    "<br>"
   ]
  },
  {
   "cell_type": "markdown",
   "metadata": {},
   "source": [
    "#### Plotting Functions\n",
    "<b>Functions:</b><br>\n",
    "<ul>\n",
    "    \n",
    "</ul>"
   ]
  },
  {
   "cell_type": "code",
   "execution_count": 6,
   "metadata": {},
   "outputs": [
    {
     "name": "stdout",
     "output_type": "stream",
     "text": [
      "Plotting functions defined\n"
     ]
    }
   ],
   "source": [
    "\n",
    "print(\"Plotting functions defined\")"
   ]
  },
  {
   "cell_type": "markdown",
   "metadata": {},
   "source": [
    "<br>"
   ]
  },
  {
   "cell_type": "markdown",
   "metadata": {},
   "source": [
    "#### Data Analysis"
   ]
  },
  {
   "cell_type": "code",
   "execution_count": null,
   "metadata": {},
   "outputs": [],
   "source": []
  }
 ],
 "metadata": {
  "kernelspec": {
   "display_name": "Python 3",
   "language": "python",
   "name": "python3"
  },
  "language_info": {
   "codemirror_mode": {
    "name": "ipython",
    "version": 3
   },
   "file_extension": ".py",
   "mimetype": "text/x-python",
   "name": "python",
   "nbconvert_exporter": "python",
   "pygments_lexer": "ipython3",
   "version": "3.8.6"
  }
 },
 "nbformat": 4,
 "nbformat_minor": 4
}
