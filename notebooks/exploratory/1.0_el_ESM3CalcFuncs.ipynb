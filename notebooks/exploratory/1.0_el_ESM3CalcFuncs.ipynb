{
 "cells": [
  {
   "cell_type": "markdown",
   "metadata": {},
   "source": [
    "# ESM3 Analysis Calculation and Plotting Functions\n",
    "For the ESM3Analysis notepads a variety of functions are used for calculations and plotting. This notepad quickly imports the ESM3 data and stores the various methods for calculation and plotting."
   ]
  },
  {
   "cell_type": "markdown",
   "metadata": {},
   "source": [
    "#### Dask import"
   ]
  },
  {
   "cell_type": "code",
   "execution_count": 1,
   "metadata": {},
   "outputs": [
    {
     "data": {
      "text/html": [
       "<table style=\"border: 2px solid white;\">\n",
       "<tr>\n",
       "<td style=\"vertical-align: top; border: 0px solid white\">\n",
       "<h3 style=\"text-align: left;\">Client</h3>\n",
       "<ul style=\"text-align: left; list-style: none; margin: 0; padding: 0;\">\n",
       "  <li><b>Scheduler: </b>tcp://127.0.0.1:34386</li>\n",
       "  <li><b>Dashboard: </b><a href='http://127.0.0.1:8787/status' target='_blank'>http://127.0.0.1:8787/status</a></li>\n",
       "</ul>\n",
       "</td>\n",
       "<td style=\"vertical-align: top; border: 0px solid white\">\n",
       "<h3 style=\"text-align: left;\">Cluster</h3>\n",
       "<ul style=\"text-align: left; list-style:none; margin: 0; padding: 0;\">\n",
       "  <li><b>Workers: </b>6</li>\n",
       "  <li><b>Cores: </b>6</li>\n",
       "  <li><b>Memory: </b>38.65 GB</li>\n",
       "</ul>\n",
       "</td>\n",
       "</tr>\n",
       "</table>"
      ],
      "text/plain": [
       "<Client: 'tcp://127.0.0.1:34386' processes=6 threads=6, memory=38.65 GB>"
      ]
     },
     "execution_count": 1,
     "metadata": {},
     "output_type": "execute_result"
    }
   ],
   "source": [
    "from dask.distributed import Client\n",
    "\n",
    "client = Client(\"tcp://127.0.0.1:34386\")\n",
    "client"
   ]
  },
  {
   "cell_type": "markdown",
   "metadata": {},
   "source": [
    "#### Imports"
   ]
  },
  {
   "cell_type": "code",
   "execution_count": 2,
   "metadata": {
    "jupyter": {
     "source_hidden": true
    }
   },
   "outputs": [
    {
     "name": "stdout",
     "output_type": "stream",
     "text": [
      "Imports complete\n"
     ]
    }
   ],
   "source": [
    "import cartopy.crs as ccrs\n",
    "import dask.dataframe as dd\n",
    "import fsspec\n",
    "import numpy as np\n",
    "import matplotlib.pyplot as plt\n",
    "import pandas as pd\n",
    "import xarray as xr\n",
    "import zarr\n",
    "\n",
    "from dask import delayed\n",
    "from matplotlib.pyplot import cm\n",
    "print(\"Imports complete\")"
   ]
  },
  {
   "cell_type": "markdown",
   "metadata": {},
   "source": [
    "#### Data loading"
   ]
  },
  {
   "cell_type": "code",
   "execution_count": 3,
   "metadata": {
    "jupyter": {
     "source_hidden": true
    }
   },
   "outputs": [
    {
     "name": "stdout",
     "output_type": "stream",
     "text": [
      "Data loaded\n"
     ]
    }
   ],
   "source": [
    "df = pd.read_csv('https://storage.googleapis.com/cmip6/cmip6-zarr-consolidated-stores.csv')\n",
    "dfFilt = df[df.variable_id.eq('thetao') & df.experiment_id.eq('historical') & df.source_id.eq('E3SM-1-0')]\n",
    "dfArea = df[df.variable_id.eq('areacello') & df.source_id.eq('CESM2')]\n",
    "\n",
    "fileSetList = []\n",
    "for i in range(len(dfFilt)):\n",
    "    zstore = dfFilt.zstore.values[i]\n",
    "    mapper = fsspec.get_mapper(zstore)\n",
    "    fileRaw = xr.open_zarr(mapper, consolidated=True)\n",
    "    fileSetList.append(fileRaw)\n",
    "fileCount = len(fileSetList)\n",
    "\n",
    "dsArea = xr.open_zarr(fsspec.get_mapper(dfArea.zstore.values[1]), consolidated=True)\n",
    "dataAreaRaw = dsArea.areacello\n",
    "\n",
    "for i in range(fileCount): #Formatting dates into np.datetime64 format\n",
    "    startDateIterate = np.datetime64(fileSetList[i]['time'].values[0],'M')\n",
    "    endDateIterate = np.datetime64(fileSetList[i]['time'].values[-1],'M') + np.timedelta64(1,'M')\n",
    "    fileSetList[i]['time']=('time', np.arange(startDateIterate, endDateIterate, dtype='datetime64[M]'))\n",
    "    fileSetList[i]['time_bnds']=('time_bnds', np.arange(startDateIterate, endDateIterate, dtype='datetime64[M]')) \n",
    "fileSet = xr.combine_nested(fileSetList, concat_dim='SetId') #Combining data sets\n",
    "\n",
    "latSel = slice(-89.5,-29.5) #Selected latitude to be investigated\n",
    "dataFiltLatLev = fileSet.thetao.sel(lat=latSel, lev=5.0) #Selection of latitude and depth\n",
    "dataFiltFull = dataFiltLatLev.reset_coords(drop=True) #Removes lev if single value\n",
    "\n",
    "globalStartDate = dataFiltFull[\"time\"][0].values\n",
    "globalDateInc = dataFiltFull[\"time\"][1].values - globalStartDate\n",
    "#np.datetime64(globalDateInc,'D')\n",
    "globalEndDateIn = dataFiltFull[\"time\"][-1].values\n",
    "globalEndDateOut = globalEndDateIn + globalDateInc\n",
    "\n",
    "globalStartDateStr = str(globalStartDate)[:7]\n",
    "globalEndDateInStr = str(globalEndDateIn)[:7]\n",
    "globalEndDateOutStr = str(globalEndDateOut)[:7]\n",
    "\n",
    "print(\"Data loaded\")"
   ]
  },
  {
   "cell_type": "markdown",
   "metadata": {},
   "source": [
    "#### Calculations"
   ]
  },
  {
   "cell_type": "code",
   "execution_count": 4,
   "metadata": {
    "jupyter": {
     "source_hidden": true
    }
   },
   "outputs": [
    {
     "name": "stdout",
     "output_type": "stream",
     "text": [
      "Calculation functions defined\n"
     ]
    }
   ],
   "source": [
    "@delayed\n",
    "def meanTemp(dataSet):\n",
    "    '''Calculates and returns Mean Ocean temperature for a given data set.\n",
    "    Requires global dataAreaSH, totalArea'''\n",
    "    return (dataSet*dataAreaSH).sum(dim=['lon', 'lat']) / totalArea \n",
    "\n",
    "dataAreaSH = dataAreaRaw.sel(lat=latSel) #Selecting data for relevant latittude\n",
    "totalArea = dataAreaSH.sum(dim=['lon', 'lat']) #Summing selected area\n",
    "\n",
    "def dateCheck1(Date):\n",
    "    '''Takes date input, check to ensure that date is valid for the data set, modifying it if not.\n",
    "    Requires global globalStartDate, globalEndDate, globalStartDateStr, globalEndDateStr'''\n",
    "    if np.datetime64(Date ,'M') < globalStartDate:\n",
    "        Date = globalStartDateStr\n",
    "    elif np.datetime64(Date ,'M') > globalEndDateOut:\n",
    "        Date = globalEndDateInStr\n",
    "    return Date\n",
    "\n",
    "def dateCheck2(startDate, endDate):\n",
    "    '''Takes start and end date input, check to ensure that both dates are valid for the data set, modifying them if not.\n",
    "    Requires global globalStartDate, globalEndDate, globalStartDateStr, globalEndDateStr'''\n",
    "    if np.datetime64(startDate ,'M') > np.datetime64(endDate ,'M'):\n",
    "        startDate, endDate = endDate, startDate\n",
    "    if np.datetime64(startDate ,'M') < globalStartDate:\n",
    "        startDate = globalStartDateStr\n",
    "        if np.datetime64(endDate ,'M') < globalStartDate:\n",
    "            endDate = globalStartDateStr\n",
    "    if np.datetime64(endDate ,'M') > globalEndDateOut:\n",
    "        endDate = globalEndDateOutStr\n",
    "        if np.datetime64(startDate ,'M') > globalEndDateOut:\n",
    "            startDate = globalEndDateInStr\n",
    "    return startDate, endDate\n",
    "\n",
    "def singleSoloDateCalc(date,setId,plotNo):\n",
    "    '''Calculates and displays Ocean temperature for a selected date, prints mean ocean temperature, uses only 1 data set.\n",
    "    Requires global dataFiltFull, dataAreaSH, totalArea'''\n",
    "    singleData = dataFiltFull.sel(SetId=setId, time=date)\n",
    "    singleTemp = meanTemp(singleData)\n",
    "    valuesSingleTemp = singleTemp.compute()\n",
    "    singleTimePlot(singleData,date, valuesSingleTemp.values[0], setId, plotNo)\n",
    "    \n",
    "def singleAllDateCalc(date, stdBool, plotNo):\n",
    "    '''Calculates and displays Ocean temperature for a selected date, prints mean ocean temperature, averages all data sets.\n",
    "    Requires global dataFiltFull, dataAreaSH, totalArea'''\n",
    "    multiData = dataFiltFull.sel(time=date)\n",
    "    meanData = multiData.mean(\"SetId\", keep_attrs =True)\n",
    "    meanData.compute()\n",
    "    multiTemps = meanTemp(multiData)\n",
    "    valuesMultiTemps = multiTemps.compute()\n",
    "    valuesMeanTemp = valuesMultiTemps.mean(\"SetId\")\n",
    "    valuesMeanTemp.compute()\n",
    "    singleTimePlot(meanData, date, valuesMeanTemp.values[0], \"All\", plotNo)\n",
    "    if stdBool:\n",
    "        stdData = multiData.std(\"SetId\", keep_attrs =True)\n",
    "        stdData.compute()\n",
    "        valuesStdTemp = stdData.mean([\"lon\", \"lat\"])\n",
    "        valuesStdTemp.compute()\n",
    "        singleTimePlotStd(stdData, date, valuesStdTemp.values[0], plotNo+1)\n",
    "\n",
    "def rangeSoloCompareCalc(startDate, endDate, setId, plotNo):\n",
    "    '''Calculates and displays change in Ocean temperature for two dates for a given data set, prints mean ocean temperature at both time dates and the difference.\n",
    "    Requires global dataFiltFull, dataAreaSH, totalArea'''\n",
    "    startData = dataFiltFull.sel(SetId=setId, time=startDate)\n",
    "    endData = dataFiltFull.sel(SetId=setId, time=endDate)\n",
    "    diffData = startData.copy()\n",
    "    diffData.values = (endData.values - startData.values)\n",
    "    singleTemp = meanTemp(diffData)\n",
    "    valuesSingleTemp = singleTemp.compute()\n",
    "    singleTimePlot(diffData,endDate+\" vs \"+startDate, valuesSingleTemp.values[0], setId, plotNo)\n",
    "    \n",
    "def rangeAllCompareCalc(startDate, endDate, stdBool, plotNo):\n",
    "    '''Calculates and displays change in Ocean temperature for two dates for a given data set, prints mean ocean temperature at both time dates and the difference.\n",
    "    Requires global dataFiltFull, dataAreaSH, totalArea'''\n",
    "    startData = dataFiltFull.sel(time=startDate)\n",
    "    endData = dataFiltFull.sel(time=endDate)\n",
    "    diffData = startData.copy()\n",
    "    diffData.values = (endData.values - startData.values)\n",
    "    meanDiffData = diffData.mean(\"SetId\", keep_attrs =True)\n",
    "    meanDiffData.compute()\n",
    "    singleTemp = meanTemp(meanDiffData)\n",
    "    valuesSingleTemp = singleTemp.compute()\n",
    "    singleTimePlot(meanDiffData,endDate+\" vs \"+startDate, valuesSingleTemp.values[0], \"All\", plotNo)\n",
    "    if stdBool:\n",
    "        stdData = diffData.std(\"SetId\", keep_attrs =True)\n",
    "        stdData.compute()\n",
    "        valuesStdTemp = stdData.mean([\"lon\", \"lat\"])\n",
    "        valuesStdTemp.compute()\n",
    "        singleTimePlotStd(stdData, endDate+\" vs \"+startDate, valuesStdTemp.values[0], plotNo+1)\n",
    "    \n",
    "def rangeSoloDateCalc(startDate, endDate, setId, plotNo):\n",
    "    '''Calculates and displays Ocean temperature for a time period, prints mean ocean temperature, uses only 1 data set.\n",
    "    Requires global dataFiltFull, dataAreaSH, totalArea'''\n",
    "    startDate, endDate = dateCheck2(startDate, endDate)\n",
    "    multiData = dataFiltFull.sel(SetId=setId, time=slice(startDate, endDate))\n",
    "    multiTemp = meanTemp(multiData)\n",
    "    valuesMultiTemp = multiTemp.compute()\n",
    "    multiTimePlot(valuesMultiTemp, startDate, endDate, setId, plotNo)\n",
    "\n",
    "def rangeAllDateCalc(startDate, endDate, stdBool , plotNo):\n",
    "    '''Calculates and displays Ocean temperature for a time period, prints mean ocean temperature, uses all data sets.\n",
    "    Requires global dataFiltFull, dataAreaSH, totalArea. Use for small time ranges (1 month - 12 months)'''\n",
    "    startDate, endDate = dateCheck2(startDate, endDate)\n",
    "    multiDatas = dataFiltFull.sel(time=slice(startDate, endDate))\n",
    "    multiTemps = meanTemp(multiDatas)\n",
    "    valuesMultiTemps = multiTemps.compute()\n",
    "    meanMultiTemp = valuesMultiTemps.mean(\"SetId\", keep_attrs =True)\n",
    "    meanMultiTemp.compute()\n",
    "    multiTimePlot(meanMultiTemp, startDate, endDate, 'All', plotNo)\n",
    "    if stdBool:\n",
    "        stdMultiTemp = valuesMultiTemps.std(\"SetId\", keep_attrs =True)\n",
    "        stdMultiTemp.compute()\n",
    "        multiTimePlotStd(stdMultiTemp, startDate, endDate, plotNo + 1)\n",
    "    \n",
    "def rangeAllDateCalc2(startDate, endDate, stdBool, plotNo):\n",
    "    '''Calculates and displays Ocean temperature for a time period, prints mean ocean temperature, uses all data sets.\n",
    "    Requires global dataFiltFull, dataAreaSH, totalArea. Use for large time ranges (6 months +)'''\n",
    "    startDate, endDate = dateCheck2(startDate, endDate)\n",
    "    dateArrayPart = np.arange(np.datetime64(startDate ,'M'), np.datetime64(endDate ,'M'), np.timedelta64(12, 'M')) #Splits dates into 12 month segments\n",
    "    dateArrayFull = np.append(dateArrayPart, np.datetime64(endDate, 'M')) #Appends end date\n",
    "    if (dateArrayFull[-2]+np.timedelta64(5,'M')) > dateArrayFull[-1]:\n",
    "        dateArrayFull[-2] = dateArrayFull[-1] - np.timedelta64(6,'M')\n",
    "    fullTempsList = []\n",
    "    for i in range(len(dateArrayFull)-2):\n",
    "        partData = dataFiltFull.sel(time = slice(dateArrayFull[i], dateArrayFull[i+1] - np.timedelta64(1, 'M') ))\n",
    "        partTemps = meanTemp(partData)\n",
    "        valuesMultiTemps = partTemps.compute()\n",
    "        fullTempsList.append(valuesMultiTemps)\n",
    "    partData = dataFiltFull.sel(time = slice(dateArrayFull[-2], dateArrayFull[-1]))\n",
    "    partTemps = meanTemp(partData)\n",
    "    valuesMultiTemps = partTemps.compute()\n",
    "    fullTempsList.append(valuesMultiTemps)\n",
    "    fullTemps = xr.combine_nested(fullTempsList, concat_dim=\"time\")   \n",
    "    meanFullTemp = fullTemps.mean(\"SetId\", keep_attrs =True)\n",
    "    meanFullTemp.compute()\n",
    "    multiTimePlot(meanFullTemp, startDate, endDate, 'All', plotNo)\n",
    "    if stdBool:\n",
    "        stdFullTemp = fullTemps.std(\"SetId\", keep_attrs =True)\n",
    "        stdFullTemp.compute()\n",
    "        multiTimePlotStd(stdFullTemp, startDate, endDate, plotNo + 1)\n",
    "        \n",
    "def rangeSoloCompareCal(startDate1, startDate2, months, setId, plotNo):\n",
    "    startDate1 = np.datetime64(startDate1, 'M')\n",
    "    startDate2 = np.datetime64(startDate2, 'M')\n",
    "    endDate1 = startDate1 + np.timedelta64(months-1, 'M')\n",
    "    endDate2 = startDate2 + np.timedelta64(months-1, 'M')\n",
    "    subData1 = dataFiltFull.sel(time=slice(startDate1, endDate1),SetId=setId)\n",
    "    subData2 = dataFiltFull.sel(time=slice(startDate2, endDate2),SetId=setId)\n",
    "    subData2copy = subData2.copy()\n",
    "    timeDiff = startDate2 - startDate1\n",
    "    \n",
    "    for i in range(months):\n",
    "        subData2copy['time'].values[i] = np.datetime64(subData2['time'].values[i], 'M') - timeDiff\n",
    "\n",
    "    multiSub1 = meanTemp(subData1)\n",
    "    valuesSub1Temps = multiSub1.compute()\n",
    "    multiSub2 = meanTemp(subData2copy)\n",
    "    valuesSub2Temps = multiSub2.compute()\n",
    "    multiTimePlotCompare(valuesSub1Temps, valuesSub2Temps, str(startDate1), str(startDate2), months,str(setId),plotNo)   \n",
    "        \n",
    "print(\"Calculation functions defined\")"
   ]
  },
  {
   "cell_type": "markdown",
   "metadata": {},
   "source": [
    "#### Plotting Functions"
   ]
  },
  {
   "cell_type": "code",
   "execution_count": 5,
   "metadata": {
    "jupyter": {
     "source_hidden": true
    }
   },
   "outputs": [
    {
     "name": "stdout",
     "output_type": "stream",
     "text": [
      "Plotting functions defined\n"
     ]
    }
   ],
   "source": [
    "def singleTimePlot(dataSet, date, meanValue, setStr, plotNo):\n",
    "    '''Displays Ocean temperature for given data set on a map, prints mean ocean temperature'''\n",
    "    plt.figure(plotNo)\n",
    "    p=dataSet.plot(x='lon',y='lat',transform=ccrs.PlateCarree(),cmap='RdBu_r',robust=True,\n",
    "    subplot_kws={'projection': ccrs.SouthPolarStereo()})\n",
    "    p.axes.gridlines()\n",
    "    p.axes.coastlines()\n",
    "    plt.title(\"Southern Ocean Temp - \" + str(date) + \" (\"+str(setStr)+\")\")\n",
    "    print(\"Average Ocean temperature for plot \"+str(plotNo)+\" (\"+date+\")(Set \"+str(setStr)+\"): \"+str(round(meanValue.values[0],3))+\" Celsius\")\n",
    "    \n",
    "def singleTimePlotStd(dataSet, date, stdValue, plotNo):\n",
    "    '''Displays Ocean temperature standard deviation for given data set on a map, prints mean ocean temperature'''\n",
    "    plt.figure(plotNo)\n",
    "    p=dataSet.plot(x='lon',y='lat',transform=ccrs.PlateCarree(),cmap='RdBu_r',robust=True,\n",
    "    subplot_kws={'projection': ccrs.SouthPolarStereo()})\n",
    "    p.axes.gridlines()\n",
    "    p.axes.coastlines()\n",
    "    plt.title(\"Southern Ocean Temp Std - \" + str(date))\n",
    "    print(\"Average Ocean temperature standard deviation for plot \"+str(plotNo)+\" (\"+date+\"): \"+str(round(stdValue,3))+\" Celsius\")\n",
    "    \n",
    "def multiTimePlot(dataSet, startDate, endDate, setStr, plotNo):\n",
    "    '''Displays Ocean temperature for given data set as line graph'''\n",
    "    plt.figure(plotNo)\n",
    "    dataSet.plot(label='Monthly Mean')\n",
    "    if (np.datetime64(startDate,'M') + np.timedelta64(12,'M')) < np.datetime64(endDate,'M'): #Check to ensure there is sufficent range in the data set for rolling average\n",
    "        dataSetRollingMean = dataSet.rolling(time=12).mean()\n",
    "        dataSetRollingMean.plot(label='12 month rolling mean')\n",
    "        print(\"Mean Annual rolling Temp on \"+str(np.datetime64(startDate,'M')+np.timedelta64(11, 'M'))+\" (set \"+str(setStr)+\"): \"+str(round(dataSetRollingMean.values[11], 3))+\" Celcius\")\n",
    "        print(\"Mean Annual rolling Temp on \"+str(endDate)+\" (set \"+str(setStr)+\"): \"+str(round(dataSetRollingMean.values[-1],3))+\" Celcius\")\n",
    "        print(\"Mean Rolling Temp increase across time (set \"+str(setStr)+\"): \"+str(round(dataSetRollingMean.values[-1] - dataSetRollingMean.values[11],4))+\" Celcius\")\n",
    "    plt.legend(bbox_to_anchor=(1.05, 1), loc='upper left')\n",
    "    plt.title(\"Mean Southern Ocean Temp - \" + str(startDate)+\" to \"+str(endDate))\n",
    "    \n",
    "def multiTimePlotCompare(dataSet1, dataSet2, startDate1, startDate2, months, setStr, plotNo):\n",
    "    '''Displays Ocean temperature for two given data sets as a line graph'''\n",
    "    plt.figure(plotNo)\n",
    "    dataSet1.plot(label='Monthly Mean for '+startDate1+\" series\")\n",
    "    dataSet2.plot(label='Monthly Mean for '+startDate2+\" series\")\n",
    "    plt.legend(bbox_to_anchor=(1.05, 1), loc='upper left')\n",
    "    plt.title(\"Mean Southern Ocean Temp - \" + str(startDate1)+\" and \"+str(startDate2)+\" for \"+str(months)+\" months (Set \"+setStr+\")\")\n",
    "    \n",
    "def multiTimePlotStd(dataSet, startDate, endDate, plotNo):\n",
    "    '''Displays Ocean temperature standard devation for given data set as line graph'''\n",
    "    plt.figure(plotNo)\n",
    "    dataSet.plot(label='Monthly Std')\n",
    "    plt.legend(bbox_to_anchor=(1.05, 1), loc='upper left')\n",
    "    plt.title(\"Mean Southern Ocean Temp Deviation - \" + str(startDate)+\" to \"+str(endDate)+\" (\"+str(fileCount)+\" datasets)\")\n",
    "    \n",
    "print(\"Plotting functions defined\")"
   ]
  },
  {
   "cell_type": "markdown",
   "metadata": {},
   "source": [
    "#### Testing"
   ]
  },
  {
   "cell_type": "code",
   "execution_count": 6,
   "metadata": {
    "jupyter": {
     "source_hidden": true
    }
   },
   "outputs": [
    {
     "data": {
      "image/png": "[encoded data removed]",
      "text/plain": [
       "<Figure size 432x288 with 1 Axes>"
      ]
     },
     "metadata": {
      "needs_background": "light"
     },
     "output_type": "display_data"
    },
    {
     "data": {
      "image/png": "[encoded data removed]",
      "text/plain": [
       "<Figure size 432x288 with 1 Axes>"
      ]
     },
     "metadata": {
      "needs_background": "light"
     },
     "output_type": "display_data"
    }
   ],
   "source": [
    "rangeAllDateCalc('2004-01','2004-12', True, 1)"
   ]
  },
  {
   "cell_type": "code",
   "execution_count": 7,
   "metadata": {
    "jupyter": {
     "source_hidden": true
    }
   },
   "outputs": [
    {
     "data": {
      "image/png": "[encoded data removed]",
      "text/plain": [
       "<Figure size 432x288 with 1 Axes>"
      ]
     },
     "metadata": {
      "needs_background": "light"
     },
     "output_type": "display_data"
    }
   ],
   "source": [
    "rangeSoloCompareCal('2004-01','2014-01',12,0,1)"
   ]
  },
  {
   "cell_type": "code",
   "execution_count": null,
   "metadata": {},
   "outputs": [],
   "source": []
  }
 ],
 "metadata": {
  "kernelspec": {
   "display_name": "Python 3",
   "language": "python",
   "name": "python3"
  },
  "language_info": {
   "codemirror_mode": {
    "name": "ipython",
    "version": 3
   },
   "file_extension": ".py",
   "mimetype": "text/x-python",
   "name": "python",
   "nbconvert_exporter": "python",
   "pygments_lexer": "ipython3",
   "version": "3.8.6"
  }
 },
 "nbformat": 4,
 "nbformat_minor": 4
}
