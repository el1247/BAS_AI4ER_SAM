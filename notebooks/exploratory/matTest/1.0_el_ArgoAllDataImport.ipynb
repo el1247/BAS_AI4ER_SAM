{
 "cells": [
  {
   "cell_type": "markdown",
   "id": "b5fa07db",
   "metadata": {},
   "source": [
    "# Mat loading test"
   ]
  },
  {
   "cell_type": "code",
   "execution_count": 1,
   "id": "afda6f60",
   "metadata": {},
   "outputs": [
    {
     "name": "stdout",
     "output_type": "stream",
     "text": [
      "Imports finished\n"
     ]
    }
   ],
   "source": [
    "import h5py\n",
    "import numpy as np\n",
    "import pandas as pd\n",
    "\n",
    "print(\"Imports finished\")"
   ]
  },
  {
   "cell_type": "code",
   "execution_count": 2,
   "id": "e7d02551",
   "metadata": {},
   "outputs": [
    {
     "data": {
      "text/plain": [
       "<KeysViewHDF5 ['#refs#', 'MLD', 'MLDmax_from_grid', 'P', 'PTint', 'Sint', 'Tint', 'dectime', 'dynht300_1500', 'gammaint', 'gamman', 'lat', 'lon', 'maxpresslevel', 'numpresslevels', 'press', 'psal', 'ptemp', 'pvortint', 'temp']>"
      ]
     },
     "execution_count": 2,
     "metadata": {},
     "output_type": "execute_result"
    }
   ],
   "source": [
    "variables = ['lon', 'lat', 'dynht300_1500', 'Tint', 'Sint', 'dectime']\n",
    "mat = h5py.File(\"SO_ARGO_all.mat\")\n",
    "mat.keys()"
   ]
  },
  {
   "cell_type": "code",
   "execution_count": 3,
   "id": "4ff81875",
   "metadata": {},
   "outputs": [
    {
     "data": {
      "text/plain": [
       "<HDF5 dataset \"lat\": shape (290520, 1), type \"<f8\">"
      ]
     },
     "execution_count": 3,
     "metadata": {},
     "output_type": "execute_result"
    }
   ],
   "source": [
    "mat[\"lat\"]"
   ]
  },
  {
   "cell_type": "code",
   "execution_count": 4,
   "id": "3a2706a9",
   "metadata": {},
   "outputs": [],
   "source": [
    "refsNP = np.array(mat[\"#refs#\"]).flatten()\n",
    "latNP = np.array(mat[\"lat\"]).flatten()\n",
    "lonNP = np.array(mat[\"lon\"]).flatten()\n",
    "tempNP = np.array(mat[\"temp\"]).flatten()\n",
    "timeNP = np.array(mat[\"dectime\"]).flatten()\n",
    "#TintNP = np.array(mat[\"Tint\"]).flatten()\n",
    "tempNp = np.array(mat[\"temp\"])"
   ]
  },
  {
   "cell_type": "code",
   "execution_count": 5,
   "id": "5e62fa7f",
   "metadata": {
    "scrolled": true
   },
   "outputs": [
    {
     "data": {
      "text/plain": [
       "array([[<HDF5 object reference>],\n",
       "       [<HDF5 object reference>],\n",
       "       [<HDF5 object reference>],\n",
       "       ...,\n",
       "       [<HDF5 object reference>],\n",
       "       [<HDF5 object reference>],\n",
       "       [<HDF5 object reference>]], dtype=object)"
      ]
     },
     "execution_count": 5,
     "metadata": {},
     "output_type": "execute_result"
    }
   ],
   "source": [
    "tempNp"
   ]
  },
  {
   "cell_type": "code",
   "execution_count": 6,
   "id": "bc0ed96c",
   "metadata": {},
   "outputs": [
    {
     "data": {
      "text/plain": [
       "array(<HDF5 object reference>, dtype=object)"
      ]
     },
     "execution_count": 6,
     "metadata": {},
     "output_type": "execute_result"
    }
   ],
   "source": [
    "np.array(tempNp[0][0])"
   ]
  },
  {
   "cell_type": "markdown",
   "id": "eaaaab56",
   "metadata": {},
   "source": [
    "<br>"
   ]
  },
  {
   "cell_type": "code",
   "execution_count": 7,
   "id": "b9baf341",
   "metadata": {},
   "outputs": [],
   "source": [
    "df = pd.DataFrame()\n",
    "#df[\"#refs#\"] = refsNP\n",
    "df[\"Lon\"] = lonNP\n",
    "df[\"Lat\"] = latNP\n",
    "#df[\"time\"] = timeNP\n",
    "#df[\"Tint\"] = TintNP"
   ]
  },
  {
   "cell_type": "code",
   "execution_count": 8,
   "id": "bcd12e6a",
   "metadata": {},
   "outputs": [
    {
     "data": {
      "text/html": [
       "<div>\n",
       "<style scoped>\n",
       "    .dataframe tbody tr th:only-of-type {\n",
       "        vertical-align: middle;\n",
       "    }\n",
       "\n",
       "    .dataframe tbody tr th {\n",
       "        vertical-align: top;\n",
       "    }\n",
       "\n",
       "    .dataframe thead th {\n",
       "        text-align: right;\n",
       "    }\n",
       "</style>\n",
       "<table border=\"1\" class=\"dataframe\">\n",
       "  <thead>\n",
       "    <tr style=\"text-align: right;\">\n",
       "      <th></th>\n",
       "      <th>Lon</th>\n",
       "      <th>Lat</th>\n",
       "    </tr>\n",
       "  </thead>\n",
       "  <tbody>\n",
       "    <tr>\n",
       "      <th>0</th>\n",
       "      <td>51.946999</td>\n",
       "      <td>-45.966000</td>\n",
       "    </tr>\n",
       "    <tr>\n",
       "      <th>1</th>\n",
       "      <td>51.582001</td>\n",
       "      <td>-45.755001</td>\n",
       "    </tr>\n",
       "    <tr>\n",
       "      <th>2</th>\n",
       "      <td>51.514000</td>\n",
       "      <td>-45.618000</td>\n",
       "    </tr>\n",
       "    <tr>\n",
       "      <th>3</th>\n",
       "      <td>51.548000</td>\n",
       "      <td>-45.588001</td>\n",
       "    </tr>\n",
       "    <tr>\n",
       "      <th>4</th>\n",
       "      <td>51.466999</td>\n",
       "      <td>-45.645000</td>\n",
       "    </tr>\n",
       "    <tr>\n",
       "      <th>...</th>\n",
       "      <td>...</td>\n",
       "      <td>...</td>\n",
       "    </tr>\n",
       "    <tr>\n",
       "      <th>290515</th>\n",
       "      <td>103.670000</td>\n",
       "      <td>-63.492000</td>\n",
       "    </tr>\n",
       "    <tr>\n",
       "      <th>290516</th>\n",
       "      <td>102.676000</td>\n",
       "      <td>-63.183000</td>\n",
       "    </tr>\n",
       "    <tr>\n",
       "      <th>290517</th>\n",
       "      <td>103.065000</td>\n",
       "      <td>-62.209000</td>\n",
       "    </tr>\n",
       "    <tr>\n",
       "      <th>290518</th>\n",
       "      <td>102.403000</td>\n",
       "      <td>-62.492000</td>\n",
       "    </tr>\n",
       "    <tr>\n",
       "      <th>290519</th>\n",
       "      <td>103.233000</td>\n",
       "      <td>-61.967000</td>\n",
       "    </tr>\n",
       "  </tbody>\n",
       "</table>\n",
       "<p>290520 rows × 2 columns</p>\n",
       "</div>"
      ],
      "text/plain": [
       "               Lon        Lat\n",
       "0        51.946999 -45.966000\n",
       "1        51.582001 -45.755001\n",
       "2        51.514000 -45.618000\n",
       "3        51.548000 -45.588001\n",
       "4        51.466999 -45.645000\n",
       "...            ...        ...\n",
       "290515  103.670000 -63.492000\n",
       "290516  102.676000 -63.183000\n",
       "290517  103.065000 -62.209000\n",
       "290518  102.403000 -62.492000\n",
       "290519  103.233000 -61.967000\n",
       "\n",
       "[290520 rows x 2 columns]"
      ]
     },
     "execution_count": 8,
     "metadata": {},
     "output_type": "execute_result"
    }
   ],
   "source": [
    "df"
   ]
  },
  {
   "cell_type": "code",
   "execution_count": 9,
   "id": "b44969fb",
   "metadata": {},
   "outputs": [
    {
     "data": {
      "text/html": [
       "<div>\n",
       "<style scoped>\n",
       "    .dataframe tbody tr th:only-of-type {\n",
       "        vertical-align: middle;\n",
       "    }\n",
       "\n",
       "    .dataframe tbody tr th {\n",
       "        vertical-align: top;\n",
       "    }\n",
       "\n",
       "    .dataframe thead th {\n",
       "        text-align: right;\n",
       "    }\n",
       "</style>\n",
       "<table border=\"1\" class=\"dataframe\">\n",
       "  <thead>\n",
       "    <tr style=\"text-align: right;\">\n",
       "      <th></th>\n",
       "      <th>Lon</th>\n",
       "      <th>Lat</th>\n",
       "    </tr>\n",
       "  </thead>\n",
       "  <tbody>\n",
       "    <tr>\n",
       "      <th>0</th>\n",
       "      <td>51.946999</td>\n",
       "      <td>-45.966000</td>\n",
       "    </tr>\n",
       "    <tr>\n",
       "      <th>1</th>\n",
       "      <td>51.582001</td>\n",
       "      <td>-45.755001</td>\n",
       "    </tr>\n",
       "    <tr>\n",
       "      <th>2</th>\n",
       "      <td>51.514000</td>\n",
       "      <td>-45.618000</td>\n",
       "    </tr>\n",
       "    <tr>\n",
       "      <th>3</th>\n",
       "      <td>51.548000</td>\n",
       "      <td>-45.588001</td>\n",
       "    </tr>\n",
       "    <tr>\n",
       "      <th>4</th>\n",
       "      <td>51.466999</td>\n",
       "      <td>-45.645000</td>\n",
       "    </tr>\n",
       "    <tr>\n",
       "      <th>...</th>\n",
       "      <td>...</td>\n",
       "      <td>...</td>\n",
       "    </tr>\n",
       "    <tr>\n",
       "      <th>290515</th>\n",
       "      <td>103.670000</td>\n",
       "      <td>-63.492000</td>\n",
       "    </tr>\n",
       "    <tr>\n",
       "      <th>290516</th>\n",
       "      <td>102.676000</td>\n",
       "      <td>-63.183000</td>\n",
       "    </tr>\n",
       "    <tr>\n",
       "      <th>290517</th>\n",
       "      <td>103.065000</td>\n",
       "      <td>-62.209000</td>\n",
       "    </tr>\n",
       "    <tr>\n",
       "      <th>290518</th>\n",
       "      <td>102.403000</td>\n",
       "      <td>-62.492000</td>\n",
       "    </tr>\n",
       "    <tr>\n",
       "      <th>290519</th>\n",
       "      <td>103.233000</td>\n",
       "      <td>-61.967000</td>\n",
       "    </tr>\n",
       "  </tbody>\n",
       "</table>\n",
       "<p>290388 rows × 2 columns</p>\n",
       "</div>"
      ],
      "text/plain": [
       "               Lon        Lat\n",
       "0        51.946999 -45.966000\n",
       "1        51.582001 -45.755001\n",
       "2        51.514000 -45.618000\n",
       "3        51.548000 -45.588001\n",
       "4        51.466999 -45.645000\n",
       "...            ...        ...\n",
       "290515  103.670000 -63.492000\n",
       "290516  102.676000 -63.183000\n",
       "290517  103.065000 -62.209000\n",
       "290518  102.403000 -62.492000\n",
       "290519  103.233000 -61.967000\n",
       "\n",
       "[290388 rows x 2 columns]"
      ]
     },
     "execution_count": 9,
     "metadata": {},
     "output_type": "execute_result"
    }
   ],
   "source": [
    "df.drop_duplicates()"
   ]
  },
  {
   "cell_type": "code",
   "execution_count": null,
   "id": "895fbacd",
   "metadata": {},
   "outputs": [],
   "source": []
  }
 ],
 "metadata": {
  "kernelspec": {
   "display_name": "Python 3 (ipykernel)",
   "language": "python",
   "name": "python3"
  },
  "language_info": {
   "codemirror_mode": {
    "name": "ipython",
    "version": 3
   },
   "file_extension": ".py",
   "mimetype": "text/x-python",
   "name": "python",
   "nbconvert_exporter": "python",
   "pygments_lexer": "ipython3",
   "version": "3.9.5"
  }
 },
 "nbformat": 4,
 "nbformat_minor": 5
}
