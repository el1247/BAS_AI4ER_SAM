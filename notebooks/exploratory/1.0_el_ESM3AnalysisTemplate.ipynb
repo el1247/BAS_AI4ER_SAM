{
 "cells": [
  {
   "cell_type": "markdown",
   "metadata": {},
   "source": [
    "# ESM3 Template\n",
    "Template for ESM3 handling. Link to [Data analysis](#Data-Analysis)."
   ]
  },
  {
   "cell_type": "markdown",
   "metadata": {},
   "source": [
    "#### Dask"
   ]
  },
  {
   "cell_type": "code",
   "execution_count": 1,
   "metadata": {},
   "outputs": [
    {
     "data": {
      "text/html": [
       "<table style=\"border: 2px solid white;\">\n",
       "<tr>\n",
       "<td style=\"vertical-align: top; border: 0px solid white\">\n",
       "<h3 style=\"text-align: left;\">Client</h3>\n",
       "<ul style=\"text-align: left; list-style: none; margin: 0; padding: 0;\">\n",
       "  <li><b>Scheduler: </b>tcp://127.0.0.1:37813</li>\n",
       "  <li><b>Dashboard: </b><a href='http://127.0.0.1:8787/status' target='_blank'>http://127.0.0.1:8787/status</a></li>\n",
       "</ul>\n",
       "</td>\n",
       "<td style=\"vertical-align: top; border: 0px solid white\">\n",
       "<h3 style=\"text-align: left;\">Cluster</h3>\n",
       "<ul style=\"text-align: left; list-style:none; margin: 0; padding: 0;\">\n",
       "  <li><b>Workers: </b>4</li>\n",
       "  <li><b>Cores: </b>4</li>\n",
       "  <li><b>Memory: </b>25.77 GB</li>\n",
       "</ul>\n",
       "</td>\n",
       "</tr>\n",
       "</table>"
      ],
      "text/plain": [
       "<Client: 'tcp://127.0.0.1:37813' processes=4 threads=4, memory=25.77 GB>"
      ]
     },
     "execution_count": 1,
     "metadata": {},
     "output_type": "execute_result"
    }
   ],
   "source": [
    "from dask.distributed import Client\n",
    "\n",
    "client = Client(\"tcp://127.0.0.1:37813\")\n",
    "client"
   ]
  },
  {
   "cell_type": "markdown",
   "metadata": {},
   "source": [
    "<br>"
   ]
  },
  {
   "cell_type": "markdown",
   "metadata": {},
   "source": [
    "#### Choices for data"
   ]
  },
  {
   "cell_type": "code",
   "execution_count": 2,
   "metadata": {},
   "outputs": [],
   "source": [
    "#Experiment data for analysis\n",
    "dataVariableId = 'thetao'\n",
    "dataExperimentId = 'historical'\n",
    "dataSourceID = 'E3SM-1-0'\n",
    "\n",
    "#Custom Variables\n",
    "latSel = slice(-89.5,-29.5) #Selected latitude to be investigated\n",
    "maskName = \"OceanMaskVolcello2\""
   ]
  },
  {
   "cell_type": "markdown",
   "metadata": {},
   "source": [
    "<br>"
   ]
  },
  {
   "cell_type": "markdown",
   "metadata": {},
   "source": [
    "#### Imports"
   ]
  },
  {
   "cell_type": "code",
   "execution_count": 3,
   "metadata": {
    "jupyter": {
     "source_hidden": true
    }
   },
   "outputs": [
    {
     "name": "stdout",
     "output_type": "stream",
     "text": [
      "Imports complete\n"
     ]
    }
   ],
   "source": [
    "import cartopy.crs as ccrs\n",
    "#import cdstoolbox as ct\n",
    "import dask.dataframe as dd\n",
    "import fsspec\n",
    "import numpy as np\n",
    "import matplotlib.pyplot as plt\n",
    "import pandas as pd\n",
    "import xarray as xr\n",
    "import zarr\n",
    "\n",
    "from dask import delayed\n",
    "from matplotlib.pyplot import cm\n",
    "print(\"Imports complete\")"
   ]
  },
  {
   "cell_type": "markdown",
   "metadata": {},
   "source": [
    "<br>"
   ]
  },
  {
   "cell_type": "markdown",
   "metadata": {},
   "source": [
    "#### Data loading\n",
    "<b>Loading the ESM data</b>"
   ]
  },
  {
   "cell_type": "code",
   "execution_count": 4,
   "metadata": {
    "jupyter": {
     "source_hidden": true
    }
   },
   "outputs": [
    {
     "name": "stdout",
     "output_type": "stream",
     "text": [
      "ESM data sucessfully loaded.\n"
     ]
    }
   ],
   "source": [
    "df = pd.read_csv('https://storage.googleapis.com/cmip6/cmip6-zarr-consolidated-stores.csv')\n",
    "dfFilt = df[df.variable_id.eq('thetao') & df.experiment_id.eq('historical') & df.source_id.eq('E3SM-1-0')]\n",
    "dfArea = df[df.variable_id.eq('areacello') & df.source_id.eq('CESM2')]\n",
    "\n",
    "fileSetList = []\n",
    "for i in range(len(dfFilt)):\n",
    "    zstore = dfFilt.zstore.values[i]\n",
    "    mapper = fsspec.get_mapper(zstore)\n",
    "    fileRaw = xr.open_zarr(mapper, consolidated=True)\n",
    "    fileSetList.append(fileRaw)\n",
    "fileCount = len(fileSetList)\n",
    "\n",
    "dsArea = xr.open_zarr(fsspec.get_mapper(dfArea.zstore.values[1]), consolidated=True)\n",
    "dataAreaRaw = dsArea.areacello\n",
    "\n",
    "for i in range(fileCount): #Formatting dates into np.datetime64 format\n",
    "    startDateIterate = np.datetime64(fileSetList[i]['time'].values[0],'M')\n",
    "    endDateIterate = np.datetime64(fileSetList[i]['time'].values[-1],'M') + np.timedelta64(1,'M')\n",
    "    fileSetList[i]['time']=('time', np.arange(startDateIterate, endDateIterate, dtype='datetime64[M]'))\n",
    "    fileSetList[i]['time_bnds']=('time_bnds', np.arange(startDateIterate, endDateIterate, dtype='datetime64[M]')) \n",
    "fileSet = xr.combine_nested(fileSetList, concat_dim='RunID') #Combining data sets\n",
    "\n",
    "dfESMLat = fileSet.thetao.sel(lat=latSel) #Selection of latitude\n",
    "dfESMLat = dfESMLat.reset_coords(drop=True) #Removes lev if single value\n",
    "\n",
    "globalStartDate = dfESMLat[\"time\"][0].values\n",
    "globalDateInc = dfESMLat[\"time\"][1].values - globalStartDate\n",
    "#np.datetime64(globalDateInc,'D')\n",
    "globalEndDateIn = dfESMLat[\"time\"][-1].values\n",
    "globalEndDateOut = globalEndDateIn + globalDateInc\n",
    "\n",
    "globalStartDateStr = str(globalStartDate)[:7]\n",
    "globalEndDateInStr = str(globalEndDateIn)[:7]\n",
    "globalEndDateOutStr = str(globalEndDateOut)[:7]\n",
    "\n",
    "print(\"ESM data sucessfully loaded.\")"
   ]
  },
  {
   "cell_type": "markdown",
   "metadata": {},
   "source": [
    "<br>\n",
    "<b>Loading the ocean mask</b>"
   ]
  },
  {
   "cell_type": "code",
   "execution_count": 5,
   "metadata": {
    "jupyter": {
     "source_hidden": true
    }
   },
   "outputs": [
    {
     "name": "stdout",
     "output_type": "stream",
     "text": [
      "Mask Loaded into oceanMask\n"
     ]
    }
   ],
   "source": [
    "maskFile = xr.open_dataset(maskName)\n",
    "oceanMask = maskFile.to_array()\n",
    "print(\"Mask Loaded into oceanMask\")"
   ]
  },
  {
   "cell_type": "markdown",
   "metadata": {},
   "source": [
    "<br>"
   ]
  },
  {
   "cell_type": "markdown",
   "metadata": {},
   "source": [
    "#### Calculation Functions\n",
    "<b>Functions:</b><br>\n",
    "<ul>\n",
    "</ul>"
   ]
  },
  {
   "cell_type": "code",
   "execution_count": 6,
   "metadata": {
    "jupyter": {
     "source_hidden": true
    }
   },
   "outputs": [
    {
     "name": "stdout",
     "output_type": "stream",
     "text": [
      "Calculation functions defined\n"
     ]
    }
   ],
   "source": [
    "print(\"Calculation functions defined\")"
   ]
  },
  {
   "cell_type": "markdown",
   "metadata": {},
   "source": [
    "<br>"
   ]
  },
  {
   "cell_type": "markdown",
   "metadata": {},
   "source": [
    "#### Plotting Functions\n",
    "<b>Functions:</b><br>\n",
    "<ul>\n",
    "<li>mapPlot - plots the Southern Ocean orthographic project of the input data set, with input title and figure number.\n",
    "</ul>"
   ]
  },
  {
   "cell_type": "code",
   "execution_count": 7,
   "metadata": {
    "jupyter": {
     "source_hidden": true
    }
   },
   "outputs": [
    {
     "name": "stdout",
     "output_type": "stream",
     "text": [
      "Plotting functions defined\n"
     ]
    }
   ],
   "source": [
    "def mapPlot(dataSet, title, plotNo):\n",
    "    '''Displays given data set on a map'''\n",
    "    plt.figure(plotNo, figsize= (7,7))\n",
    "    p=dataSet.plot(x='lon',y='lat',transform=ccrs.PlateCarree(),\n",
    "    subplot_kws={'projection': ccrs.SouthPolarStereo()})\n",
    "    p.axes.gridlines()\n",
    "    p.axes.coastlines()\n",
    "    plt.title(str(title))\n",
    "\n",
    "print(\"Plotting functions defined\")"
   ]
  },
  {
   "cell_type": "markdown",
   "metadata": {},
   "source": [
    "<br>"
   ]
  },
  {
   "cell_type": "markdown",
   "metadata": {},
   "source": [
    "#### Plotting the mask"
   ]
  },
  {
   "cell_type": "code",
   "execution_count": 8,
   "metadata": {
    "jupyter": {
     "source_hidden": true
    }
   },
   "outputs": [
    {
     "data": {
      "image/png": "[encoded data removed]",
      "text/plain": [
       "<Figure size 504x504 with 2 Axes>"
      ]
     },
     "metadata": {
      "needs_background": "light"
     },
     "output_type": "display_data"
    }
   ],
   "source": [
    "mapPlot(oceanMask, \"Loaded Southern Ocean Mask\", 1)"
   ]
  },
  {
   "cell_type": "markdown",
   "metadata": {},
   "source": [
    "<br>"
   ]
  },
  {
   "cell_type": "markdown",
   "metadata": {},
   "source": [
    "#### Data Analysis"
   ]
  },
  {
   "cell_type": "code",
   "execution_count": null,
   "metadata": {},
   "outputs": [],
   "source": []
  }
 ],
 "metadata": {
  "kernelspec": {
   "display_name": "Python 3",
   "language": "python",
   "name": "python3"
  },
  "language_info": {
   "codemirror_mode": {
    "name": "ipython",
    "version": 3
   },
   "file_extension": ".py",
   "mimetype": "text/x-python",
   "name": "python",
   "nbconvert_exporter": "python",
   "pygments_lexer": "ipython3",
   "version": "3.8.6"
  }
 },
 "nbformat": 4,
 "nbformat_minor": 4
}
