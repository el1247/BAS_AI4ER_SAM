{
 "cells": [
  {
   "cell_type": "markdown",
   "id": "2dc4aeea",
   "metadata": {},
   "source": [
    "# GMM model load/unload"
   ]
  },
  {
   "cell_type": "markdown",
   "id": "f768bd8c",
   "metadata": {},
   "source": [
    "### Dask Import"
   ]
  },
  {
   "cell_type": "markdown",
   "id": "dc7638d0",
   "metadata": {},
   "source": [
    "<br>"
   ]
  },
  {
   "cell_type": "markdown",
   "id": "445a627f",
   "metadata": {},
   "source": [
    "### Choices for project"
   ]
  },
  {
   "cell_type": "code",
   "execution_count": null,
   "id": "33f18222",
   "metadata": {},
   "outputs": [],
   "source": []
  },
  {
   "cell_type": "markdown",
   "id": "80359bbe",
   "metadata": {},
   "source": [
    "<br>"
   ]
  },
  {
   "cell_type": "markdown",
   "id": "95a14363",
   "metadata": {},
   "source": [
    "### Libary Imports"
   ]
  },
  {
   "cell_type": "code",
   "execution_count": null,
   "id": "e88d5abb",
   "metadata": {},
   "outputs": [],
   "source": []
  },
  {
   "cell_type": "markdown",
   "id": "d676b867",
   "metadata": {},
   "source": [
    "<br>"
   ]
  },
  {
   "cell_type": "markdown",
   "id": "69efd538",
   "metadata": {},
   "source": [
    "### Calculation Functions\n",
    "<b>Functions:</b><br>\n",
    "<ul>\n",
    "<li>\n",
    "</ul>"
   ]
  },
  {
   "cell_type": "code",
   "execution_count": 5,
   "id": "7a3c3891",
   "metadata": {},
   "outputs": [
    {
     "name": "stdout",
     "output_type": "stream",
     "text": [
      "Calculation functions loaded.\n"
     ]
    }
   ],
   "source": [
    "def saveModel(GMModel, modelName = \"new_gmm\"):\n",
    "    '''Saves the input GMM model's weights, means and covariances. Assigns input name if provided to model.'''\n",
    "    GMModel_name = str(modelName)\n",
    "    #export pca\n",
    "    np.save(modelName + '_weights', GMModel.weights_, allow_pickle=False)\n",
    "    np.save(modelName + '_means', GMModel.means_, allow_pickle=False)\n",
    "    np.save(modelName + '_covariances', GMModel.covariances_, allow_pickle=False)\n",
    "    return 0\n",
    "\n",
    "def loadModel(modelName:str):\n",
    "    '''Loades the input GMM model named in the functions input. Returns loaded model.'''\n",
    "    means = np.load(modelName + '_means.npy')\n",
    "    covar = np.load(modelName + '_covariances.npy')\n",
    "    GMModel = mixture.GaussianMixture(n_components = len(means), covariance_type='full')\n",
    "    GMModel.precisions_cholesky_ = np.linalg.cholesky(np.linalg.inv(covar))\n",
    "    GMModel.weights_ = np.load(modelName + '_weights.npy')\n",
    "    GMModel.means_ = means\n",
    "    GMModel.covariances_ = covar\n",
    "    return GMModel\n",
    "\n",
    "print(\"Calculation functions loaded.\")"
   ]
  },
  {
   "cell_type": "markdown",
   "id": "8996ec2e",
   "metadata": {},
   "source": [
    "<br>"
   ]
  },
  {
   "cell_type": "markdown",
   "id": "9e98f15b",
   "metadata": {},
   "source": [
    "### Plotting Functions\n",
    "<b>Functions:</b><br>\n",
    "<ul>\n",
    "<li>\n",
    "</ul>"
   ]
  },
  {
   "cell_type": "code",
   "execution_count": null,
   "id": "2aa87fcc",
   "metadata": {},
   "outputs": [],
   "source": []
  },
  {
   "cell_type": "markdown",
   "id": "a92a08f4",
   "metadata": {},
   "source": [
    "<br>"
   ]
  },
  {
   "cell_type": "markdown",
   "id": "190f72e7",
   "metadata": {},
   "source": [
    "### Loading model"
   ]
  },
  {
   "cell_type": "code",
   "execution_count": null,
   "id": "7d048471",
   "metadata": {},
   "outputs": [],
   "source": []
  }
 ],
 "metadata": {
  "kernelspec": {
   "display_name": "Python 3 (ipykernel)",
   "language": "python",
   "name": "python3"
  },
  "language_info": {
   "codemirror_mode": {
    "name": "ipython",
    "version": 3
   },
   "file_extension": ".py",
   "mimetype": "text/x-python",
   "name": "python",
   "nbconvert_exporter": "python",
   "pygments_lexer": "ipython3",
   "version": "3.9.5"
  }
 },
 "nbformat": 4,
 "nbformat_minor": 5
}
