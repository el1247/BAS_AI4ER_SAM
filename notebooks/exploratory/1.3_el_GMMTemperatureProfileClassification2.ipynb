{
 "cells": [
  {
   "cell_type": "markdown",
   "id": "bdc517e6",
   "metadata": {},
   "source": [
    "# Temperature Profile Classification - 2 Class system\n",
    "GMM classification of Southern Ocean Argo float temperature profile data. This notebook looks at automatic generation for PCA N values, with 2 classes.<br><br>\n",
    "### Dask import"
   ]
  },
  {
   "cell_type": "markdown",
   "id": "d50e4480",
   "metadata": {},
   "source": [
    "<br>"
   ]
  },
  {
   "cell_type": "markdown",
   "id": "c8c6e30b",
   "metadata": {},
   "source": [
    "### Choices for data"
   ]
  },
  {
   "cell_type": "code",
   "execution_count": 1,
   "id": "ec5b60bf",
   "metadata": {},
   "outputs": [],
   "source": [
    "#File imports\n",
    "maskName = \"OceanMaskESM2\"\n",
    "dataFileName = \"GMMSampleData3AL.npy\"\n",
    "sampleFileName = \"GMMSampleTimeGeo3.npy\"\n",
    "scalerName = 'GMMScaler3AL.bin'\n",
    "\n",
    "#Data definitions\n",
    "lastESMDecade = slice('2005-01','2014-12')\n",
    "\n",
    "#Custom GMM variables\n",
    "pcaThreshold = 0.98\n",
    "pcaNControl = 0 #set to int value to select, otherwise pcaThreshold is used to automatically assign value\n",
    "firstBicLoopControl = 10 #number of times bic value is calculated for each number of classes\n",
    "cvType = \"full\""
   ]
  },
  {
   "cell_type": "markdown",
   "id": "23caf619",
   "metadata": {},
   "source": [
    "<br>"
   ]
  },
  {
   "cell_type": "markdown",
   "id": "21db0f41",
   "metadata": {},
   "source": [
    "### Libaries and Modules\n",
    "Importing the necessary libaries and modules for the notebook."
   ]
  },
  {
   "cell_type": "code",
   "execution_count": 2,
   "id": "776c8d22",
   "metadata": {
    "jupyter": {
     "source_hidden": true
    }
   },
   "outputs": [
    {
     "name": "stdout",
     "output_type": "stream",
     "text": [
      "Imports complete\n"
     ]
    }
   ],
   "source": [
    "#import cartopy.crs as ccrs\n",
    "#import cartopy.feature as cfeature\n",
    "import dask.dataframe as dd\n",
    "import fsspec\n",
    "import matplotlib.dates as mdates\n",
    "import matplotlib as mpl ###\n",
    "import numpy as np\n",
    "import matplotlib.pyplot as plt\n",
    "import pandas as pd\n",
    "import matplotlib.ticker as ticker\n",
    "import xarray as xr\n",
    "import zarr\n",
    "\n",
    "from dask import delayed\n",
    "from joblib import dump, load\n",
    "from matplotlib.pyplot import cm\n",
    "from sklearn import mixture\n",
    "from sklearn.decomposition import PCA\n",
    "from sklearn import preprocessing\n",
    "\n",
    "print(\"Imports complete\")"
   ]
  },
  {
   "cell_type": "markdown",
   "id": "a9da3a08",
   "metadata": {},
   "source": [
    "<br>"
   ]
  },
  {
   "cell_type": "markdown",
   "id": "32be7b76",
   "metadata": {},
   "source": [
    "### Importing data sets\n",
    "Importing the data for the models.\n",
    "\n",
    "<b>Import sample data set and corresponding time/geo data</b>"
   ]
  },
  {
   "cell_type": "code",
   "execution_count": 3,
   "id": "f8fbab95",
   "metadata": {
    "jupyter": {
     "source_hidden": true
    }
   },
   "outputs": [
    {
     "name": "stdout",
     "output_type": "stream",
     "text": [
      "Sample data loaded into sampleData.\n",
      "Sample time geo data loaded into sampleTimeGeo.\n"
     ]
    }
   ],
   "source": [
    "sampleDataLabelled = np.load(dataFileName)\n",
    "sampleDepthAxis = sampleDataLabelled[0]\n",
    "sampleData = sampleDataLabelled[1:]\n",
    "\n",
    "sampleTimeGeo = np.load(sampleFileName, allow_pickle=True)\n",
    "print(\"Sample data loaded into sampleData.\\nSample time geo data loaded into sampleTimeGeo.\")"
   ]
  },
  {
   "cell_type": "markdown",
   "id": "2e8c0751",
   "metadata": {},
   "source": [
    "<br>\n",
    "<b>Loading ocean Mask</b>"
   ]
  },
  {
   "cell_type": "code",
   "execution_count": 4,
   "id": "3e0217cd",
   "metadata": {
    "jupyter": {
     "source_hidden": true
    }
   },
   "outputs": [
    {
     "name": "stdout",
     "output_type": "stream",
     "text": [
      "Mask Loaded and stored in oceanMask\n"
     ]
    }
   ],
   "source": [
    "maskFile = xr.open_dataset(maskName)\n",
    "oceanMask = maskFile.to_array()\n",
    "print(\"Mask Loaded and stored in oceanMask\")"
   ]
  },
  {
   "cell_type": "markdown",
   "id": "078cf5e7",
   "metadata": {},
   "source": [
    "<br>\n",
    "<b>Combining sample data and sample time/geo data</b>"
   ]
  },
  {
   "cell_type": "code",
   "execution_count": 5,
   "id": "bb9f3043",
   "metadata": {
    "jupyter": {
     "source_hidden": true
    }
   },
   "outputs": [
    {
     "name": "stdout",
     "output_type": "stream",
     "text": [
      "SampleTimeGeo converted to datafile (sampleMetaDF). SampleData converted to datafile (sampleDataDF). Datafiles combined into sampleDF.\n"
     ]
    }
   ],
   "source": [
    "metaData = {\"Lat\":sampleTimeGeo[0], \"Lon\":sampleTimeGeo[1], \"Time\":sampleTimeGeo[2]}\n",
    "sampleMetaDF = pd.DataFrame(metaData, columns=[\"Lat\", \"Lon\", \"Time\"])\n",
    "sampleDataDF = pd.DataFrame(sampleData, columns=sampleDepthAxis)\n",
    "sampleDF = pd.concat([sampleMetaDF,sampleDataDF], axis=1)\n",
    "print(\"SampleTimeGeo converted to datafile (sampleMetaDF). SampleData converted to datafile (sampleDataDF). Datafiles combined into sampleDF.\")"
   ]
  },
  {
   "cell_type": "markdown",
   "id": "40a6eda5",
   "metadata": {},
   "source": [
    "<br>"
   ]
  },
  {
   "cell_type": "markdown",
   "id": "e419ce41",
   "metadata": {},
   "source": [
    "### Plotting functions\n",
    "<b>Functions:</b>\n",
    "<ul>\n",
    "<li>bicPlot - Plots BIC score array against component number.\n",
    "<li>locationPlotTime - Plots locations of an input data array on a map with a colour scale for time.\n",
    "<li>tempPointPlot - Plots the temperature profile of a single point against depth.\n",
    "<li>tempGroupPlot - Plots the mean/+-1std temperature profiles of all classes in input dataArrays (seperate mean and std).\n",
    "</ul>"
   ]
  },
  {
   "cell_type": "code",
   "execution_count": 6,
   "id": "056c2c01",
   "metadata": {
    "jupyter": {
     "source_hidden": true
    }
   },
   "outputs": [
    {
     "name": "stdout",
     "output_type": "stream",
     "text": [
      "Plotting functions defined\n"
     ]
    }
   ],
   "source": [
    "def bicPlot(bicArray, startNo, endNo, skipNo, title, label, plotNo):\n",
    "    '''Plots input BIC score array'''\n",
    "    plt.figure(plotNo, figsize=(20, 8))\n",
    "    plt.style.use(\"seaborn-darkgrid\")\n",
    "    componentRange = range(startNo, endNo, skipNo)\n",
    "    plt.plot(componentRange, bicArray, label = str(label))\n",
    "    \n",
    "    bicArrayMax = np.max(bicArray)\n",
    "    bicArrayMin = np.min(bicArray)\n",
    "    bicRange = bicArrayMax-bicArrayMin\n",
    "    plt.xticks(componentRange)\n",
    "    plt.xlim([startNo-0.5, endNo+0.5])\n",
    "    plt.ylim([bicArrayMin-0.05*bicRange, bicArrayMax+0.05*bicRange])\n",
    "    \n",
    "    plt.legend(bbox_to_anchor=(1.05, 1), loc='upper left')\n",
    "    plt.xlabel(\"Number of components\")\n",
    "    plt.ylabel(\"BIC score\")\n",
    "    plt.title(title)\n",
    "    \n",
    "    \n",
    "def locationPlotGroup(metaDataArray, size, plotNo):\n",
    "    '''Plots locations of numpy arrays with group colour scheme'''\n",
    "    plt.figure(plotNo, figsize=size)\n",
    "    ax = plt.axes(projection=ccrs.SouthPolarStereo())\n",
    "    ax.add_feature(cfeature.OCEAN)\n",
    "    ax.add_feature(cfeature.COASTLINE)\n",
    "    ax.coastlines()\n",
    "    ax.gridlines()\n",
    "    im = ax.scatter(metaDataArray[1], metaDataArray[0], transform=ccrs.PlateCarree(), c =  metaDataArray[3], cmap='RdBu_r')\n",
    "    cb = plt.colorbar(im)\n",
    "    plt.plot(np.arange(0,361,1),np.ones(361)*-29.5, transform=ccrs.PlateCarree(), color=\"Black\")\n",
    "    plt.title(\"Grouped Sample Locations (\"+str(len(metaDataArray[0]))+\")\")  \n",
    "    \n",
    "    \n",
    "def locationPlotTime(dataArray, size, plotNo):\n",
    "    '''Plots locations of numpy arrays with date colour scheme'''\n",
    "    plt.figure(plotNo, figsize=size)\n",
    "    ax = plt.axes(projection=ccrs.SouthPolarStereo())\n",
    "    ax.add_feature(cfeature.OCEAN)\n",
    "    ax.add_feature(cfeature.COASTLINE)\n",
    "    ax.coastlines()\n",
    "    ax.gridlines()\n",
    "    im = ax.scatter(dataArray[1], dataArray[0], transform=ccrs.PlateCarree(), c= mdates.date2num(dataArray[2]), cmap='brg')\n",
    "    cb = plt.colorbar(im)\n",
    "    loc = mdates.AutoDateLocator()\n",
    "    cb.ax.yaxis.set_major_locator(loc)\n",
    "    cb.ax.yaxis.set_major_formatter(mdates.ConciseDateFormatter(loc))\n",
    "    plt.plot(np.arange(0,361,1),np.ones(361)*-29.5, transform=ccrs.PlateCarree(), color=\"Black\")\n",
    "    plt.title(\"Sample Locations (\"+str(len(dataArray[0]))+\")\")\n",
    "    \n",
    "    \n",
    "def tempPointPlot(dataArray, label, title, plotNo):\n",
    "    '''Displays temperature profile plot for a given data set, singular point'''\n",
    "    plt.figure(plotNo)\n",
    "    plt.plot(dataArray, sampleDepthAxis, label = label)\n",
    "    plt.legend(bbox_to_anchor=(1.05, 1), loc='upper left')\n",
    "    plt.title(str(title))\n",
    "    plt.gca().invert_yaxis()\n",
    "\n",
    "    \n",
    "def tempGroupProfile(dataArrayMean, dataArrayStd, plotNo):\n",
    "    '''Displays mean /+-1 std temperature profiles for classes in dataArrayMean and dataArrayStd. Requires sampleDepthAxis'''\n",
    "    dataCompNo = len(dataArrayMean)   \n",
    "    columnNames = sampleDFSortMeans.columns.values\n",
    "    dataStart = np.where(columnNames == sampleDepthAxis[0])[0][0]\n",
    "    subPlotX = int(np.ceil(dataCompNo/5))\n",
    "    \n",
    "    plt.figure(plotNo, figsize=(35, 10*subPlotX))\n",
    "    plt.style.use(\"seaborn-darkgrid\")\n",
    "    palette = cm.coolwarm(np.linspace(0,1, dataCompNo))\n",
    "    \n",
    "    for i in range(dataCompNo):\n",
    "        meanT = dataArrayMean.iloc[i, dataStart:].to_numpy()\n",
    "        stdT = dataArrayStd.iloc[i, dataStart:].to_numpy()\n",
    "        \n",
    "        plt.subplot(subPlotX, 5, i+1)\n",
    "        plt.plot(meanT, sampleDepthAxis, marker='', linestyle=\"solid\", color=palette[i], linewidth=6.0, alpha=0.9)\n",
    "        plt.plot(meanT+stdT, sampleDepthAxis, marker='', linestyle=\"dashed\", color=palette[i], linewidth=6.0, alpha=0.9)\n",
    "        plt.plot(meanT-stdT, sampleDepthAxis, marker='', linestyle=\"dashed\", color=palette[i], linewidth=6.0, alpha=0.9)\n",
    "        \n",
    "        plt.xlim([-2,20])\n",
    "        plt.ylim([0,1000])\n",
    "        ax = plt.gca()\n",
    "        ax.invert_yaxis()\n",
    "        ax.grid(True)\n",
    "        \n",
    "        fs = 16 #font size\n",
    "        plt.xlabel(\"Temperature (°C)\", fontsize=fs)\n",
    "        plt.ylabel(\"Depth (m)\", fontsize=fs)\n",
    "        plt.title(\"Class = \"+str(i), fontsize=fs)\n",
    "        mpl.rc(\"xtick\", labelsize=fs)\n",
    "        mpl.rc(\"ytick\", labelsize=fs)\n",
    "        \n",
    "        '''\n",
    "        textstr = '\\n'.join((\n",
    "            r'N profs. = %i' % (nprofs[nrow], ),\n",
    "            r'Mean lon = %i' % (meanLon, ),\n",
    "            r'Mean lat = %i' % (meanLat, ),\n",
    "            r'Post. = %i' % (meanMaxPP, )))\n",
    "        props = dict(boxstyle=\"round\", facecolor=\"wheat\", alpha=0.8)\n",
    "        ax.text(0.45, 0.25, textstr, transform=ax.transAxes, fontsize=fs, verticalalignment='top', bbox=props)'''\n",
    "\n",
    "print(\"Plotting functions defined\")"
   ]
  },
  {
   "cell_type": "markdown",
   "id": "0af211da",
   "metadata": {},
   "source": [
    "<br>"
   ]
  },
  {
   "cell_type": "markdown",
   "id": "d787c98a",
   "metadata": {},
   "source": [
    "### Scaling\n",
    "<b>Scaling Implementation</b><br>\n",
    "Applying scaling to the data set, ensuring all levels have same influence over data."
   ]
  },
  {
   "cell_type": "code",
   "execution_count": 7,
   "id": "b86a18d5",
   "metadata": {},
   "outputs": [
    {
     "name": "stdout",
     "output_type": "stream",
     "text": [
      "Scaling of sampleData complete, stored in sampleDataScaled.\n"
     ]
    }
   ],
   "source": [
    "scalerLoad = load(scalerName)\n",
    "sampleDataScaled = scalerLoad.transform(sampleData)\n",
    "print(\"Scaling of sampleData complete, stored in sampleDataScaled.\")"
   ]
  },
  {
   "cell_type": "markdown",
   "id": "be4337e7",
   "metadata": {},
   "source": [
    "<br>\n",
    "<b>Scaling comparison</b><br>\n",
    "Comparing raw temperature profiles with their scaled equivalent. To show individual plots set solo to True."
   ]
  },
  {
   "cell_type": "code",
   "execution_count": 8,
   "id": "ab7f4d02",
   "metadata": {
    "jupyter": {
     "source_hidden": true
    }
   },
   "outputs": [
    {
     "data": {
      "image/png": "[encoded data removed]",
      "text/plain": [
       "<Figure size 432x288 with 1 Axes>"
      ]
     },
     "metadata": {
      "needs_background": "light"
     },
     "output_type": "display_data"
    },
    {
     "data": {
      "image/png": "[encoded data removed]",
      "text/plain": [
       "<Figure size 432x288 with 1 Axes>"
      ]
     },
     "metadata": {
      "needs_background": "light"
     },
     "output_type": "display_data"
    }
   ],
   "source": [
    "solo = False #Set to true for seperate plots, false for combined plots.\n",
    "for i in range(5):\n",
    "    x = np.random.randint(10000)\n",
    "    tempPointPlot(sampleData[x], x, \"sample raw \"+str(x), solo*2*i)\n",
    "    tempPointPlot(sampleDataScaled[x], x, \"sample scaled \"+str(x), solo*2*i+1)"
   ]
  },
  {
   "cell_type": "markdown",
   "id": "e0a4a7e7",
   "metadata": {},
   "source": [
    "<br>"
   ]
  },
  {
   "cell_type": "markdown",
   "id": "9600f5b9",
   "metadata": {},
   "source": [
    "### Principle Component Analysis\n",
    "This process is performed to reduce the number of dimensions of the the data, as well as to improve overall model\n",
    "performance."
   ]
  },
  {
   "cell_type": "code",
   "execution_count": 9,
   "id": "5e30fc2f",
   "metadata": {
    "jupyter": {
     "source_hidden": true
    }
   },
   "outputs": [
    {
     "name": "stdout",
     "output_type": "stream",
     "text": [
      "For 1 PCA components, 0.9260884852934781 is explained.\n",
      "For 2 PCA components, 0.959009683179961 is explained.\n",
      "For 3 PCA components, 0.9753445589951486 is explained.\n",
      "For 4 PCA components, 0.9845374266645447 is explained.\n",
      "Threshold of 0.98 exceeded, pcaNControl assigned a value of 4\n",
      "For 5 PCA components, 0.990897209567326 is explained.\n",
      "For 6 PCA components, 0.9946821501169145 is explained.\n",
      "For 7 PCA components, 0.9967613032492346 is explained.\n",
      "\n",
      "Assigned value of pcaNcontrol = 4\n"
     ]
    }
   ],
   "source": [
    "for i in range(1,8):\n",
    "    pca = PCA(n_components=i) #initialising PCA \n",
    "    pca.fit(sampleDataScaled) #fitting model to data\n",
    "    totalVarianceExplained = np.sum(pca.explained_variance_ratio_)\n",
    "    print(\"For \"+str(i)+\" PCA components, \"+str(totalVarianceExplained)+\" is explained.\") #total variance explained by model.\n",
    "    if not(pcaNControl) and (totalVarianceExplained > pcaThreshold):\n",
    "        pcaNControl = i\n",
    "        print(\"Threshold of \"+str(pcaThreshold)+\" exceeded, pcaNControl assigned a value of \"+str(i))\n",
    "print(\"\\nAssigned value of pcaNcontrol = \"+str(pcaNControl))"
   ]
  },
  {
   "cell_type": "code",
   "execution_count": 10,
   "id": "1ec7fa15",
   "metadata": {
    "jupyter": {
     "source_hidden": true
    }
   },
   "outputs": [
    {
     "name": "stdout",
     "output_type": "stream",
     "text": [
      "Data passed through PCA to sampleDataPCA.\n"
     ]
    }
   ],
   "source": [
    "pca = PCA(n_components=pcaNControl) #initialising PCA \n",
    "pca.fit(sampleDataScaled) #fitting model to data\n",
    "sampleDataScaledPCA = pca.transform(sampleDataScaled) #converting input data into PCA representation\n",
    "print(\"Data passed through PCA to sampleDataPCA.\")"
   ]
  },
  {
   "cell_type": "markdown",
   "id": "dc2ae818",
   "metadata": {},
   "source": [
    "<br>"
   ]
  },
  {
   "cell_type": "markdown",
   "id": "287b2e47",
   "metadata": {},
   "source": [
    "### BIC score calculation\n",
    "To identify the best fitting models a BIC score metric is used, with a lower BIC score indicating a better model. BIC scores for each number of classes will differ based on starting values used in the modelling, so repeated runs of the BIC scoring helps to provide a more overall score for each number of classes.\n",
    "\n",
    "The number of iterations for each quantity of classes can be controlled by modifying the bicLoopControl variable at the top of the notepad in [Choices for data](#Choices-for-data)."
   ]
  },
  {
   "cell_type": "code",
   "execution_count": 11,
   "id": "822a187e",
   "metadata": {
    "jupyter": {
     "source_hidden": true
    }
   },
   "outputs": [
    {
     "name": "stdout",
     "output_type": "stream",
     "text": [
      "Modelling and scoring complete. The lowest bicScore was 155573.22 for 2 from run 0.\n",
      "BIC values are stored in bicRaw, with lowest stored in bicMin and model in bestGGModel.\n"
     ]
    }
   ],
   "source": [
    "bicMin = np.infty\n",
    "bicComponentMin = 2\n",
    "bicRaw = np.empty(shape=(0))\n",
    "\n",
    "bicCurrentArray = np.empty(shape=(0))\n",
    "for i in range(firstBicLoopControl):    #Number of iterations for each number of components\n",
    "    GMModel = mixture.GaussianMixture(n_components = 2, covariance_type = cvType) #Run modelling\n",
    "    GMModel.fit(sampleDataScaledPCA)\n",
    "\n",
    "    bicCurrent = GMModel.bic(sampleDataScaledPCA)\n",
    "    bicCurrentArray = np.append(bicCurrentArray, bicCurrent)\n",
    "    if bicCurrent < bicMin:   #if latest BIC score is lowest, update and save model\n",
    "        bicMin = bicCurrent\n",
    "        bicComponentMin = 2\n",
    "        bestGMModel = GMModel\n",
    "        GMMRunId = i\n",
    "\n",
    "bicRaw = np.append(bicRaw, bicCurrentArray)  \n",
    "    \n",
    "componentNo = bestGMModel.n_components\n",
    "\n",
    "if componentNo != bicComponentMin:\n",
    "    print(\"Warning, error with assigning optimum GMM\")\n",
    "\n",
    "print(\"Modelling and scoring complete. The lowest bicScore was \"+str(np.round(bicMin, 2))+\" for \"+str(bicComponentMin)+\" from run \"+str(GMMRunId)+\".\")\n",
    "print(\"BIC values are stored in bicRaw, with lowest stored in bicMin and model in bestGGModel.\")"
   ]
  },
  {
   "cell_type": "markdown",
   "id": "fd40e66b",
   "metadata": {},
   "source": [
    "<br>"
   ]
  },
  {
   "cell_type": "markdown",
   "id": "c931a7d5",
   "metadata": {},
   "source": [
    "### BIC score calculations\n",
    "The average and minimum BIC scores for each number of components are calculated and stored in the corresponding arrays."
   ]
  },
  {
   "cell_type": "code",
   "execution_count": 12,
   "id": "f76b7808",
   "metadata": {
    "jupyter": {
     "source_hidden": true
    }
   },
   "outputs": [
    {
     "name": "stdout",
     "output_type": "stream",
     "text": [
      "BIC score sorting finished. Lowest scores for each component value stored in bicMin, with average BIC scores stored in bicAvg.\n"
     ]
    }
   ],
   "source": [
    "bicAvg = np.infty\n",
    "\n",
    "bicAvg = np.mean(bicRaw)\n",
    "print(\"BIC score sorting finished. Lowest scores for each component value stored in bicMin, with average BIC scores stored in bicAvg.\")"
   ]
  },
  {
   "cell_type": "markdown",
   "id": "4ba5d7c3",
   "metadata": {},
   "source": [
    "<br>"
   ]
  },
  {
   "cell_type": "markdown",
   "id": "fbc2b6f3",
   "metadata": {},
   "source": [
    "### BIC score plotting\n",
    "Plotting the BIC scores from the modelling. The minimum BIC score indicates the ideal number of classes to be used in the model."
   ]
  },
  {
   "cell_type": "code",
   "execution_count": 13,
   "id": "bd1eb53f",
   "metadata": {
    "jupyter": {
     "source_hidden": true
    }
   },
   "outputs": [
    {
     "data": {
      "image/png": "[encoded data removed]",
      "text/plain": [
       "<Figure size 1440x576 with 1 Axes>"
      ]
     },
     "metadata": {
      "needs_background": "light"
     },
     "output_type": "display_data"
    },
    {
     "name": "stdout",
     "output_type": "stream",
     "text": [
      "Component number with minimum BIC score: 2.\n"
     ]
    }
   ],
   "source": [
    "bicPlot(bicRaw, 0, firstBicLoopControl, 1, \"Initial BIC minimum plot\", \"Minimum\", 1)\n",
    "plt.axhline(bicMin, color = \"Red\", ls=\"--\")\n",
    "\n",
    "plt.show()\n",
    "print(\"Component number with minimum BIC score: \"+str(componentNo)+\".\")"
   ]
  },
  {
   "cell_type": "markdown",
   "id": "7cfbec42",
   "metadata": {},
   "source": [
    "<br>"
   ]
  },
  {
   "cell_type": "markdown",
   "id": "2f82e3c6",
   "metadata": {},
   "source": [
    "### Assigning class labels to each profile using the best GMM\n",
    "Implementation of classification."
   ]
  },
  {
   "cell_type": "code",
   "execution_count": 14,
   "id": "d498c5a9",
   "metadata": {
    "jupyter": {
     "source_hidden": true
    }
   },
   "outputs": [
    {
     "name": "stdout",
     "output_type": "stream",
     "text": [
      "Labels identified for model (2 components) and added to sampleDF with associated probability.\n"
     ]
    }
   ],
   "source": [
    "labels = bestGMModel.predict(sampleDataScaledPCA) #assignment of class labels from best GMM\n",
    "\n",
    "posteriorProbs = bestGMModel.predict_proba(sampleDataScaledPCA) #probability of profile belonging in class\n",
    "maxPosteriorProbs = np.max(posteriorProbs, axis=1)\n",
    "\n",
    "try:\n",
    "    sampleDF = sampleDF.drop(columns=[\"label\", \"max posterior prob\"]) #removes any previous labels or probabilities\n",
    "except:\n",
    "    pass\n",
    "sampleDF.insert(3, \"label\", labels, True)\n",
    "sampleDF.insert(4, \"max posterior prob\", maxPosteriorProbs, True)\n",
    "print(\"Labels identified for model (\"+str(componentNo)+\" components) and added to sampleDF with associated probability.\")"
   ]
  },
  {
   "cell_type": "markdown",
   "id": "fe5a175f",
   "metadata": {},
   "source": [
    "<br>"
   ]
  },
  {
   "cell_type": "markdown",
   "id": "a2e4df6e",
   "metadata": {},
   "source": [
    "### Calculating properties of profiles based on class assignment"
   ]
  },
  {
   "cell_type": "code",
   "execution_count": 15,
   "id": "653311df",
   "metadata": {
    "jupyter": {
     "source_hidden": true
    }
   },
   "outputs": [
    {
     "name": "stdout",
     "output_type": "stream",
     "text": [
      "Sample dataframe grouped by label (sampleDFGrouped) and means taken (sampleDFMeans).\n"
     ]
    }
   ],
   "source": [
    "sampleDFGrouped = sampleDF.groupby(\"label\") #group profiles according to label\n",
    "sampleDFMeans = sampleDFGrouped.mean() #calculate mean of all profiles in each class\n",
    "print(\"Sample dataframe grouped by label (sampleDFGrouped) and means taken (sampleDFMeans).\")"
   ]
  },
  {
   "cell_type": "markdown",
   "id": "569aee70",
   "metadata": {},
   "source": [
    "<br>"
   ]
  },
  {
   "cell_type": "markdown",
   "id": "a2d9dfcd",
   "metadata": {},
   "source": [
    "### Sort the labels based on mean near-surface temperatures"
   ]
  },
  {
   "cell_type": "code",
   "execution_count": 16,
   "id": "92584bf8",
   "metadata": {
    "jupyter": {
     "source_hidden": true
    }
   },
   "outputs": [
    {
     "name": "stdout",
     "output_type": "stream",
     "text": [
      "Sorted labels assigned to sampleDF based on surface temperature, coldest to warmest.\n"
     ]
    }
   ],
   "source": [
    "surfaceMeans = sampleDFMeans[sampleDepthAxis[0]].to_numpy() #Takes first temperature data column\n",
    "surfaceMeansOrder = np.argsort(surfaceMeans)\n",
    "di = dict(zip(surfaceMeansOrder, range(0, componentNo)))\n",
    "\n",
    "try:\n",
    "    sampleDF = sampleDF.drop(columns = \"labelSorted\")\n",
    "except:\n",
    "    pass\n",
    "sampleDF.insert(5, \"labelSorted\", sampleDF[\"label\"].map(di))\n",
    "print(\"Sorted labels assigned to sampleDF based on surface temperature, coldest to warmest.\")"
   ]
  },
  {
   "cell_type": "markdown",
   "id": "7e34de77",
   "metadata": {},
   "source": [
    "<br>"
   ]
  },
  {
   "cell_type": "markdown",
   "id": "be1391af",
   "metadata": {},
   "source": [
    "### Use pandas to calculate the properties of the profiles by sorted label"
   ]
  },
  {
   "cell_type": "code",
   "execution_count": 17,
   "id": "0317feed",
   "metadata": {
    "jupyter": {
     "source_hidden": true
    }
   },
   "outputs": [
    {
     "name": "stdout",
     "output_type": "stream",
     "text": [
      "sampleDF grouped by sorted label (sampleDFSortGrouped), with means and standard deviations calculated for each group (sampleDFSortMeans, sampleDFSortStd).\n",
      " Number of samples in each group calculated and stored in profileCount.\n"
     ]
    }
   ],
   "source": [
    "sampleDFSortGrouped = sampleDF.groupby(\"labelSorted\")\n",
    "sampleDFSortMeans = sampleDFSortGrouped.mean()\n",
    "sampleDFSortStds = sampleDFSortGrouped.std()\n",
    "profileCount = sampleDFSortGrouped[sampleDF.columns[0]].count().to_numpy()\n",
    "print(\"sampleDF grouped by sorted label (sampleDFSortGrouped), with means and standard deviations calculated for each group (sampleDFSortMeans, sampleDFSortStd).\")\n",
    "print(\" Number of samples in each group calculated and stored in profileCount.\")"
   ]
  },
  {
   "cell_type": "markdown",
   "id": "8907468f",
   "metadata": {},
   "source": [
    "<br>"
   ]
  },
  {
   "cell_type": "markdown",
   "id": "d32a4b7c",
   "metadata": {},
   "source": [
    "### Confirmation of sorting\n",
    "The means printed below should be ordered, going from coldest to warmest."
   ]
  },
  {
   "cell_type": "code",
   "execution_count": 18,
   "id": "c333270e",
   "metadata": {
    "jupyter": {
     "source_hidden": true
    }
   },
   "outputs": [
    {
     "name": "stdout",
     "output_type": "stream",
     "text": [
      "labelSorted\n",
      "0     0.979058\n",
      "1    13.449980\n",
      "Name: 5.0, dtype: float64\n"
     ]
    }
   ],
   "source": [
    "print(sampleDFSortMeans[sampleDataDF.columns[0]])"
   ]
  },
  {
   "cell_type": "markdown",
   "id": "30b82c73",
   "metadata": {},
   "source": [
    "<br>"
   ]
  },
  {
   "cell_type": "markdown",
   "id": "0e0ac42c",
   "metadata": {},
   "source": [
    "### Plotting the means and standard deviations of the classes by profile"
   ]
  },
  {
   "cell_type": "code",
   "execution_count": 19,
   "id": "6fb0b88b",
   "metadata": {
    "jupyter": {
     "source_hidden": true
    }
   },
   "outputs": [
    {
     "data": {
      "image/png": "[encoded data removed]",
      "text/plain": [
       "<Figure size 2520x720 with 2 Axes>"
      ]
     },
     "metadata": {},
     "output_type": "display_data"
    }
   ],
   "source": [
    "tempGroupProfile(sampleDFSortMeans, sampleDFSortStds, 1)\n",
    "plt.show()"
   ]
  },
  {
   "cell_type": "markdown",
   "id": "46b22f73",
   "metadata": {},
   "source": [
    "<br>"
   ]
  },
  {
   "cell_type": "markdown",
   "id": "6f1081e2",
   "metadata": {},
   "source": [
    "### Plotting location and cluster"
   ]
  },
  {
   "cell_type": "code",
   "execution_count": 20,
   "id": "430ecd51",
   "metadata": {
    "jupyter": {
     "source_hidden": true
    }
   },
   "outputs": [
    {
     "name": "stdout",
     "output_type": "stream",
     "text": [
      "Sorted label added to sampleMetaData\n"
     ]
    }
   ],
   "source": [
    "sampleLabelData = np.array(sampleDF[\"labelSorted\"])\n",
    "sampleMetaData = np.append(sampleTimeGeo, [sampleLabelData], axis = 0)\n",
    "print(\"Sorted label added to sampleMetaData\")"
   ]
  },
  {
   "cell_type": "code",
   "execution_count": null,
   "id": "d6365677",
   "metadata": {
    "jupyter": {
     "source_hidden": true
    }
   },
   "outputs": [],
   "source": [
    "locationPlotGroup(sampleMetaData, (25,25), 1)"
   ]
  }
 ],
 "metadata": {
  "kernelspec": {
   "display_name": "Python 3 (ipykernel)",
   "language": "python",
   "name": "python3"
  },
  "language_info": {
   "codemirror_mode": {
    "name": "ipython",
    "version": 3
   },
   "file_extension": ".py",
   "mimetype": "text/x-python",
   "name": "python",
   "nbconvert_exporter": "python",
   "pygments_lexer": "ipython3",
   "version": "3.9.5"
  }
 },
 "nbformat": 4,
 "nbformat_minor": 5
}
